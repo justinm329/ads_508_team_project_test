{
 "cells": [
  {
   "cell_type": "markdown",
   "id": "84663f3a-a108-4934-818c-5e184b870342",
   "metadata": {},
   "source": [
    "## Import libraries needed"
   ]
  },
  {
   "cell_type": "code",
   "execution_count": 1,
   "id": "c19d3ca5-5e20-43a4-8962-904cf0b141af",
   "metadata": {
    "tags": []
   },
   "outputs": [
    {
     "name": "stdout",
     "output_type": "stream",
     "text": [
      "sagemaker.config INFO - Not applying SDK defaults from location: /etc/xdg/sagemaker/config.yaml\n",
      "sagemaker.config INFO - Not applying SDK defaults from location: /root/.config/sagemaker/config.yaml\n"
     ]
    }
   ],
   "source": [
    "import pandas as pd\n",
    "import numpy as np\n",
    "import boto3\n",
    "from pyathena import connect\n",
    "import sagemaker\n",
    "from sklearn.pipeline import make_pipeline, Pipeline\n",
    "from sklearn.preprocessing import OneHotEncoder, StandardScaler\n",
    "from sklearn.decomposition import PCA\n",
    "from sklearn.model_selection import train_test_split\n",
    "from sklearn.metrics import accuracy_score, confusion_matrix, classification_report\n",
    "import lightgbm as lgb\n",
    "from sklearn.ensemble import RandomForestClassifier\n",
    "from sklearn.metrics import confusion_matrix, accuracy_score, ConfusionMatrixDisplay, classification_report"
   ]
  },
  {
   "cell_type": "code",
   "execution_count": 2,
   "id": "04257e33-d008-4ee0-a2bd-a25f30ae62bf",
   "metadata": {
    "tags": []
   },
   "outputs": [
    {
     "name": "stdout",
     "output_type": "stream",
     "text": [
      "sagemaker.config INFO - Not applying SDK defaults from location: /etc/xdg/sagemaker/config.yaml\n",
      "sagemaker.config INFO - Not applying SDK defaults from location: /root/.config/sagemaker/config.yaml\n",
      "sagemaker.config INFO - Not applying SDK defaults from location: /etc/xdg/sagemaker/config.yaml\n",
      "sagemaker.config INFO - Not applying SDK defaults from location: /root/.config/sagemaker/config.yaml\n"
     ]
    }
   ],
   "source": [
    "## set the session and roles for AWS\n",
    "sagemaker_session = sagemaker.Session()\n",
    "role = sagemaker.get_execution_role()\n",
    "bucket = sagemaker_session.default_bucket()\n",
    "region = boto3.Session().region_name"
   ]
  },
  {
   "cell_type": "markdown",
   "id": "330c1ddf-6a16-473c-b5e3-803a58b30cb7",
   "metadata": {},
   "source": [
    "## Setup connection to Athena to pull in tables"
   ]
  },
  {
   "cell_type": "code",
   "execution_count": 3,
   "id": "0ea35e16-e613-436c-aa7f-e5e1cc368f7e",
   "metadata": {
    "tags": []
   },
   "outputs": [],
   "source": [
    "# Set S3 staging directory -- this is a temporary directory used for Athena queries\n",
    "s3_staging_dir = \"s3://{0}/athena/staging\".format(bucket)"
   ]
  },
  {
   "cell_type": "code",
   "execution_count": 4,
   "id": "84d7994f-b109-445b-989e-a7d69f2feb96",
   "metadata": {
    "tags": []
   },
   "outputs": [],
   "source": [
    "# create the connection, this will be used anytime we need to query data from Athena\n",
    "conn = connect(region_name=region, s3_staging_dir=s3_staging_dir)"
   ]
  },
  {
   "cell_type": "code",
   "execution_count": 5,
   "id": "e820da21-2287-464c-b3c7-0980ed984ab4",
   "metadata": {
    "tags": []
   },
   "outputs": [],
   "source": [
    "## Verify we have the database created\n",
    "statement = \"SHOW DATABASES\"\n",
    "db_show = pd.read_sql(statement, conn)\n",
    "db_show.head(5)\n",
    "## store teh db_name in a variable\n",
    "db_name = str(db_show.iloc[0]['database_name'])"
   ]
  },
  {
   "cell_type": "code",
   "execution_count": 6,
   "id": "ba242e33-071c-405a-90f9-a276215dc7ac",
   "metadata": {
    "tags": []
   },
   "outputs": [
    {
     "data": {
      "text/plain": [
       "'ads_508_team_5'"
      ]
     },
     "execution_count": 6,
     "metadata": {},
     "output_type": "execute_result"
    }
   ],
   "source": [
    "## we need to query the tables in and do a Join so it is one table to run our EDA off\n",
    "db_name"
   ]
  },
  {
   "cell_type": "markdown",
   "id": "18f1bfd2-4cb6-4121-b632-eed1fbe2a277",
   "metadata": {},
   "source": [
    "* Given the columns that are listed in each of these datasets, not all of the columns in any of the orders dataset is needed, once to look at in more detail are order_items: price, freight_value. order_payments: payment_type, payment_installments, payment_value. Order_reviews: review_score, orders_dataset: order_status"
   ]
  },
  {
   "cell_type": "markdown",
   "id": "c2207eee-df8a-41d9-94f0-817159bf647c",
   "metadata": {},
   "source": [
    "### Query in the data that we think is necessary for customer churn"
   ]
  },
  {
   "cell_type": "code",
   "execution_count": 7,
   "id": "53958744-b992-4f05-a51e-6bdc476e2587",
   "metadata": {
    "tags": []
   },
   "outputs": [],
   "source": [
    "churn_eda_query = \"\"\" SELECT\n",
    "                        c.*,\n",
    "                        ord.order_status,\n",
    "                        ord.order_purchase_timestamp,\n",
    "                        ordi.price,\n",
    "                        ordi.freight_value,\n",
    "                        ordp.payment_type,\n",
    "                        ordp.payment_installments,\n",
    "                        ordp.payment_value,\n",
    "                        ordr.review_score\n",
    "                    FROM\n",
    "                    {db}.customers_table c\n",
    "                    INNER JOIN {db}.orders_table ord ON ord.customer_id = c.customer_id \n",
    "                    INNER JOIN {db}.order_items_table ordi ON ordi.order_id = ord.order_id\n",
    "                    INNER JOIN {db}.order_payments_table ordp ON ordp.order_id = ord.order_id\n",
    "                    INNER JOIN {db}.order_reviews_table ordr ON ordr.order_id = ord.order_id\"\"\".format(db=db_name)"
   ]
  },
  {
   "cell_type": "code",
   "execution_count": 8,
   "id": "0aa8b501-6eb3-453f-97ad-2def71039f6d",
   "metadata": {
    "tags": []
   },
   "outputs": [
    {
     "data": {
      "text/html": [
       "<div>\n",
       "<style scoped>\n",
       "    .dataframe tbody tr th:only-of-type {\n",
       "        vertical-align: middle;\n",
       "    }\n",
       "\n",
       "    .dataframe tbody tr th {\n",
       "        vertical-align: top;\n",
       "    }\n",
       "\n",
       "    .dataframe thead th {\n",
       "        text-align: right;\n",
       "    }\n",
       "</style>\n",
       "<table border=\"1\" class=\"dataframe\">\n",
       "  <thead>\n",
       "    <tr style=\"text-align: right;\">\n",
       "      <th></th>\n",
       "      <th>customer_id</th>\n",
       "      <th>customer_unique_id</th>\n",
       "      <th>customer_zip_code_prefix</th>\n",
       "      <th>customer_city</th>\n",
       "      <th>customer_state</th>\n",
       "      <th>order_status</th>\n",
       "      <th>order_purchase_timestamp</th>\n",
       "      <th>price</th>\n",
       "      <th>freight_value</th>\n",
       "      <th>payment_type</th>\n",
       "      <th>payment_installments</th>\n",
       "      <th>payment_value</th>\n",
       "      <th>review_score</th>\n",
       "    </tr>\n",
       "  </thead>\n",
       "  <tbody>\n",
       "    <tr>\n",
       "      <th>0</th>\n",
       "      <td>\"06b8999e2fba1a1fbc88172c00ba8bc7\"</td>\n",
       "      <td>\"861eff4711a542e4b93843c6dd7febb0\"</td>\n",
       "      <td>None</td>\n",
       "      <td>franca</td>\n",
       "      <td>SP</td>\n",
       "      <td>delivered</td>\n",
       "      <td>2017-05-16 15:05:35</td>\n",
       "      <td>124.99</td>\n",
       "      <td>21.88</td>\n",
       "      <td>credit_card</td>\n",
       "      <td>2</td>\n",
       "      <td>146.87</td>\n",
       "      <td>4</td>\n",
       "    </tr>\n",
       "    <tr>\n",
       "      <th>1</th>\n",
       "      <td>\"18955e83d337fd6b2def6b18a428ac77\"</td>\n",
       "      <td>\"290c77bc529b7ac935b93aa66c333dc3\"</td>\n",
       "      <td>None</td>\n",
       "      <td>sao bernardo do campo</td>\n",
       "      <td>SP</td>\n",
       "      <td>delivered</td>\n",
       "      <td>2018-01-12 20:48:24</td>\n",
       "      <td>289.00</td>\n",
       "      <td>46.48</td>\n",
       "      <td>credit_card</td>\n",
       "      <td>8</td>\n",
       "      <td>335.48</td>\n",
       "      <td>5</td>\n",
       "    </tr>\n",
       "    <tr>\n",
       "      <th>2</th>\n",
       "      <td>\"4e7b3e00288586ebd08712fdd0374a03\"</td>\n",
       "      <td>\"060e732b5b29e8181a18229c7b0b2b5e\"</td>\n",
       "      <td>None</td>\n",
       "      <td>sao paulo</td>\n",
       "      <td>SP</td>\n",
       "      <td>delivered</td>\n",
       "      <td>2018-05-19 16:07:45</td>\n",
       "      <td>139.94</td>\n",
       "      <td>17.79</td>\n",
       "      <td>credit_card</td>\n",
       "      <td>7</td>\n",
       "      <td>157.73</td>\n",
       "      <td>5</td>\n",
       "    </tr>\n",
       "    <tr>\n",
       "      <th>3</th>\n",
       "      <td>b2b6027bc5c5109e529d4dc6358b12c3</td>\n",
       "      <td>\"259dac757896d24d7702b9acbbff3f3c\"</td>\n",
       "      <td>None</td>\n",
       "      <td>mogi das cruzes</td>\n",
       "      <td>SP</td>\n",
       "      <td>delivered</td>\n",
       "      <td>2018-03-13 16:06:38</td>\n",
       "      <td>149.94</td>\n",
       "      <td>23.36</td>\n",
       "      <td>credit_card</td>\n",
       "      <td>1</td>\n",
       "      <td>173.30</td>\n",
       "      <td>5</td>\n",
       "    </tr>\n",
       "    <tr>\n",
       "      <th>4</th>\n",
       "      <td>\"4f2d8ab171c80ec8364f7c12e35b23ad\"</td>\n",
       "      <td>\"345ecd01c38d18a9036ed96c73b8d066\"</td>\n",
       "      <td>None</td>\n",
       "      <td>campinas</td>\n",
       "      <td>SP</td>\n",
       "      <td>delivered</td>\n",
       "      <td>2018-07-29 09:51:30</td>\n",
       "      <td>230.00</td>\n",
       "      <td>22.25</td>\n",
       "      <td>credit_card</td>\n",
       "      <td>8</td>\n",
       "      <td>252.25</td>\n",
       "      <td>5</td>\n",
       "    </tr>\n",
       "  </tbody>\n",
       "</table>\n",
       "</div>"
      ],
      "text/plain": [
       "                          customer_id                  customer_unique_id  \\\n",
       "0  \"06b8999e2fba1a1fbc88172c00ba8bc7\"  \"861eff4711a542e4b93843c6dd7febb0\"   \n",
       "1  \"18955e83d337fd6b2def6b18a428ac77\"  \"290c77bc529b7ac935b93aa66c333dc3\"   \n",
       "2  \"4e7b3e00288586ebd08712fdd0374a03\"  \"060e732b5b29e8181a18229c7b0b2b5e\"   \n",
       "3    b2b6027bc5c5109e529d4dc6358b12c3  \"259dac757896d24d7702b9acbbff3f3c\"   \n",
       "4  \"4f2d8ab171c80ec8364f7c12e35b23ad\"  \"345ecd01c38d18a9036ed96c73b8d066\"   \n",
       "\n",
       "  customer_zip_code_prefix          customer_city customer_state order_status  \\\n",
       "0                     None                 franca             SP    delivered   \n",
       "1                     None  sao bernardo do campo             SP    delivered   \n",
       "2                     None              sao paulo             SP    delivered   \n",
       "3                     None        mogi das cruzes             SP    delivered   \n",
       "4                     None               campinas             SP    delivered   \n",
       "\n",
       "  order_purchase_timestamp   price  freight_value payment_type  \\\n",
       "0      2017-05-16 15:05:35  124.99          21.88  credit_card   \n",
       "1      2018-01-12 20:48:24  289.00          46.48  credit_card   \n",
       "2      2018-05-19 16:07:45  139.94          17.79  credit_card   \n",
       "3      2018-03-13 16:06:38  149.94          23.36  credit_card   \n",
       "4      2018-07-29 09:51:30  230.00          22.25  credit_card   \n",
       "\n",
       "   payment_installments  payment_value  review_score  \n",
       "0                     2         146.87             4  \n",
       "1                     8         335.48             5  \n",
       "2                     7         157.73             5  \n",
       "3                     1         173.30             5  \n",
       "4                     8         252.25             5  "
      ]
     },
     "execution_count": 8,
     "metadata": {},
     "output_type": "execute_result"
    }
   ],
   "source": [
    "main_df =pd.read_sql(churn_eda_query, conn)\n",
    "main_df.head()"
   ]
  },
  {
   "cell_type": "code",
   "execution_count": 9,
   "id": "487377a4-9ed0-4975-8a7e-e4be3812ab95",
   "metadata": {
    "tags": []
   },
   "outputs": [
    {
     "data": {
      "text/plain": [
       "customer_id                         object\n",
       "customer_unique_id                  object\n",
       "customer_zip_code_prefix            object\n",
       "customer_city                       object\n",
       "customer_state                      object\n",
       "order_status                        object\n",
       "order_purchase_timestamp    datetime64[ns]\n",
       "price                              float64\n",
       "freight_value                      float64\n",
       "payment_type                        object\n",
       "payment_installments                 int64\n",
       "payment_value                      float64\n",
       "review_score                         int64\n",
       "dtype: object"
      ]
     },
     "execution_count": 9,
     "metadata": {},
     "output_type": "execute_result"
    }
   ],
   "source": [
    "main_df.dtypes"
   ]
  },
  {
   "cell_type": "code",
   "execution_count": 10,
   "id": "5511601c-23be-4bd8-b676-f229edae0537",
   "metadata": {
    "tags": []
   },
   "outputs": [
    {
     "data": {
      "text/plain": [
       "1    114069\n",
       "0      4246\n",
       "Name: churn, dtype: int64"
      ]
     },
     "execution_count": 10,
     "metadata": {},
     "output_type": "execute_result"
    }
   ],
   "source": [
    "## In order for us to get teh customer churn we need to figure out who has made reorders and who has not, we can use the customer_id key \n",
    "## and teh customer unique key\n",
    "\n",
    "# conver teh timestamp to a date time\n",
    "main_df['order_purchase_timestamp'] = pd.to_datetime(main_df['order_purchase_timestamp'])\n",
    "# get tehf irst and last purchase for each customer\n",
    "purchase_dates = main_df.groupby('customer_unique_id').agg(first_purchase=pd.NamedAgg(column='order_purchase_timestamp', aggfunc='min'),\n",
    "                                                       last_purchase=pd.NamedAgg(column='order_purchase_timestamp', aggfunc='max')).reset_index()\n",
    "#Calculate the repurchase time in days for each customer\n",
    "purchase_dates['repurchase_time'] = (purchase_dates['last_purchase'] - purchase_dates['first_purchase']).dt.days\n",
    "churn_threshold = 180\n",
    "\n",
    "# Identify churned customers based on the churn threshold\n",
    "# Customers who have not made any repurchase within the churn threshold or who never made a repurchase\n",
    "purchase_dates['churn'] = ((purchase_dates['repurchase_time'] > churn_threshold) | (purchase_dates['repurchase_time'] == 0)).astype(int)\n",
    "df_with_churn = main_df.merge(purchase_dates[['customer_unique_id', 'churn']], on='customer_unique_id', how='inner')\n",
    "df_with_churn['churn'].value_counts()"
   ]
  },
  {
   "cell_type": "markdown",
   "id": "49166ed9-51f1-4841-9ef6-1b8eb0e753ce",
   "metadata": {},
   "source": [
    "### Churn Definition from above\n",
    "* A value of 1 indicates that customer has churned because they haven't made a repruchase within 180 days of their first purchase\n",
    "A churn value of 0 means that a customer has not churned, because they made a repurchase within 180 days after their first purchase"
   ]
  },
  {
   "cell_type": "code",
   "execution_count": 11,
   "id": "8a1150e8-0b2b-449f-96ec-4a5cc27a9bc2",
   "metadata": {
    "tags": []
   },
   "outputs": [
    {
     "data": {
      "text/html": [
       "<div>\n",
       "<style scoped>\n",
       "    .dataframe tbody tr th:only-of-type {\n",
       "        vertical-align: middle;\n",
       "    }\n",
       "\n",
       "    .dataframe tbody tr th {\n",
       "        vertical-align: top;\n",
       "    }\n",
       "\n",
       "    .dataframe thead th {\n",
       "        text-align: right;\n",
       "    }\n",
       "</style>\n",
       "<table border=\"1\" class=\"dataframe\">\n",
       "  <thead>\n",
       "    <tr style=\"text-align: right;\">\n",
       "      <th></th>\n",
       "      <th>price</th>\n",
       "      <th>freight_value</th>\n",
       "      <th>payment_installments</th>\n",
       "      <th>payment_value</th>\n",
       "      <th>review_score</th>\n",
       "      <th>churn</th>\n",
       "    </tr>\n",
       "  </thead>\n",
       "  <tbody>\n",
       "    <tr>\n",
       "      <th>count</th>\n",
       "      <td>118315.000000</td>\n",
       "      <td>118315.000000</td>\n",
       "      <td>118315.000000</td>\n",
       "      <td>118315.000000</td>\n",
       "      <td>118315.000000</td>\n",
       "      <td>118315.000000</td>\n",
       "    </tr>\n",
       "    <tr>\n",
       "      <th>mean</th>\n",
       "      <td>120.651027</td>\n",
       "      <td>20.033024</td>\n",
       "      <td>2.943498</td>\n",
       "      <td>172.575651</td>\n",
       "      <td>4.014554</td>\n",
       "      <td>0.964113</td>\n",
       "    </tr>\n",
       "    <tr>\n",
       "      <th>std</th>\n",
       "      <td>184.109626</td>\n",
       "      <td>15.836523</td>\n",
       "      <td>2.778022</td>\n",
       "      <td>267.104661</td>\n",
       "      <td>1.400186</td>\n",
       "      <td>0.186010</td>\n",
       "    </tr>\n",
       "    <tr>\n",
       "      <th>min</th>\n",
       "      <td>0.850000</td>\n",
       "      <td>0.000000</td>\n",
       "      <td>0.000000</td>\n",
       "      <td>0.000000</td>\n",
       "      <td>1.000000</td>\n",
       "      <td>0.000000</td>\n",
       "    </tr>\n",
       "    <tr>\n",
       "      <th>25%</th>\n",
       "      <td>39.900000</td>\n",
       "      <td>13.080000</td>\n",
       "      <td>1.000000</td>\n",
       "      <td>60.850000</td>\n",
       "      <td>3.000000</td>\n",
       "      <td>1.000000</td>\n",
       "    </tr>\n",
       "    <tr>\n",
       "      <th>50%</th>\n",
       "      <td>74.900000</td>\n",
       "      <td>16.280000</td>\n",
       "      <td>2.000000</td>\n",
       "      <td>108.200000</td>\n",
       "      <td>5.000000</td>\n",
       "      <td>1.000000</td>\n",
       "    </tr>\n",
       "    <tr>\n",
       "      <th>75%</th>\n",
       "      <td>134.900000</td>\n",
       "      <td>21.180000</td>\n",
       "      <td>4.000000</td>\n",
       "      <td>189.260000</td>\n",
       "      <td>5.000000</td>\n",
       "      <td>1.000000</td>\n",
       "    </tr>\n",
       "    <tr>\n",
       "      <th>max</th>\n",
       "      <td>6735.000000</td>\n",
       "      <td>409.680000</td>\n",
       "      <td>24.000000</td>\n",
       "      <td>13664.080000</td>\n",
       "      <td>5.000000</td>\n",
       "      <td>1.000000</td>\n",
       "    </tr>\n",
       "  </tbody>\n",
       "</table>\n",
       "</div>"
      ],
      "text/plain": [
       "               price  freight_value  payment_installments  payment_value  \\\n",
       "count  118315.000000  118315.000000         118315.000000  118315.000000   \n",
       "mean      120.651027      20.033024              2.943498     172.575651   \n",
       "std       184.109626      15.836523              2.778022     267.104661   \n",
       "min         0.850000       0.000000              0.000000       0.000000   \n",
       "25%        39.900000      13.080000              1.000000      60.850000   \n",
       "50%        74.900000      16.280000              2.000000     108.200000   \n",
       "75%       134.900000      21.180000              4.000000     189.260000   \n",
       "max      6735.000000     409.680000             24.000000   13664.080000   \n",
       "\n",
       "        review_score          churn  \n",
       "count  118315.000000  118315.000000  \n",
       "mean        4.014554       0.964113  \n",
       "std         1.400186       0.186010  \n",
       "min         1.000000       0.000000  \n",
       "25%         3.000000       1.000000  \n",
       "50%         5.000000       1.000000  \n",
       "75%         5.000000       1.000000  \n",
       "max         5.000000       1.000000  "
      ]
     },
     "execution_count": 11,
     "metadata": {},
     "output_type": "execute_result"
    }
   ],
   "source": [
    "df_with_churn.describe()"
   ]
  },
  {
   "cell_type": "code",
   "execution_count": 12,
   "id": "cbaf2182-a986-4d46-ba8d-270aa8eb374b",
   "metadata": {
    "tags": []
   },
   "outputs": [
    {
     "data": {
      "text/plain": [
       "customer_id                      0\n",
       "customer_unique_id               0\n",
       "customer_zip_code_prefix    118315\n",
       "customer_city                    0\n",
       "customer_state                   0\n",
       "order_status                     0\n",
       "order_purchase_timestamp         0\n",
       "price                            0\n",
       "freight_value                    0\n",
       "payment_type                     0\n",
       "payment_installments             0\n",
       "payment_value                    0\n",
       "review_score                     0\n",
       "churn                            0\n",
       "dtype: int64"
      ]
     },
     "execution_count": 12,
     "metadata": {},
     "output_type": "execute_result"
    }
   ],
   "source": [
    "df_with_churn.isnull().sum()"
   ]
  },
  {
   "cell_type": "code",
   "execution_count": 13,
   "id": "5e5f215a-2190-409f-80a6-ef893e8040b7",
   "metadata": {
    "tags": []
   },
   "outputs": [
    {
     "data": {
      "text/plain": [
       "delivered      115728\n",
       "shipped          1255\n",
       "canceled          570\n",
       "invoiced          376\n",
       "processing        376\n",
       "unavailable         7\n",
       "approved            3\n",
       "Name: order_status, dtype: int64"
      ]
     },
     "execution_count": 13,
     "metadata": {},
     "output_type": "execute_result"
    }
   ],
   "source": [
    "df_with_churn['order_status'].value_counts()"
   ]
  },
  {
   "cell_type": "code",
   "execution_count": 14,
   "id": "46289b99-83fb-4a8e-8747-5c18a2e4b1e6",
   "metadata": {
    "tags": []
   },
   "outputs": [
    {
     "data": {
      "text/plain": [
       "SP    49865\n",
       "RJ    15425\n",
       "MG    13718\n",
       "RS     6539\n",
       "PR     5988\n",
       "SC     4319\n",
       "BA     4069\n",
       "DF     2500\n",
       "GO     2453\n",
       "ES     2351\n",
       "PE     1903\n",
       "CE     1556\n",
       "MT     1128\n",
       "PA     1124\n",
       "MS      856\n",
       "MA      849\n",
       "PB      640\n",
       "PI      574\n",
       "RN      571\n",
       "AL      462\n",
       "SE      397\n",
       "TO      339\n",
       "RO      286\n",
       "AM      172\n",
       "AC       95\n",
       "AP       84\n",
       "RR       52\n",
       "Name: customer_state, dtype: int64"
      ]
     },
     "execution_count": 14,
     "metadata": {},
     "output_type": "execute_result"
    }
   ],
   "source": [
    "df_with_churn['customer_state'].value_counts()"
   ]
  },
  {
   "cell_type": "code",
   "execution_count": 15,
   "id": "c8b764f7-553b-4303-ba7f-57697a27c8c7",
   "metadata": {
    "tags": []
   },
   "outputs": [
    {
     "data": {
      "text/plain": [
       "credit_card    87266\n",
       "boleto         23018\n",
       "voucher         6332\n",
       "debit_card      1699\n",
       "Name: payment_type, dtype: int64"
      ]
     },
     "execution_count": 15,
     "metadata": {},
     "output_type": "execute_result"
    }
   ],
   "source": [
    "df_with_churn['payment_type'].value_counts()"
   ]
  },
  {
   "cell_type": "code",
   "execution_count": 16,
   "id": "87a9fb10-fe64-4d38-b5dc-34e43d949dd1",
   "metadata": {
    "tags": []
   },
   "outputs": [
    {
     "data": {
      "image/png": "[encoded data removed]",
      "text/plain": [
       "<Figure size 720x576 with 2 Axes>"
      ]
     },
     "metadata": {
      "needs_background": "light"
     },
     "output_type": "display_data"
    }
   ],
   "source": [
    "import pandas as pd\n",
    "import seaborn as sns\n",
    "import matplotlib.pyplot as plt\n",
    "corr_matrix = df_with_churn[[\"price\", \"freight_value\", \"payment_installments\", \"payment_value\", \"review_score\", 'churn']].corr()\n",
    "\n",
    "# Plotting the correlation matrix\n",
    "plt.figure(figsize=(10, 8))\n",
    "sns.heatmap(corr_matrix, annot=True, cmap='coolwarm')\n",
    "plt.title(\"Correlation Matrix\")\n",
    "plt.show()"
   ]
  },
  {
   "cell_type": "code",
   "execution_count": 17,
   "id": "87d09fb0-e257-4f38-8b5c-e6df91713684",
   "metadata": {
    "tags": []
   },
   "outputs": [
    {
     "data": {
      "image/png": "[encoded data removed]",
      "text/plain": [
       "<Figure size 864x720 with 6 Axes>"
      ]
     },
     "metadata": {
      "needs_background": "light"
     },
     "output_type": "display_data"
    }
   ],
   "source": [
    "# Plotting distribution plots for numerical columns\n",
    "fig, axs = plt.subplots(3, 2, figsize=(12, 10))\n",
    "\n",
    "sns.histplot(df_with_churn[\"price\"], kde=True, ax=axs[0, 0])\n",
    "axs[0, 0].set_title(\"Price Distribution\")\n",
    "\n",
    "sns.histplot(df_with_churn[\"freight_value\"], kde=True, ax=axs[0, 1])\n",
    "axs[0, 1].set_title(\"Freight Value Distribution\")\n",
    "\n",
    "sns.histplot(df_with_churn[\"payment_installments\"], kde=True, ax=axs[1, 0])\n",
    "axs[1, 0].set_title(\"Payment Installments Distribution\")\n",
    "\n",
    "sns.histplot(df_with_churn[\"payment_value\"], kde=True, ax=axs[1, 1])\n",
    "axs[1, 1].set_title(\"Payment Value Distribution\")\n",
    "\n",
    "sns.histplot(df_with_churn[\"churn\"], kde=True, ax=axs[2, 0])\n",
    "axs[2, 0].set_title(\"Churn Value Distribution\")\n",
    "\n",
    "sns.histplot(df_with_churn[\"review_score\"], kde=True, ax=axs[2, 1])\n",
    "axs[2, 1].set_title(\"Review Score Value Distribution\")\n",
    "\n",
    "plt.tight_layout()\n",
    "plt.show()"
   ]
  },
  {
   "cell_type": "code",
   "execution_count": 18,
   "id": "b75009d7-6fd1-4854-baa7-c91372df88b9",
   "metadata": {},
   "outputs": [
    {
     "data": {
      "image/png": "[encoded data removed]",
      "text/plain": [
       "<Figure size 864x720 with 4 Axes>"
      ]
     },
     "metadata": {
      "needs_background": "light"
     },
     "output_type": "display_data"
    }
   ],
   "source": [
    "## create a boxplot for price freight_value payment_value by custmer churn\n",
    "fig, axs = plt.subplots(2, 2, figsize=(12, 10))\n",
    "sns.boxplot(x='churn', y='price', data=df_with_churn, ax=axs[0, 0])\n",
    "axs[0, 0].set_title(\"Price Boxplot\")\n",
    "sns.boxplot(x='churn', y='freight_value', data=df_with_churn, ax=axs[0, 1])\n",
    "axs[0, 1].set_title(\"Freight Value Boxplot\")\n",
    "sns.boxplot(x='churn', y='payment_value', data=df_with_churn, ax=axs[1, 0])\n",
    "axs[1, 0].set_title(\"Payment Value Boxplot\")\n",
    "plt.show()\n"
   ]
  },
  {
   "cell_type": "code",
   "execution_count": 19,
   "id": "9657c32a-f196-4ff9-b378-50aad840f5ec",
   "metadata": {
    "tags": []
   },
   "outputs": [
    {
     "data": {
      "image/png": "[encoded data removed]",
      "text/plain": [
       "<Figure size 1080x864 with 6 Axes>"
      ]
     },
     "metadata": {
      "needs_background": "light"
     },
     "output_type": "display_data"
    }
   ],
   "source": [
    "# create a scatter plot for the numeric features and churn\n",
    "fig, axs = plt.subplots(3, 2, figsize=(15, 12))\n",
    "sns.scatterplot(y='payment_value', x='price', data=df_with_churn, ax=axs[0, 0])\n",
    "axs[0, 0].set_title(\"Payment Value By price\")\n",
    "sns.scatterplot(x='review_score', y = 'payment_value', data=df_with_churn, ax=axs[0, 1])\n",
    "axs[0, 1].set_title(\"Review Score By Value\")\n",
    "sns.barplot(x='payment_type', y = 'payment_value', data=df_with_churn, ax=axs[1, 0])\n",
    "axs[1, 0].set_title(\"Payment Type By Value\")\n",
    "sns.barplot(x='payment_type', y = 'price', data=df_with_churn, ax=axs[1, 1])\n",
    "axs[1, 1].set_title(\"Payment Type By price\")\n",
    "sns.barplot(x='review_score', y = 'price', data=df_with_churn, ax=axs[2, 0])\n",
    "axs[2, 0].set_title(\"Review Score By Price\")\n",
    "plt.show();\n"
   ]
  },
  {
   "cell_type": "code",
   "execution_count": 20,
   "id": "5d3eb16b-ceff-4a26-a1cb-aadcb617ac98",
   "metadata": {
    "tags": []
   },
   "outputs": [
    {
     "data": {
      "text/plain": [
       "sao paulo             18728\n",
       "rio de janeiro         8261\n",
       "belo horizonte         3274\n",
       "brasilia               2484\n",
       "curitiba               1816\n",
       "                      ...  \n",
       "sao jose do piaui         1\n",
       "jardim de piranhas        1\n",
       "ciriaco                   1\n",
       "aratiba                   1\n",
       "eugenio de castro         1\n",
       "Name: customer_city, Length: 4110, dtype: int64"
      ]
     },
     "execution_count": 20,
     "metadata": {},
     "output_type": "execute_result"
    }
   ],
   "source": [
    "df_with_churn['customer_city'].value_counts()"
   ]
  },
  {
   "cell_type": "markdown",
   "id": "dd2fd405-648a-4563-9fb8-a3e9431c5276",
   "metadata": {},
   "source": [
    "## Pre-process the data"
   ]
  },
  {
   "cell_type": "code",
   "execution_count": 21,
   "id": "f435a949-f5de-438e-9ab5-e9d12c72f6da",
   "metadata": {
    "tags": []
   },
   "outputs": [
    {
     "data": {
      "text/html": [
       "<div>\n",
       "<style scoped>\n",
       "    .dataframe tbody tr th:only-of-type {\n",
       "        vertical-align: middle;\n",
       "    }\n",
       "\n",
       "    .dataframe tbody tr th {\n",
       "        vertical-align: top;\n",
       "    }\n",
       "\n",
       "    .dataframe thead th {\n",
       "        text-align: right;\n",
       "    }\n",
       "</style>\n",
       "<table border=\"1\" class=\"dataframe\">\n",
       "  <thead>\n",
       "    <tr style=\"text-align: right;\">\n",
       "      <th></th>\n",
       "      <th>customer_id</th>\n",
       "      <th>customer_unique_id</th>\n",
       "      <th>customer_zip_code_prefix</th>\n",
       "      <th>customer_city</th>\n",
       "      <th>customer_state</th>\n",
       "      <th>order_status</th>\n",
       "      <th>order_purchase_timestamp</th>\n",
       "      <th>price</th>\n",
       "      <th>freight_value</th>\n",
       "      <th>payment_type</th>\n",
       "      <th>payment_installments</th>\n",
       "      <th>payment_value</th>\n",
       "      <th>review_score</th>\n",
       "      <th>churn</th>\n",
       "    </tr>\n",
       "  </thead>\n",
       "  <tbody>\n",
       "    <tr>\n",
       "      <th>0</th>\n",
       "      <td>\"06b8999e2fba1a1fbc88172c00ba8bc7\"</td>\n",
       "      <td>\"861eff4711a542e4b93843c6dd7febb0\"</td>\n",
       "      <td>None</td>\n",
       "      <td>franca</td>\n",
       "      <td>SP</td>\n",
       "      <td>delivered</td>\n",
       "      <td>2017-05-16 15:05:35</td>\n",
       "      <td>124.99</td>\n",
       "      <td>21.88</td>\n",
       "      <td>credit_card</td>\n",
       "      <td>2</td>\n",
       "      <td>146.87</td>\n",
       "      <td>4</td>\n",
       "      <td>1</td>\n",
       "    </tr>\n",
       "    <tr>\n",
       "      <th>1</th>\n",
       "      <td>\"18955e83d337fd6b2def6b18a428ac77\"</td>\n",
       "      <td>\"290c77bc529b7ac935b93aa66c333dc3\"</td>\n",
       "      <td>None</td>\n",
       "      <td>sao bernardo do campo</td>\n",
       "      <td>SP</td>\n",
       "      <td>delivered</td>\n",
       "      <td>2018-01-12 20:48:24</td>\n",
       "      <td>289.00</td>\n",
       "      <td>46.48</td>\n",
       "      <td>credit_card</td>\n",
       "      <td>8</td>\n",
       "      <td>335.48</td>\n",
       "      <td>5</td>\n",
       "      <td>1</td>\n",
       "    </tr>\n",
       "    <tr>\n",
       "      <th>2</th>\n",
       "      <td>\"4e7b3e00288586ebd08712fdd0374a03\"</td>\n",
       "      <td>\"060e732b5b29e8181a18229c7b0b2b5e\"</td>\n",
       "      <td>None</td>\n",
       "      <td>sao paulo</td>\n",
       "      <td>SP</td>\n",
       "      <td>delivered</td>\n",
       "      <td>2018-05-19 16:07:45</td>\n",
       "      <td>139.94</td>\n",
       "      <td>17.79</td>\n",
       "      <td>credit_card</td>\n",
       "      <td>7</td>\n",
       "      <td>157.73</td>\n",
       "      <td>5</td>\n",
       "      <td>1</td>\n",
       "    </tr>\n",
       "    <tr>\n",
       "      <th>3</th>\n",
       "      <td>b2b6027bc5c5109e529d4dc6358b12c3</td>\n",
       "      <td>\"259dac757896d24d7702b9acbbff3f3c\"</td>\n",
       "      <td>None</td>\n",
       "      <td>mogi das cruzes</td>\n",
       "      <td>SP</td>\n",
       "      <td>delivered</td>\n",
       "      <td>2018-03-13 16:06:38</td>\n",
       "      <td>149.94</td>\n",
       "      <td>23.36</td>\n",
       "      <td>credit_card</td>\n",
       "      <td>1</td>\n",
       "      <td>173.30</td>\n",
       "      <td>5</td>\n",
       "      <td>1</td>\n",
       "    </tr>\n",
       "    <tr>\n",
       "      <th>4</th>\n",
       "      <td>\"4f2d8ab171c80ec8364f7c12e35b23ad\"</td>\n",
       "      <td>\"345ecd01c38d18a9036ed96c73b8d066\"</td>\n",
       "      <td>None</td>\n",
       "      <td>campinas</td>\n",
       "      <td>SP</td>\n",
       "      <td>delivered</td>\n",
       "      <td>2018-07-29 09:51:30</td>\n",
       "      <td>230.00</td>\n",
       "      <td>22.25</td>\n",
       "      <td>credit_card</td>\n",
       "      <td>8</td>\n",
       "      <td>252.25</td>\n",
       "      <td>5</td>\n",
       "      <td>1</td>\n",
       "    </tr>\n",
       "  </tbody>\n",
       "</table>\n",
       "</div>"
      ],
      "text/plain": [
       "                          customer_id                  customer_unique_id  \\\n",
       "0  \"06b8999e2fba1a1fbc88172c00ba8bc7\"  \"861eff4711a542e4b93843c6dd7febb0\"   \n",
       "1  \"18955e83d337fd6b2def6b18a428ac77\"  \"290c77bc529b7ac935b93aa66c333dc3\"   \n",
       "2  \"4e7b3e00288586ebd08712fdd0374a03\"  \"060e732b5b29e8181a18229c7b0b2b5e\"   \n",
       "3    b2b6027bc5c5109e529d4dc6358b12c3  \"259dac757896d24d7702b9acbbff3f3c\"   \n",
       "4  \"4f2d8ab171c80ec8364f7c12e35b23ad\"  \"345ecd01c38d18a9036ed96c73b8d066\"   \n",
       "\n",
       "  customer_zip_code_prefix          customer_city customer_state order_status  \\\n",
       "0                     None                 franca             SP    delivered   \n",
       "1                     None  sao bernardo do campo             SP    delivered   \n",
       "2                     None              sao paulo             SP    delivered   \n",
       "3                     None        mogi das cruzes             SP    delivered   \n",
       "4                     None               campinas             SP    delivered   \n",
       "\n",
       "  order_purchase_timestamp   price  freight_value payment_type  \\\n",
       "0      2017-05-16 15:05:35  124.99          21.88  credit_card   \n",
       "1      2018-01-12 20:48:24  289.00          46.48  credit_card   \n",
       "2      2018-05-19 16:07:45  139.94          17.79  credit_card   \n",
       "3      2018-03-13 16:06:38  149.94          23.36  credit_card   \n",
       "4      2018-07-29 09:51:30  230.00          22.25  credit_card   \n",
       "\n",
       "   payment_installments  payment_value  review_score  churn  \n",
       "0                     2         146.87             4      1  \n",
       "1                     8         335.48             5      1  \n",
       "2                     7         157.73             5      1  \n",
       "3                     1         173.30             5      1  \n",
       "4                     8         252.25             5      1  "
      ]
     },
     "execution_count": 21,
     "metadata": {},
     "output_type": "execute_result"
    }
   ],
   "source": [
    "df_with_churn.head()"
   ]
  },
  {
   "cell_type": "code",
   "execution_count": 22,
   "id": "3dfccf45-cc8f-4a5d-af75-eb61ef015223",
   "metadata": {
    "tags": []
   },
   "outputs": [
    {
     "data": {
      "text/html": [
       "<div>\n",
       "<style scoped>\n",
       "    .dataframe tbody tr th:only-of-type {\n",
       "        vertical-align: middle;\n",
       "    }\n",
       "\n",
       "    .dataframe tbody tr th {\n",
       "        vertical-align: top;\n",
       "    }\n",
       "\n",
       "    .dataframe thead th {\n",
       "        text-align: right;\n",
       "    }\n",
       "</style>\n",
       "<table border=\"1\" class=\"dataframe\">\n",
       "  <thead>\n",
       "    <tr style=\"text-align: right;\">\n",
       "      <th></th>\n",
       "      <th>order_status</th>\n",
       "      <th>price</th>\n",
       "      <th>freight_value</th>\n",
       "      <th>payment_type</th>\n",
       "      <th>payment_installments</th>\n",
       "      <th>payment_value</th>\n",
       "      <th>review_score</th>\n",
       "      <th>churn</th>\n",
       "    </tr>\n",
       "  </thead>\n",
       "  <tbody>\n",
       "    <tr>\n",
       "      <th>0</th>\n",
       "      <td>delivered</td>\n",
       "      <td>124.99</td>\n",
       "      <td>21.88</td>\n",
       "      <td>credit_card</td>\n",
       "      <td>2</td>\n",
       "      <td>146.87</td>\n",
       "      <td>4</td>\n",
       "      <td>1</td>\n",
       "    </tr>\n",
       "    <tr>\n",
       "      <th>1</th>\n",
       "      <td>delivered</td>\n",
       "      <td>289.00</td>\n",
       "      <td>46.48</td>\n",
       "      <td>credit_card</td>\n",
       "      <td>8</td>\n",
       "      <td>335.48</td>\n",
       "      <td>5</td>\n",
       "      <td>1</td>\n",
       "    </tr>\n",
       "    <tr>\n",
       "      <th>2</th>\n",
       "      <td>delivered</td>\n",
       "      <td>139.94</td>\n",
       "      <td>17.79</td>\n",
       "      <td>credit_card</td>\n",
       "      <td>7</td>\n",
       "      <td>157.73</td>\n",
       "      <td>5</td>\n",
       "      <td>1</td>\n",
       "    </tr>\n",
       "    <tr>\n",
       "      <th>3</th>\n",
       "      <td>delivered</td>\n",
       "      <td>149.94</td>\n",
       "      <td>23.36</td>\n",
       "      <td>credit_card</td>\n",
       "      <td>1</td>\n",
       "      <td>173.30</td>\n",
       "      <td>5</td>\n",
       "      <td>1</td>\n",
       "    </tr>\n",
       "    <tr>\n",
       "      <th>4</th>\n",
       "      <td>delivered</td>\n",
       "      <td>230.00</td>\n",
       "      <td>22.25</td>\n",
       "      <td>credit_card</td>\n",
       "      <td>8</td>\n",
       "      <td>252.25</td>\n",
       "      <td>5</td>\n",
       "      <td>1</td>\n",
       "    </tr>\n",
       "  </tbody>\n",
       "</table>\n",
       "</div>"
      ],
      "text/plain": [
       "  order_status   price  freight_value payment_type  payment_installments  \\\n",
       "0    delivered  124.99          21.88  credit_card                     2   \n",
       "1    delivered  289.00          46.48  credit_card                     8   \n",
       "2    delivered  139.94          17.79  credit_card                     7   \n",
       "3    delivered  149.94          23.36  credit_card                     1   \n",
       "4    delivered  230.00          22.25  credit_card                     8   \n",
       "\n",
       "   payment_value  review_score  churn  \n",
       "0         146.87             4      1  \n",
       "1         335.48             5      1  \n",
       "2         157.73             5      1  \n",
       "3         173.30             5      1  \n",
       "4         252.25             5      1  "
      ]
     },
     "execution_count": 22,
     "metadata": {},
     "output_type": "execute_result"
    }
   ],
   "source": [
    "# columns to drop: Ids, Zip, State. These are two unique columns to add to the model. Also drop Timestamp\n",
    "# new dataframe\n",
    "new_df = df_with_churn.drop(columns = ['customer_id', \n",
    "                                      'customer_unique_id', \n",
    "                                      'customer_zip_code_prefix', \n",
    "                                      'customer_city',\n",
    "                                      'customer_state',\n",
    "                                      'order_purchase_timestamp',\n",
    "                                     ]\n",
    "                           )\n",
    "new_df.head()"
   ]
  },
  {
   "cell_type": "code",
   "execution_count": 23,
   "id": "e6170476-8fe8-4681-93fd-8f7cde631726",
   "metadata": {
    "tags": []
   },
   "outputs": [
    {
     "data": {
      "text/plain": [
       "order_status             object\n",
       "price                   float64\n",
       "freight_value           float64\n",
       "payment_type             object\n",
       "payment_installments      int64\n",
       "payment_value           float64\n",
       "review_score              int64\n",
       "churn                     int64\n",
       "dtype: object"
      ]
     },
     "execution_count": 23,
     "metadata": {},
     "output_type": "execute_result"
    }
   ],
   "source": [
    "new_df.dtypes"
   ]
  },
  {
   "cell_type": "code",
   "execution_count": 24,
   "id": "ba8389b2-0cf8-413e-8824-43b2c00d3a55",
   "metadata": {
    "tags": []
   },
   "outputs": [],
   "source": [
    "def check_category_dtypes(dataset):\n",
    "    category_columns = []\n",
    "    for i in dataset:\n",
    "        if dataset[i].dtype == 'object':\n",
    "            category_columns.append(i)\n",
    "        elif dataset[i].dtype == 'category':\n",
    "            category_columns.append(i)\n",
    "    return category_columns"
   ]
  },
  {
   "cell_type": "code",
   "execution_count": 25,
   "id": "63987657-5001-4964-b9c1-bbcbc61fa110",
   "metadata": {
    "tags": []
   },
   "outputs": [],
   "source": [
    "from numpy.lib.shape_base import column_stack\n",
    "# apply OHE to the label_text column\n",
    "def apply_ohe(dataset):\n",
    "    # Assuming check_category_dtypes(dataset) correctly returns a list of categorical column names\n",
    "    category_columns = check_category_dtypes(dataset)\n",
    "    \n",
    "    # Initialize OneHotEncoder\n",
    "    ohe = OneHotEncoder(sparse=False, handle_unknown='ignore')\n",
    "    \n",
    "    # Fit and transform the categorical columns\n",
    "    ohe_data = ohe.fit_transform(dataset[category_columns])\n",
    "    \n",
    "    # Create a DataFrame with the encoded data and column names derived from the encoder\n",
    "    new_df = pd.DataFrame(ohe_data, columns=ohe.get_feature_names_out(category_columns), index=dataset.index)\n",
    "    \n",
    "    # Concatenate the original dataset (minus the categorical columns) with the new encoded DataFrame\n",
    "    final_df = pd.concat([dataset.drop(columns=category_columns), new_df], axis=1)\n",
    "    \n",
    "    return final_df"
   ]
  },
  {
   "cell_type": "code",
   "execution_count": 26,
   "id": "476803a6-8ef4-4a8a-9123-ad3fbb6cbdea",
   "metadata": {
    "tags": []
   },
   "outputs": [
    {
     "name": "stderr",
     "output_type": "stream",
     "text": [
      "/opt/conda/lib/python3.8/site-packages/sklearn/preprocessing/_encoders.py:975: FutureWarning: `sparse` was renamed to `sparse_output` in version 1.2 and will be removed in 1.4. `sparse_output` is ignored unless you leave `sparse` to its default value.\n",
      "  warnings.warn(\n"
     ]
    },
    {
     "data": {
      "text/html": [
       "<div>\n",
       "<style scoped>\n",
       "    .dataframe tbody tr th:only-of-type {\n",
       "        vertical-align: middle;\n",
       "    }\n",
       "\n",
       "    .dataframe tbody tr th {\n",
       "        vertical-align: top;\n",
       "    }\n",
       "\n",
       "    .dataframe thead th {\n",
       "        text-align: right;\n",
       "    }\n",
       "</style>\n",
       "<table border=\"1\" class=\"dataframe\">\n",
       "  <thead>\n",
       "    <tr style=\"text-align: right;\">\n",
       "      <th></th>\n",
       "      <th>price</th>\n",
       "      <th>freight_value</th>\n",
       "      <th>payment_installments</th>\n",
       "      <th>payment_value</th>\n",
       "      <th>review_score</th>\n",
       "      <th>churn</th>\n",
       "      <th>order_status_approved</th>\n",
       "      <th>order_status_canceled</th>\n",
       "      <th>order_status_delivered</th>\n",
       "      <th>order_status_invoiced</th>\n",
       "      <th>order_status_processing</th>\n",
       "      <th>order_status_shipped</th>\n",
       "      <th>order_status_unavailable</th>\n",
       "      <th>payment_type_boleto</th>\n",
       "      <th>payment_type_credit_card</th>\n",
       "      <th>payment_type_debit_card</th>\n",
       "      <th>payment_type_voucher</th>\n",
       "    </tr>\n",
       "  </thead>\n",
       "  <tbody>\n",
       "    <tr>\n",
       "      <th>0</th>\n",
       "      <td>124.99</td>\n",
       "      <td>21.88</td>\n",
       "      <td>2</td>\n",
       "      <td>146.87</td>\n",
       "      <td>4</td>\n",
       "      <td>1</td>\n",
       "      <td>0.0</td>\n",
       "      <td>0.0</td>\n",
       "      <td>1.0</td>\n",
       "      <td>0.0</td>\n",
       "      <td>0.0</td>\n",
       "      <td>0.0</td>\n",
       "      <td>0.0</td>\n",
       "      <td>0.0</td>\n",
       "      <td>1.0</td>\n",
       "      <td>0.0</td>\n",
       "      <td>0.0</td>\n",
       "    </tr>\n",
       "    <tr>\n",
       "      <th>1</th>\n",
       "      <td>289.00</td>\n",
       "      <td>46.48</td>\n",
       "      <td>8</td>\n",
       "      <td>335.48</td>\n",
       "      <td>5</td>\n",
       "      <td>1</td>\n",
       "      <td>0.0</td>\n",
       "      <td>0.0</td>\n",
       "      <td>1.0</td>\n",
       "      <td>0.0</td>\n",
       "      <td>0.0</td>\n",
       "      <td>0.0</td>\n",
       "      <td>0.0</td>\n",
       "      <td>0.0</td>\n",
       "      <td>1.0</td>\n",
       "      <td>0.0</td>\n",
       "      <td>0.0</td>\n",
       "    </tr>\n",
       "    <tr>\n",
       "      <th>2</th>\n",
       "      <td>139.94</td>\n",
       "      <td>17.79</td>\n",
       "      <td>7</td>\n",
       "      <td>157.73</td>\n",
       "      <td>5</td>\n",
       "      <td>1</td>\n",
       "      <td>0.0</td>\n",
       "      <td>0.0</td>\n",
       "      <td>1.0</td>\n",
       "      <td>0.0</td>\n",
       "      <td>0.0</td>\n",
       "      <td>0.0</td>\n",
       "      <td>0.0</td>\n",
       "      <td>0.0</td>\n",
       "      <td>1.0</td>\n",
       "      <td>0.0</td>\n",
       "      <td>0.0</td>\n",
       "    </tr>\n",
       "    <tr>\n",
       "      <th>3</th>\n",
       "      <td>149.94</td>\n",
       "      <td>23.36</td>\n",
       "      <td>1</td>\n",
       "      <td>173.30</td>\n",
       "      <td>5</td>\n",
       "      <td>1</td>\n",
       "      <td>0.0</td>\n",
       "      <td>0.0</td>\n",
       "      <td>1.0</td>\n",
       "      <td>0.0</td>\n",
       "      <td>0.0</td>\n",
       "      <td>0.0</td>\n",
       "      <td>0.0</td>\n",
       "      <td>0.0</td>\n",
       "      <td>1.0</td>\n",
       "      <td>0.0</td>\n",
       "      <td>0.0</td>\n",
       "    </tr>\n",
       "    <tr>\n",
       "      <th>4</th>\n",
       "      <td>230.00</td>\n",
       "      <td>22.25</td>\n",
       "      <td>8</td>\n",
       "      <td>252.25</td>\n",
       "      <td>5</td>\n",
       "      <td>1</td>\n",
       "      <td>0.0</td>\n",
       "      <td>0.0</td>\n",
       "      <td>1.0</td>\n",
       "      <td>0.0</td>\n",
       "      <td>0.0</td>\n",
       "      <td>0.0</td>\n",
       "      <td>0.0</td>\n",
       "      <td>0.0</td>\n",
       "      <td>1.0</td>\n",
       "      <td>0.0</td>\n",
       "      <td>0.0</td>\n",
       "    </tr>\n",
       "    <tr>\n",
       "      <th>...</th>\n",
       "      <td>...</td>\n",
       "      <td>...</td>\n",
       "      <td>...</td>\n",
       "      <td>...</td>\n",
       "      <td>...</td>\n",
       "      <td>...</td>\n",
       "      <td>...</td>\n",
       "      <td>...</td>\n",
       "      <td>...</td>\n",
       "      <td>...</td>\n",
       "      <td>...</td>\n",
       "      <td>...</td>\n",
       "      <td>...</td>\n",
       "      <td>...</td>\n",
       "      <td>...</td>\n",
       "      <td>...</td>\n",
       "      <td>...</td>\n",
       "    </tr>\n",
       "    <tr>\n",
       "      <th>118310</th>\n",
       "      <td>74.90</td>\n",
       "      <td>13.88</td>\n",
       "      <td>6</td>\n",
       "      <td>88.78</td>\n",
       "      <td>4</td>\n",
       "      <td>1</td>\n",
       "      <td>0.0</td>\n",
       "      <td>0.0</td>\n",
       "      <td>1.0</td>\n",
       "      <td>0.0</td>\n",
       "      <td>0.0</td>\n",
       "      <td>0.0</td>\n",
       "      <td>0.0</td>\n",
       "      <td>0.0</td>\n",
       "      <td>1.0</td>\n",
       "      <td>0.0</td>\n",
       "      <td>0.0</td>\n",
       "    </tr>\n",
       "    <tr>\n",
       "      <th>118311</th>\n",
       "      <td>114.90</td>\n",
       "      <td>14.16</td>\n",
       "      <td>3</td>\n",
       "      <td>129.06</td>\n",
       "      <td>5</td>\n",
       "      <td>1</td>\n",
       "      <td>0.0</td>\n",
       "      <td>0.0</td>\n",
       "      <td>1.0</td>\n",
       "      <td>0.0</td>\n",
       "      <td>0.0</td>\n",
       "      <td>0.0</td>\n",
       "      <td>0.0</td>\n",
       "      <td>0.0</td>\n",
       "      <td>1.0</td>\n",
       "      <td>0.0</td>\n",
       "      <td>0.0</td>\n",
       "    </tr>\n",
       "    <tr>\n",
       "      <th>118312</th>\n",
       "      <td>37.00</td>\n",
       "      <td>19.04</td>\n",
       "      <td>5</td>\n",
       "      <td>56.04</td>\n",
       "      <td>1</td>\n",
       "      <td>1</td>\n",
       "      <td>0.0</td>\n",
       "      <td>0.0</td>\n",
       "      <td>1.0</td>\n",
       "      <td>0.0</td>\n",
       "      <td>0.0</td>\n",
       "      <td>0.0</td>\n",
       "      <td>0.0</td>\n",
       "      <td>0.0</td>\n",
       "      <td>1.0</td>\n",
       "      <td>0.0</td>\n",
       "      <td>0.0</td>\n",
       "    </tr>\n",
       "    <tr>\n",
       "      <th>118313</th>\n",
       "      <td>689.00</td>\n",
       "      <td>22.07</td>\n",
       "      <td>2</td>\n",
       "      <td>711.07</td>\n",
       "      <td>5</td>\n",
       "      <td>1</td>\n",
       "      <td>0.0</td>\n",
       "      <td>0.0</td>\n",
       "      <td>1.0</td>\n",
       "      <td>0.0</td>\n",
       "      <td>0.0</td>\n",
       "      <td>0.0</td>\n",
       "      <td>0.0</td>\n",
       "      <td>0.0</td>\n",
       "      <td>1.0</td>\n",
       "      <td>0.0</td>\n",
       "      <td>0.0</td>\n",
       "    </tr>\n",
       "    <tr>\n",
       "      <th>118314</th>\n",
       "      <td>13.99</td>\n",
       "      <td>7.78</td>\n",
       "      <td>1</td>\n",
       "      <td>21.77</td>\n",
       "      <td>5</td>\n",
       "      <td>1</td>\n",
       "      <td>0.0</td>\n",
       "      <td>0.0</td>\n",
       "      <td>1.0</td>\n",
       "      <td>0.0</td>\n",
       "      <td>0.0</td>\n",
       "      <td>0.0</td>\n",
       "      <td>0.0</td>\n",
       "      <td>0.0</td>\n",
       "      <td>1.0</td>\n",
       "      <td>0.0</td>\n",
       "      <td>0.0</td>\n",
       "    </tr>\n",
       "  </tbody>\n",
       "</table>\n",
       "<p>118315 rows × 17 columns</p>\n",
       "</div>"
      ],
      "text/plain": [
       "         price  freight_value  payment_installments  payment_value  \\\n",
       "0       124.99          21.88                     2         146.87   \n",
       "1       289.00          46.48                     8         335.48   \n",
       "2       139.94          17.79                     7         157.73   \n",
       "3       149.94          23.36                     1         173.30   \n",
       "4       230.00          22.25                     8         252.25   \n",
       "...        ...            ...                   ...            ...   \n",
       "118310   74.90          13.88                     6          88.78   \n",
       "118311  114.90          14.16                     3         129.06   \n",
       "118312   37.00          19.04                     5          56.04   \n",
       "118313  689.00          22.07                     2         711.07   \n",
       "118314   13.99           7.78                     1          21.77   \n",
       "\n",
       "        review_score  churn  order_status_approved  order_status_canceled  \\\n",
       "0                  4      1                    0.0                    0.0   \n",
       "1                  5      1                    0.0                    0.0   \n",
       "2                  5      1                    0.0                    0.0   \n",
       "3                  5      1                    0.0                    0.0   \n",
       "4                  5      1                    0.0                    0.0   \n",
       "...              ...    ...                    ...                    ...   \n",
       "118310             4      1                    0.0                    0.0   \n",
       "118311             5      1                    0.0                    0.0   \n",
       "118312             1      1                    0.0                    0.0   \n",
       "118313             5      1                    0.0                    0.0   \n",
       "118314             5      1                    0.0                    0.0   \n",
       "\n",
       "        order_status_delivered  order_status_invoiced  \\\n",
       "0                          1.0                    0.0   \n",
       "1                          1.0                    0.0   \n",
       "2                          1.0                    0.0   \n",
       "3                          1.0                    0.0   \n",
       "4                          1.0                    0.0   \n",
       "...                        ...                    ...   \n",
       "118310                     1.0                    0.0   \n",
       "118311                     1.0                    0.0   \n",
       "118312                     1.0                    0.0   \n",
       "118313                     1.0                    0.0   \n",
       "118314                     1.0                    0.0   \n",
       "\n",
       "        order_status_processing  order_status_shipped  \\\n",
       "0                           0.0                   0.0   \n",
       "1                           0.0                   0.0   \n",
       "2                           0.0                   0.0   \n",
       "3                           0.0                   0.0   \n",
       "4                           0.0                   0.0   \n",
       "...                         ...                   ...   \n",
       "118310                      0.0                   0.0   \n",
       "118311                      0.0                   0.0   \n",
       "118312                      0.0                   0.0   \n",
       "118313                      0.0                   0.0   \n",
       "118314                      0.0                   0.0   \n",
       "\n",
       "        order_status_unavailable  payment_type_boleto  \\\n",
       "0                            0.0                  0.0   \n",
       "1                            0.0                  0.0   \n",
       "2                            0.0                  0.0   \n",
       "3                            0.0                  0.0   \n",
       "4                            0.0                  0.0   \n",
       "...                          ...                  ...   \n",
       "118310                       0.0                  0.0   \n",
       "118311                       0.0                  0.0   \n",
       "118312                       0.0                  0.0   \n",
       "118313                       0.0                  0.0   \n",
       "118314                       0.0                  0.0   \n",
       "\n",
       "        payment_type_credit_card  payment_type_debit_card  \\\n",
       "0                            1.0                      0.0   \n",
       "1                            1.0                      0.0   \n",
       "2                            1.0                      0.0   \n",
       "3                            1.0                      0.0   \n",
       "4                            1.0                      0.0   \n",
       "...                          ...                      ...   \n",
       "118310                       1.0                      0.0   \n",
       "118311                       1.0                      0.0   \n",
       "118312                       1.0                      0.0   \n",
       "118313                       1.0                      0.0   \n",
       "118314                       1.0                      0.0   \n",
       "\n",
       "        payment_type_voucher  \n",
       "0                        0.0  \n",
       "1                        0.0  \n",
       "2                        0.0  \n",
       "3                        0.0  \n",
       "4                        0.0  \n",
       "...                      ...  \n",
       "118310                   0.0  \n",
       "118311                   0.0  \n",
       "118312                   0.0  \n",
       "118313                   0.0  \n",
       "118314                   0.0  \n",
       "\n",
       "[118315 rows x 17 columns]"
      ]
     },
     "execution_count": 26,
     "metadata": {},
     "output_type": "execute_result"
    }
   ],
   "source": [
    "## apply one hot encoding to the dataset\n",
    "encoded_df = apply_ohe(new_df)\n",
    "encoded_df"
   ]
  },
  {
   "cell_type": "code",
   "execution_count": 27,
   "id": "5cd5a0fb-3a66-4fd4-884b-21eeed5e9235",
   "metadata": {
    "tags": []
   },
   "outputs": [],
   "source": [
    "## split the data into taining and testing sets\n",
    "from imblearn.over_sampling import SMOTE\n",
    "from imblearn.combine import SMOTEENN\n",
    "X = encoded_df.drop(columns = 'churn')\n",
    "y = encoded_df[['churn']]\n",
    "X_train, X_test, y_train, y_test = train_test_split(X, y, test_size = .30, random_state = 42)\n",
    "## balance the data\n",
    "# Initialize SMOTE\n",
    "smote = SMOTE(random_state=42)\n",
    "smoteen = SMOTEENN(random_state=42)\n",
    "# Fit and resample the training data\n",
    "X_train_smote, y_train_smote = smote.fit_resample(X_train, y_train)\n",
    "X_train_smoteen, y_train_smoteen = smoteen.fit_resample(X_train, y_train)"
   ]
  },
  {
   "cell_type": "code",
   "execution_count": 28,
   "id": "dd51b7d5-ce22-49bf-9fa2-bd68fb49e972",
   "metadata": {
    "tags": []
   },
   "outputs": [
    {
     "ename": "NameError",
     "evalue": "name 'Xt' is not defined",
     "output_type": "error",
     "traceback": [
      "\u001b[0;31m---------------------------------------------------------------------------\u001b[0m",
      "\u001b[0;31mNameError\u001b[0m                                 Traceback (most recent call last)",
      "Cell \u001b[0;32mIn[28], line 5\u001b[0m\n\u001b[1;32m      2\u001b[0m \u001b[38;5;28;01mfrom\u001b[39;00m \u001b[38;5;21;01mmatplotlib\u001b[39;00m\u001b[38;5;21;01m.\u001b[39;00m\u001b[38;5;21;01mlines\u001b[39;00m \u001b[38;5;28;01mimport\u001b[39;00m Line2D\n\u001b[1;32m      4\u001b[0m \u001b[38;5;66;03m# Assuming Xt and y_train_smote are already defined\u001b[39;00m\n\u001b[0;32m----> 5\u001b[0m plot \u001b[38;5;241m=\u001b[39m plt\u001b[38;5;241m.\u001b[39mscatter(\u001b[43mXt\u001b[49m[:,\u001b[38;5;241m0\u001b[39m], Xt[:,\u001b[38;5;241m1\u001b[39m], c\u001b[38;5;241m=\u001b[39my_train_smote[\u001b[38;5;124m'\u001b[39m\u001b[38;5;124mchurn\u001b[39m\u001b[38;5;124m'\u001b[39m])\n\u001b[1;32m      7\u001b[0m \u001b[38;5;66;03m# If y_train_smote is a Series or an array, just use it directly. If it's a DataFrame, access the relevant column.\u001b[39;00m\n\u001b[1;32m      8\u001b[0m labels \u001b[38;5;241m=\u001b[39m y_train_smote\u001b[38;5;241m.\u001b[39munique() \u001b[38;5;28;01mif\u001b[39;00m \u001b[38;5;129;01mnot\u001b[39;00m \u001b[38;5;28misinstance\u001b[39m(y_train_smote, pd\u001b[38;5;241m.\u001b[39mDataFrame) \u001b[38;5;28;01melse\u001b[39;00m y_train_smote[\u001b[38;5;124m'\u001b[39m\u001b[38;5;124mchurn\u001b[39m\u001b[38;5;124m'\u001b[39m]\u001b[38;5;241m.\u001b[39munique()\n",
      "\u001b[0;31mNameError\u001b[0m: name 'Xt' is not defined"
     ]
    }
   ],
   "source": [
    "import matplotlib.pyplot as plt\n",
    "from matplotlib.lines import Line2D\n",
    "\n",
    "# Assuming Xt and y_train_smote are already defined\n",
    "plot = plt.scatter(Xt[:,0], Xt[:,1], c=y_train_smote['churn'])\n",
    "\n",
    "# If y_train_smote is a Series or an array, just use it directly. If it's a DataFrame, access the relevant column.\n",
    "labels = y_train_smote.unique() if not isinstance(y_train_smote, pd.DataFrame) else y_train_smote['churn'].unique()\n",
    "\n",
    "# Create custom handles\n",
    "handles = [Line2D([0], [0], marker='o', color='w', markerfacecolor='yellow', markersize=10),\n",
    "           Line2D([0], [0], marker='o', color='w', markerfacecolor='purple', markersize=10)]\n",
    "\n",
    "# Add legend to plot\n",
    "plt.legend(handles, labels)\n",
    "plt.show()"
   ]
  },
  {
   "cell_type": "code",
   "execution_count": 29,
   "id": "691e7639-70ca-4fb7-acad-24c78cac861f",
   "metadata": {},
   "outputs": [],
   "source": [
    "## Scale the data\n",
    "scaler = StandardScaler()\n",
    "scaler.fit(X_train_smote)\n",
    "X_train_scaled = scaler.transform(X_train_smote)\n",
    "X_test_scaled = scaler.transform(X_test)"
   ]
  },
  {
   "cell_type": "code",
   "execution_count": 30,
   "id": "9b2cf343-66ee-4e2f-997e-cbfc945b6caa",
   "metadata": {},
   "outputs": [
    {
     "name": "stderr",
     "output_type": "stream",
     "text": [
      "/opt/conda/lib/python3.8/site-packages/sklearn/base.py:1152: DataConversionWarning: A column-vector y was passed when a 1d array was expected. Please change the shape of y to (n_samples,), for example using ravel().\n",
      "  return fit_method(estimator, *args, **kwargs)\n"
     ]
    },
    {
     "data": {
      "image/png": "[encoded data removed]",
      "text/plain": [
       "<Figure size 432x288 with 2 Axes>"
      ]
     },
     "metadata": {
      "needs_background": "light"
     },
     "output_type": "display_data"
    },
    {
     "data": {
      "image/png": "[encoded data removed]",
      "text/plain": [
       "<Figure size 432x288 with 2 Axes>"
      ]
     },
     "metadata": {
      "needs_background": "light"
     },
     "output_type": "display_data"
    },
    {
     "name": "stdout",
     "output_type": "stream",
     "text": [
      "Classification Report for Training Set:\n",
      "              precision    recall  f1-score   support\n",
      "\n",
      "           0       1.00      1.00      1.00     79817\n",
      "           1       1.00      1.00      1.00     79817\n",
      "\n",
      "    accuracy                           1.00    159634\n",
      "   macro avg       1.00      1.00      1.00    159634\n",
      "weighted avg       1.00      1.00      1.00    159634\n",
      "\n",
      "\n",
      "Classification Report for Test Set:\n",
      "              precision    recall  f1-score   support\n",
      "\n",
      "           0       0.19      0.28      0.22      1243\n",
      "           1       0.97      0.96      0.96     34252\n",
      "\n",
      "    accuracy                           0.93     35495\n",
      "   macro avg       0.58      0.62      0.59     35495\n",
      "weighted avg       0.95      0.93      0.94     35495\n",
      "\n"
     ]
    }
   ],
   "source": [
    "## build a RF model to get feature importance\n",
    "rf = RandomForestClassifier(n_estimators=100, random_state=42)\n",
    "rf.fit(X_train_scaled, y_train_smote)\n",
    "y_pred_train = rf.predict(X_train_scaled)\n",
    "y_pred_test = rf.predict(X_test_scaled)\n",
    "cm_train = confusion_matrix(y_train_smote, y_pred_train)\n",
    "cm_test = confusion_matrix(y_test, y_pred_test)\n",
    "\n",
    "# Create confusion matrix plots\n",
    "labels = rf.classes_\n",
    "cmplot_train = ConfusionMatrixDisplay(confusion_matrix=cm_train, display_labels=labels)\n",
    "cmplot_test = ConfusionMatrixDisplay(confusion_matrix=cm_test, display_labels=labels)\n",
    "\n",
    "# Plot confusion matrix for training set\n",
    "cmplot_train.plot()\n",
    "plt.title('Confusion Matrix for Training Set')\n",
    "plt.show()\n",
    "\n",
    "# Plot confusion matrix for test set\n",
    "cmplot_test.plot()\n",
    "plt.title('Confusion Matrix for Test Set')\n",
    "plt.show()\n",
    "\n",
    "# Build classification reports\n",
    "rf_train_report = classification_report(y_train_smote, y_pred_train)\n",
    "rf_test_report = classification_report(y_test, y_pred_test)\n",
    "\n",
    "print(\"Classification Report for Training Set:\")\n",
    "print(rf_train_report)\n",
    "print(\"\\nClassification Report for Test Set:\")\n",
    "print(rf_test_report)\n"
   ]
  },
  {
   "cell_type": "code",
   "execution_count": 31,
   "id": "121ee60c-8597-4ae5-a3bc-40faca39f479",
   "metadata": {
    "tags": []
   },
   "outputs": [],
   "source": [
    "scaler = StandardScaler()\n",
    "scaler.fit(X_train_smoteen)\n",
    "X_train_scaled = scaler.transform(X_train_smoteen)\n",
    "X_test_scaled = scaler.transform(X_test)"
   ]
  },
  {
   "cell_type": "code",
   "execution_count": 33,
   "id": "abdeedde-cae7-464a-b75d-314caf030d31",
   "metadata": {},
   "outputs": [
    {
     "name": "stderr",
     "output_type": "stream",
     "text": [
      "/opt/conda/lib/python3.8/site-packages/sklearn/base.py:1152: DataConversionWarning: A column-vector y was passed when a 1d array was expected. Please change the shape of y to (n_samples,), for example using ravel().\n",
      "  return fit_method(estimator, *args, **kwargs)\n"
     ]
    },
    {
     "data": {
      "image/png": "[encoded data removed]",
      "text/plain": [
       "<Figure size 432x288 with 2 Axes>"
      ]
     },
     "metadata": {
      "needs_background": "light"
     },
     "output_type": "display_data"
    },
    {
     "data": {
      "image/png": "[encoded data removed]",
      "text/plain": [
       "<Figure size 432x288 with 2 Axes>"
      ]
     },
     "metadata": {
      "needs_background": "light"
     },
     "output_type": "display_data"
    },
    {
     "name": "stdout",
     "output_type": "stream",
     "text": [
      "Classification Report for Training Set:\n",
      "              precision    recall  f1-score   support\n",
      "\n",
      "           0       1.00      1.00      1.00     69778\n",
      "           1       1.00      1.00      1.00     62266\n",
      "\n",
      "    accuracy                           1.00    132044\n",
      "   macro avg       1.00      1.00      1.00    132044\n",
      "weighted avg       1.00      1.00      1.00    132044\n",
      "\n",
      "\n",
      "Classification Report for Test Set:\n",
      "              precision    recall  f1-score   support\n",
      "\n",
      "           0       0.13      0.32      0.19      1243\n",
      "           1       0.97      0.92      0.95     34252\n",
      "\n",
      "    accuracy                           0.90     35495\n",
      "   macro avg       0.55      0.62      0.57     35495\n",
      "weighted avg       0.94      0.90      0.92     35495\n",
      "\n"
     ]
    }
   ],
   "source": [
    "## build a RF model to get feature importance\n",
    "rf = RandomForestClassifier(n_estimators=100, random_state=42)\n",
    "rf.fit(X_train_scaled, y_train_smoteen)\n",
    "y_pred_train = rf.predict(X_train_scaled)\n",
    "y_pred_test = rf.predict(X_test_scaled)\n",
    "cm_train = confusion_matrix(y_train_smoteen, y_pred_train)\n",
    "cm_test = confusion_matrix(y_test, y_pred_test)\n",
    "\n",
    "# Create confusion matrix plots\n",
    "labels = rf.classes_\n",
    "cmplot_train = ConfusionMatrixDisplay(confusion_matrix=cm_train, display_labels=labels)\n",
    "cmplot_test = ConfusionMatrixDisplay(confusion_matrix=cm_test, display_labels=labels)\n",
    "\n",
    "# Plot confusion matrix for training set\n",
    "cmplot_train.plot()\n",
    "plt.title('Confusion Matrix for Training Set')\n",
    "plt.show()\n",
    "\n",
    "# Plot confusion matrix for test set\n",
    "cmplot_test.plot()\n",
    "plt.title('Confusion Matrix for Test Set')\n",
    "plt.show()\n",
    "\n",
    "# Build classification reports\n",
    "rf_train_report = classification_report(y_train_smoteen, y_pred_train)\n",
    "rf_test_report = classification_report(y_test, y_pred_test)\n",
    "\n",
    "print(\"Classification Report for Training Set:\")\n",
    "print(rf_train_report)\n",
    "print(\"\\nClassification Report for Test Set:\")\n",
    "print(rf_test_report)\n"
   ]
  },
  {
   "cell_type": "code",
   "execution_count": 34,
   "id": "9bdcad07-f996-4c1f-8fea-a23d64ea9bec",
   "metadata": {},
   "outputs": [
    {
     "data": {
      "image/png": "[encoded data removed]",
      "text/plain": [
       "<Figure size 864x432 with 1 Axes>"
      ]
     },
     "metadata": {
      "needs_background": "light"
     },
     "output_type": "display_data"
    }
   ],
   "source": [
    "importances = rf.feature_importances_\n",
    "\n",
    "# Convert the importances into a DataFrame\n",
    "feature_importance_df = pd.DataFrame({'feature': X.columns, 'importance': importances})\n",
    "\n",
    "# Sort the DataFrame to find out the most important features\n",
    "feature_importance_df = feature_importance_df.sort_values('importance', ascending=False)\n",
    "\n",
    "# Plot the feature importances\n",
    "plt.figure(figsize=(12, 6))\n",
    "plt.title('Feature Importances')\n",
    "plt.bar(feature_importance_df['feature'], feature_importance_df['importance'])\n",
    "plt.xticks(rotation='vertical')\n",
    "plt.xlabel('Feature')\n",
    "plt.ylabel('Importance')\n",
    "plt.show()"
   ]
  },
  {
   "cell_type": "code",
   "execution_count": null,
   "id": "1c3093cc-6491-4439-a9f5-95cca19f2067",
   "metadata": {},
   "outputs": [],
   "source": []
  },
  {
   "cell_type": "code",
   "execution_count": null,
   "id": "ec015ef1-f316-4497-930a-681ed908e658",
   "metadata": {},
   "outputs": [],
   "source": []
  },
  {
   "cell_type": "code",
   "execution_count": null,
   "id": "e7cee00e-c7a1-40ab-bac6-fcaa30ab0b29",
   "metadata": {},
   "outputs": [],
   "source": [
    "%%html\n",
    "\n",
    "<p><b>Shutting down your kernel for this notebook to release resources.</b></p>\n",
    "<button class=\"sm-command-button\" data-commandlinker-command=\"kernelmenu:shutdown\" style=\"display:none;\">Shutdown Kernel</button>\n",
    "        \n",
    "<script>\n",
    "try {\n",
    "    els = document.getElementsByClassName(\"sm-command-button\");\n",
    "    els[0].click();\n",
    "}\n",
    "catch(err) {\n",
    "    // NoOp\n",
    "}    \n",
    "</script>"
   ]
  },
  {
   "cell_type": "code",
   "execution_count": null,
   "id": "b98ed920-3db1-4b04-af87-bee108a0156d",
   "metadata": {},
   "outputs": [],
   "source": [
    "%%javascript\n",
    "\n",
    "try {\n",
    "    Jupyter.notebook.save_checkpoint();\n",
    "    Jupyter.notebook.session.delete();\n",
    "}\n",
    "catch(err) {\n",
    "    // NoOp\n",
    "}"
   ]
  },
  {
   "cell_type": "code",
   "execution_count": null,
   "id": "d2ef0d6c-52d0-45a4-ae7d-e827f175e5e4",
   "metadata": {},
   "outputs": [],
   "source": []
  }
 ],
 "metadata": {
  "availableInstances": [
   {
    "_defaultOrder": 0,
    "_isFastLaunch": true,
    "category": "General purpose",
    "gpuNum": 0,
    "hideHardwareSpecs": false,
    "memoryGiB": 4,
    "name": "ml.t3.medium",
    "vcpuNum": 2
   },
   {
    "_defaultOrder": 1,
    "_isFastLaunch": false,
    "category": "General purpose",
    "gpuNum": 0,
    "hideHardwareSpecs": false,
    "memoryGiB": 8,
    "name": "ml.t3.large",
    "vcpuNum": 2
   },
   {
    "_defaultOrder": 2,
    "_isFastLaunch": false,
    "category": "General purpose",
    "gpuNum": 0,
    "hideHardwareSpecs": false,
    "memoryGiB": 16,
    "name": "ml.t3.xlarge",
    "vcpuNum": 4
   },
   {
    "_defaultOrder": 3,
    "_isFastLaunch": false,
    "category": "General purpose",
    "gpuNum": 0,
    "hideHardwareSpecs": false,
    "memoryGiB": 32,
    "name": "ml.t3.2xlarge",
    "vcpuNum": 8
   },
   {
    "_defaultOrder": 4,
    "_isFastLaunch": true,
    "category": "General purpose",
    "gpuNum": 0,
    "hideHardwareSpecs": false,
    "memoryGiB": 8,
    "name": "ml.m5.large",
    "vcpuNum": 2
   },
   {
    "_defaultOrder": 5,
    "_isFastLaunch": false,
    "category": "General purpose",
    "gpuNum": 0,
    "hideHardwareSpecs": false,
    "memoryGiB": 16,
    "name": "ml.m5.xlarge",
    "vcpuNum": 4
   },
   {
    "_defaultOrder": 6,
    "_isFastLaunch": false,
    "category": "General purpose",
    "gpuNum": 0,
    "hideHardwareSpecs": false,
    "memoryGiB": 32,
    "name": "ml.m5.2xlarge",
    "vcpuNum": 8
   },
   {
    "_defaultOrder": 7,
    "_isFastLaunch": false,
    "category": "General purpose",
    "gpuNum": 0,
    "hideHardwareSpecs": false,
    "memoryGiB": 64,
    "name": "ml.m5.4xlarge",
    "vcpuNum": 16
   },
   {
    "_defaultOrder": 8,
    "_isFastLaunch": false,
    "category": "General purpose",
    "gpuNum": 0,
    "hideHardwareSpecs": false,
    "memoryGiB": 128,
    "name": "ml.m5.8xlarge",
    "vcpuNum": 32
   },
   {
    "_defaultOrder": 9,
    "_isFastLaunch": false,
    "category": "General purpose",
    "gpuNum": 0,
    "hideHardwareSpecs": false,
    "memoryGiB": 192,
    "name": "ml.m5.12xlarge",
    "vcpuNum": 48
   },
   {
    "_defaultOrder": 10,
    "_isFastLaunch": false,
    "category": "General purpose",
    "gpuNum": 0,
    "hideHardwareSpecs": false,
    "memoryGiB": 256,
    "name": "ml.m5.16xlarge",
    "vcpuNum": 64
   },
   {
    "_defaultOrder": 11,
    "_isFastLaunch": false,
    "category": "General purpose",
    "gpuNum": 0,
    "hideHardwareSpecs": false,
    "memoryGiB": 384,
    "name": "ml.m5.24xlarge",
    "vcpuNum": 96
   },
   {
    "_defaultOrder": 12,
    "_isFastLaunch": false,
    "category": "General purpose",
    "gpuNum": 0,
    "hideHardwareSpecs": false,
    "memoryGiB": 8,
    "name": "ml.m5d.large",
    "vcpuNum": 2
   },
   {
    "_defaultOrder": 13,
    "_isFastLaunch": false,
    "category": "General purpose",
    "gpuNum": 0,
    "hideHardwareSpecs": false,
    "memoryGiB": 16,
    "name": "ml.m5d.xlarge",
    "vcpuNum": 4
   },
   {
    "_defaultOrder": 14,
    "_isFastLaunch": false,
    "category": "General purpose",
    "gpuNum": 0,
    "hideHardwareSpecs": false,
    "memoryGiB": 32,
    "name": "ml.m5d.2xlarge",
    "vcpuNum": 8
   },
   {
    "_defaultOrder": 15,
    "_isFastLaunch": false,
    "category": "General purpose",
    "gpuNum": 0,
    "hideHardwareSpecs": false,
    "memoryGiB": 64,
    "name": "ml.m5d.4xlarge",
    "vcpuNum": 16
   },
   {
    "_defaultOrder": 16,
    "_isFastLaunch": false,
    "category": "General purpose",
    "gpuNum": 0,
    "hideHardwareSpecs": false,
    "memoryGiB": 128,
    "name": "ml.m5d.8xlarge",
    "vcpuNum": 32
   },
   {
    "_defaultOrder": 17,
    "_isFastLaunch": false,
    "category": "General purpose",
    "gpuNum": 0,
    "hideHardwareSpecs": false,
    "memoryGiB": 192,
    "name": "ml.m5d.12xlarge",
    "vcpuNum": 48
   },
   {
    "_defaultOrder": 18,
    "_isFastLaunch": false,
    "category": "General purpose",
    "gpuNum": 0,
    "hideHardwareSpecs": false,
    "memoryGiB": 256,
    "name": "ml.m5d.16xlarge",
    "vcpuNum": 64
   },
   {
    "_defaultOrder": 19,
    "_isFastLaunch": false,
    "category": "General purpose",
    "gpuNum": 0,
    "hideHardwareSpecs": false,
    "memoryGiB": 384,
    "name": "ml.m5d.24xlarge",
    "vcpuNum": 96
   },
   {
    "_defaultOrder": 20,
    "_isFastLaunch": false,
    "category": "General purpose",
    "gpuNum": 0,
    "hideHardwareSpecs": true,
    "memoryGiB": 0,
    "name": "ml.geospatial.interactive",
    "supportedImageNames": [
     "sagemaker-geospatial-v1-0"
    ],
    "vcpuNum": 0
   },
   {
    "_defaultOrder": 21,
    "_isFastLaunch": true,
    "category": "Compute optimized",
    "gpuNum": 0,
    "hideHardwareSpecs": false,
    "memoryGiB": 4,
    "name": "ml.c5.large",
    "vcpuNum": 2
   },
   {
    "_defaultOrder": 22,
    "_isFastLaunch": false,
    "category": "Compute optimized",
    "gpuNum": 0,
    "hideHardwareSpecs": false,
    "memoryGiB": 8,
    "name": "ml.c5.xlarge",
    "vcpuNum": 4
   },
   {
    "_defaultOrder": 23,
    "_isFastLaunch": false,
    "category": "Compute optimized",
    "gpuNum": 0,
    "hideHardwareSpecs": false,
    "memoryGiB": 16,
    "name": "ml.c5.2xlarge",
    "vcpuNum": 8
   },
   {
    "_defaultOrder": 24,
    "_isFastLaunch": false,
    "category": "Compute optimized",
    "gpuNum": 0,
    "hideHardwareSpecs": false,
    "memoryGiB": 32,
    "name": "ml.c5.4xlarge",
    "vcpuNum": 16
   },
   {
    "_defaultOrder": 25,
    "_isFastLaunch": false,
    "category": "Compute optimized",
    "gpuNum": 0,
    "hideHardwareSpecs": false,
    "memoryGiB": 72,
    "name": "ml.c5.9xlarge",
    "vcpuNum": 36
   },
   {
    "_defaultOrder": 26,
    "_isFastLaunch": false,
    "category": "Compute optimized",
    "gpuNum": 0,
    "hideHardwareSpecs": false,
    "memoryGiB": 96,
    "name": "ml.c5.12xlarge",
    "vcpuNum": 48
   },
   {
    "_defaultOrder": 27,
    "_isFastLaunch": false,
    "category": "Compute optimized",
    "gpuNum": 0,
    "hideHardwareSpecs": false,
    "memoryGiB": 144,
    "name": "ml.c5.18xlarge",
    "vcpuNum": 72
   },
   {
    "_defaultOrder": 28,
    "_isFastLaunch": false,
    "category": "Compute optimized",
    "gpuNum": 0,
    "hideHardwareSpecs": false,
    "memoryGiB": 192,
    "name": "ml.c5.24xlarge",
    "vcpuNum": 96
   },
   {
    "_defaultOrder": 29,
    "_isFastLaunch": true,
    "category": "Accelerated computing",
    "gpuNum": 1,
    "hideHardwareSpecs": false,
    "memoryGiB": 16,
    "name": "ml.g4dn.xlarge",
    "vcpuNum": 4
   },
   {
    "_defaultOrder": 30,
    "_isFastLaunch": false,
    "category": "Accelerated computing",
    "gpuNum": 1,
    "hideHardwareSpecs": false,
    "memoryGiB": 32,
    "name": "ml.g4dn.2xlarge",
    "vcpuNum": 8
   },
   {
    "_defaultOrder": 31,
    "_isFastLaunch": false,
    "category": "Accelerated computing",
    "gpuNum": 1,
    "hideHardwareSpecs": false,
    "memoryGiB": 64,
    "name": "ml.g4dn.4xlarge",
    "vcpuNum": 16
   },
   {
    "_defaultOrder": 32,
    "_isFastLaunch": false,
    "category": "Accelerated computing",
    "gpuNum": 1,
    "hideHardwareSpecs": false,
    "memoryGiB": 128,
    "name": "ml.g4dn.8xlarge",
    "vcpuNum": 32
   },
   {
    "_defaultOrder": 33,
    "_isFastLaunch": false,
    "category": "Accelerated computing",
    "gpuNum": 4,
    "hideHardwareSpecs": false,
    "memoryGiB": 192,
    "name": "ml.g4dn.12xlarge",
    "vcpuNum": 48
   },
   {
    "_defaultOrder": 34,
    "_isFastLaunch": false,
    "category": "Accelerated computing",
    "gpuNum": 1,
    "hideHardwareSpecs": false,
    "memoryGiB": 256,
    "name": "ml.g4dn.16xlarge",
    "vcpuNum": 64
   },
   {
    "_defaultOrder": 35,
    "_isFastLaunch": false,
    "category": "Accelerated computing",
    "gpuNum": 1,
    "hideHardwareSpecs": false,
    "memoryGiB": 61,
    "name": "ml.p3.2xlarge",
    "vcpuNum": 8
   },
   {
    "_defaultOrder": 36,
    "_isFastLaunch": false,
    "category": "Accelerated computing",
    "gpuNum": 4,
    "hideHardwareSpecs": false,
    "memoryGiB": 244,
    "name": "ml.p3.8xlarge",
    "vcpuNum": 32
   },
   {
    "_defaultOrder": 37,
    "_isFastLaunch": false,
    "category": "Accelerated computing",
    "gpuNum": 8,
    "hideHardwareSpecs": false,
    "memoryGiB": 488,
    "name": "ml.p3.16xlarge",
    "vcpuNum": 64
   },
   {
    "_defaultOrder": 38,
    "_isFastLaunch": false,
    "category": "Accelerated computing",
    "gpuNum": 8,
    "hideHardwareSpecs": false,
    "memoryGiB": 768,
    "name": "ml.p3dn.24xlarge",
    "vcpuNum": 96
   },
   {
    "_defaultOrder": 39,
    "_isFastLaunch": false,
    "category": "Memory Optimized",
    "gpuNum": 0,
    "hideHardwareSpecs": false,
    "memoryGiB": 16,
    "name": "ml.r5.large",
    "vcpuNum": 2
   },
   {
    "_defaultOrder": 40,
    "_isFastLaunch": false,
    "category": "Memory Optimized",
    "gpuNum": 0,
    "hideHardwareSpecs": false,
    "memoryGiB": 32,
    "name": "ml.r5.xlarge",
    "vcpuNum": 4
   },
   {
    "_defaultOrder": 41,
    "_isFastLaunch": false,
    "category": "Memory Optimized",
    "gpuNum": 0,
    "hideHardwareSpecs": false,
    "memoryGiB": 64,
    "name": "ml.r5.2xlarge",
    "vcpuNum": 8
   },
   {
    "_defaultOrder": 42,
    "_isFastLaunch": false,
    "category": "Memory Optimized",
    "gpuNum": 0,
    "hideHardwareSpecs": false,
    "memoryGiB": 128,
    "name": "ml.r5.4xlarge",
    "vcpuNum": 16
   },
   {
    "_defaultOrder": 43,
    "_isFastLaunch": false,
    "category": "Memory Optimized",
    "gpuNum": 0,
    "hideHardwareSpecs": false,
    "memoryGiB": 256,
    "name": "ml.r5.8xlarge",
    "vcpuNum": 32
   },
   {
    "_defaultOrder": 44,
    "_isFastLaunch": false,
    "category": "Memory Optimized",
    "gpuNum": 0,
    "hideHardwareSpecs": false,
    "memoryGiB": 384,
    "name": "ml.r5.12xlarge",
    "vcpuNum": 48
   },
   {
    "_defaultOrder": 45,
    "_isFastLaunch": false,
    "category": "Memory Optimized",
    "gpuNum": 0,
    "hideHardwareSpecs": false,
    "memoryGiB": 512,
    "name": "ml.r5.16xlarge",
    "vcpuNum": 64
   },
   {
    "_defaultOrder": 46,
    "_isFastLaunch": false,
    "category": "Memory Optimized",
    "gpuNum": 0,
    "hideHardwareSpecs": false,
    "memoryGiB": 768,
    "name": "ml.r5.24xlarge",
    "vcpuNum": 96
   },
   {
    "_defaultOrder": 47,
    "_isFastLaunch": false,
    "category": "Accelerated computing",
    "gpuNum": 1,
    "hideHardwareSpecs": false,
    "memoryGiB": 16,
    "name": "ml.g5.xlarge",
    "vcpuNum": 4
   },
   {
    "_defaultOrder": 48,
    "_isFastLaunch": false,
    "category": "Accelerated computing",
    "gpuNum": 1,
    "hideHardwareSpecs": false,
    "memoryGiB": 32,
    "name": "ml.g5.2xlarge",
    "vcpuNum": 8
   },
   {
    "_defaultOrder": 49,
    "_isFastLaunch": false,
    "category": "Accelerated computing",
    "gpuNum": 1,
    "hideHardwareSpecs": false,
    "memoryGiB": 64,
    "name": "ml.g5.4xlarge",
    "vcpuNum": 16
   },
   {
    "_defaultOrder": 50,
    "_isFastLaunch": false,
    "category": "Accelerated computing",
    "gpuNum": 1,
    "hideHardwareSpecs": false,
    "memoryGiB": 128,
    "name": "ml.g5.8xlarge",
    "vcpuNum": 32
   },
   {
    "_defaultOrder": 51,
    "_isFastLaunch": false,
    "category": "Accelerated computing",
    "gpuNum": 1,
    "hideHardwareSpecs": false,
    "memoryGiB": 256,
    "name": "ml.g5.16xlarge",
    "vcpuNum": 64
   },
   {
    "_defaultOrder": 52,
    "_isFastLaunch": false,
    "category": "Accelerated computing",
    "gpuNum": 4,
    "hideHardwareSpecs": false,
    "memoryGiB": 192,
    "name": "ml.g5.12xlarge",
    "vcpuNum": 48
   },
   {
    "_defaultOrder": 53,
    "_isFastLaunch": false,
    "category": "Accelerated computing",
    "gpuNum": 4,
    "hideHardwareSpecs": false,
    "memoryGiB": 384,
    "name": "ml.g5.24xlarge",
    "vcpuNum": 96
   },
   {
    "_defaultOrder": 54,
    "_isFastLaunch": false,
    "category": "Accelerated computing",
    "gpuNum": 8,
    "hideHardwareSpecs": false,
    "memoryGiB": 768,
    "name": "ml.g5.48xlarge",
    "vcpuNum": 192
   },
   {
    "_defaultOrder": 55,
    "_isFastLaunch": false,
    "category": "Accelerated computing",
    "gpuNum": 8,
    "hideHardwareSpecs": false,
    "memoryGiB": 1152,
    "name": "ml.p4d.24xlarge",
    "vcpuNum": 96
   },
   {
    "_defaultOrder": 56,
    "_isFastLaunch": false,
    "category": "Accelerated computing",
    "gpuNum": 8,
    "hideHardwareSpecs": false,
    "memoryGiB": 1152,
    "name": "ml.p4de.24xlarge",
    "vcpuNum": 96
   },
   {
    "_defaultOrder": 57,
    "_isFastLaunch": false,
    "category": "Accelerated computing",
    "gpuNum": 0,
    "hideHardwareSpecs": false,
    "memoryGiB": 32,
    "name": "ml.trn1.2xlarge",
    "vcpuNum": 8
   },
   {
    "_defaultOrder": 58,
    "_isFastLaunch": false,
    "category": "Accelerated computing",
    "gpuNum": 0,
    "hideHardwareSpecs": false,
    "memoryGiB": 512,
    "name": "ml.trn1.32xlarge",
    "vcpuNum": 128
   },
   {
    "_defaultOrder": 59,
    "_isFastLaunch": false,
    "category": "Accelerated computing",
    "gpuNum": 0,
    "hideHardwareSpecs": false,
    "memoryGiB": 512,
    "name": "ml.trn1n.32xlarge",
    "vcpuNum": 128
   }
  ],
  "instance_type": "ml.t3.medium",
  "kernelspec": {
   "display_name": "Python 3 (Data Science 2.0)",
   "language": "python",
   "name": "python3__SAGEMAKER_INTERNAL__arn:aws:sagemaker:us-east-1:081325390199:image/sagemaker-data-science-38"
  },
  "language_info": {
   "codemirror_mode": {
    "name": "ipython",
    "version": 3
   },
   "file_extension": ".py",
   "mimetype": "text/x-python",
   "name": "python",
   "nbconvert_exporter": "python",
   "pygments_lexer": "ipython3",
   "version": "3.8.13"
  }
 },
 "nbformat": 4,
 "nbformat_minor": 5
}
