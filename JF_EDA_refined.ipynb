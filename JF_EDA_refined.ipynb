{
 "cells": [
  {
   "cell_type": "markdown",
   "id": "84663f3a-a108-4934-818c-5e184b870342",
   "metadata": {},
   "source": [
    "## Import libraries needed"
   ]
  },
  {
   "cell_type": "code",
   "execution_count": 3,
   "id": "c19d3ca5-5e20-43a4-8962-904cf0b141af",
   "metadata": {
    "tags": []
   },
   "outputs": [
    {
     "name": "stdout",
     "output_type": "stream",
     "text": [
      "sagemaker.config INFO - Not applying SDK defaults from location: /etc/xdg/sagemaker/config.yaml\n",
      "sagemaker.config INFO - Not applying SDK defaults from location: /root/.config/sagemaker/config.yaml\n"
     ]
    }
   ],
   "source": [
    "import pandas as pd\n",
    "import numpy as np\n",
    "import boto3\n",
    "from pyathena import connect\n",
    "import sagemaker"
   ]
  },
  {
   "cell_type": "code",
   "execution_count": 4,
   "id": "04257e33-d008-4ee0-a2bd-a25f30ae62bf",
   "metadata": {
    "tags": []
   },
   "outputs": [
    {
     "name": "stdout",
     "output_type": "stream",
     "text": [
      "sagemaker.config INFO - Not applying SDK defaults from location: /etc/xdg/sagemaker/config.yaml\n",
      "sagemaker.config INFO - Not applying SDK defaults from location: /root/.config/sagemaker/config.yaml\n",
      "sagemaker.config INFO - Not applying SDK defaults from location: /etc/xdg/sagemaker/config.yaml\n",
      "sagemaker.config INFO - Not applying SDK defaults from location: /root/.config/sagemaker/config.yaml\n"
     ]
    }
   ],
   "source": [
    "## set the session and roles for AWS\n",
    "sagemaker_session = sagemaker.Session()\n",
    "role = sagemaker.get_execution_role()\n",
    "bucket = sagemaker_session.default_bucket()\n",
    "region = boto3.Session().region_name"
   ]
  },
  {
   "cell_type": "markdown",
   "id": "330c1ddf-6a16-473c-b5e3-803a58b30cb7",
   "metadata": {},
   "source": [
    "## Setup connection to Athena to pull in tables"
   ]
  },
  {
   "cell_type": "code",
   "execution_count": 5,
   "id": "0ea35e16-e613-436c-aa7f-e5e1cc368f7e",
   "metadata": {
    "tags": []
   },
   "outputs": [],
   "source": [
    "# Set S3 staging directory -- this is a temporary directory used for Athena queries\n",
    "s3_staging_dir = \"s3://{0}/athena/staging\".format(bucket)"
   ]
  },
  {
   "cell_type": "code",
   "execution_count": 6,
   "id": "84d7994f-b109-445b-989e-a7d69f2feb96",
   "metadata": {
    "tags": []
   },
   "outputs": [],
   "source": [
    "# create the connection, this will be used anytime we need to query data from Athena\n",
    "conn = connect(region_name=region, s3_staging_dir=s3_staging_dir)"
   ]
  },
  {
   "cell_type": "code",
   "execution_count": 7,
   "id": "e820da21-2287-464c-b3c7-0980ed984ab4",
   "metadata": {
    "tags": []
   },
   "outputs": [],
   "source": [
    "## Verify we have the database created\n",
    "statement = \"SHOW DATABASES\"\n",
    "db_show = pd.read_sql(statement, conn)\n",
    "db_show.head(5)\n",
    "## store teh db_name in a variable\n",
    "db_name = str(db_show.iloc[0]['database_name'])"
   ]
  },
  {
   "cell_type": "code",
   "execution_count": 8,
   "id": "ba242e33-071c-405a-90f9-a276215dc7ac",
   "metadata": {
    "tags": []
   },
   "outputs": [
    {
     "data": {
      "text/plain": [
       "'ads_508_team_5'"
      ]
     },
     "execution_count": 8,
     "metadata": {},
     "output_type": "execute_result"
    }
   ],
   "source": [
    "## we need to query the tables in and do a Join so it is one table to run our EDA off\n",
    "db_name"
   ]
  },
  {
   "cell_type": "markdown",
   "id": "18f1bfd2-4cb6-4121-b632-eed1fbe2a277",
   "metadata": {},
   "source": [
    "* Given the columns that are listed in each of these datasets, not all of the columns in any of the orders dataset is needed, once to look at in more detail are order_items: price, freight_value. order_payments: payment_type, payment_installments, payment_value. Order_reviews: review_score, orders_dataset: order_status"
   ]
  },
  {
   "cell_type": "markdown",
   "id": "c2207eee-df8a-41d9-94f0-817159bf647c",
   "metadata": {},
   "source": [
    "### Query in the data that we think is necessary for customer churn"
   ]
  },
  {
   "cell_type": "code",
   "execution_count": 16,
   "id": "53958744-b992-4f05-a51e-6bdc476e2587",
   "metadata": {
    "tags": []
   },
   "outputs": [],
   "source": [
    "churn_eda_query = \"\"\" SELECT\n",
    "                        c.*,\n",
    "                        ord.order_status,\n",
    "                        ord.order_purchase_timestamp,\n",
    "                        ordi.price,\n",
    "                        ordi.freight_value,\n",
    "                        ordp.payment_type,\n",
    "                        ordp.payment_installments,\n",
    "                        ordp.payment_value,\n",
    "                        ordr.review_score\n",
    "                    FROM\n",
    "                    {db}.customers_table c\n",
    "                    INNER JOIN {db}.orders_table ord ON ord.customer_id = c.customer_id \n",
    "                    INNER JOIN {db}.order_items_table ordi ON ordi.order_id = ord.order_id\n",
    "                    INNER JOIN {db}.order_payments_table ordp ON ordp.order_id = ord.order_id\n",
    "                    INNER JOIN {db}.order_reviews_table ordr ON ordr.order_id = ord.order_id\"\"\".format(db=db_name)"
   ]
  },
  {
   "cell_type": "code",
   "execution_count": 17,
   "id": "0aa8b501-6eb3-453f-97ad-2def71039f6d",
   "metadata": {
    "tags": []
   },
   "outputs": [
    {
     "data": {
      "text/html": [
       "<div>\n",
       "<style scoped>\n",
       "    .dataframe tbody tr th:only-of-type {\n",
       "        vertical-align: middle;\n",
       "    }\n",
       "\n",
       "    .dataframe tbody tr th {\n",
       "        vertical-align: top;\n",
       "    }\n",
       "\n",
       "    .dataframe thead th {\n",
       "        text-align: right;\n",
       "    }\n",
       "</style>\n",
       "<table border=\"1\" class=\"dataframe\">\n",
       "  <thead>\n",
       "    <tr style=\"text-align: right;\">\n",
       "      <th></th>\n",
       "      <th>customer_id</th>\n",
       "      <th>customer_unique_id</th>\n",
       "      <th>customer_zip_code_prefix</th>\n",
       "      <th>customer_city</th>\n",
       "      <th>customer_state</th>\n",
       "      <th>order_status</th>\n",
       "      <th>order_purchase_timestamp</th>\n",
       "      <th>price</th>\n",
       "      <th>freight_value</th>\n",
       "      <th>payment_type</th>\n",
       "      <th>payment_installments</th>\n",
       "      <th>payment_value</th>\n",
       "      <th>review_score</th>\n",
       "    </tr>\n",
       "  </thead>\n",
       "  <tbody>\n",
       "    <tr>\n",
       "      <th>0</th>\n",
       "      <td>\"06b8999e2fba1a1fbc88172c00ba8bc7\"</td>\n",
       "      <td>\"861eff4711a542e4b93843c6dd7febb0\"</td>\n",
       "      <td>None</td>\n",
       "      <td>franca</td>\n",
       "      <td>SP</td>\n",
       "      <td>delivered</td>\n",
       "      <td>2017-05-16 15:05:35</td>\n",
       "      <td>124.99</td>\n",
       "      <td>21.88</td>\n",
       "      <td>credit_card</td>\n",
       "      <td>2</td>\n",
       "      <td>146.87</td>\n",
       "      <td>4</td>\n",
       "    </tr>\n",
       "    <tr>\n",
       "      <th>1</th>\n",
       "      <td>\"18955e83d337fd6b2def6b18a428ac77\"</td>\n",
       "      <td>\"290c77bc529b7ac935b93aa66c333dc3\"</td>\n",
       "      <td>None</td>\n",
       "      <td>sao bernardo do campo</td>\n",
       "      <td>SP</td>\n",
       "      <td>delivered</td>\n",
       "      <td>2018-01-12 20:48:24</td>\n",
       "      <td>289.00</td>\n",
       "      <td>46.48</td>\n",
       "      <td>credit_card</td>\n",
       "      <td>8</td>\n",
       "      <td>335.48</td>\n",
       "      <td>5</td>\n",
       "    </tr>\n",
       "    <tr>\n",
       "      <th>2</th>\n",
       "      <td>\"4e7b3e00288586ebd08712fdd0374a03\"</td>\n",
       "      <td>\"060e732b5b29e8181a18229c7b0b2b5e\"</td>\n",
       "      <td>None</td>\n",
       "      <td>sao paulo</td>\n",
       "      <td>SP</td>\n",
       "      <td>delivered</td>\n",
       "      <td>2018-05-19 16:07:45</td>\n",
       "      <td>139.94</td>\n",
       "      <td>17.79</td>\n",
       "      <td>credit_card</td>\n",
       "      <td>7</td>\n",
       "      <td>157.73</td>\n",
       "      <td>5</td>\n",
       "    </tr>\n",
       "    <tr>\n",
       "      <th>3</th>\n",
       "      <td>b2b6027bc5c5109e529d4dc6358b12c3</td>\n",
       "      <td>\"259dac757896d24d7702b9acbbff3f3c\"</td>\n",
       "      <td>None</td>\n",
       "      <td>mogi das cruzes</td>\n",
       "      <td>SP</td>\n",
       "      <td>delivered</td>\n",
       "      <td>2018-03-13 16:06:38</td>\n",
       "      <td>149.94</td>\n",
       "      <td>23.36</td>\n",
       "      <td>credit_card</td>\n",
       "      <td>1</td>\n",
       "      <td>173.30</td>\n",
       "      <td>5</td>\n",
       "    </tr>\n",
       "    <tr>\n",
       "      <th>4</th>\n",
       "      <td>\"4f2d8ab171c80ec8364f7c12e35b23ad\"</td>\n",
       "      <td>\"345ecd01c38d18a9036ed96c73b8d066\"</td>\n",
       "      <td>None</td>\n",
       "      <td>campinas</td>\n",
       "      <td>SP</td>\n",
       "      <td>delivered</td>\n",
       "      <td>2018-07-29 09:51:30</td>\n",
       "      <td>230.00</td>\n",
       "      <td>22.25</td>\n",
       "      <td>credit_card</td>\n",
       "      <td>8</td>\n",
       "      <td>252.25</td>\n",
       "      <td>5</td>\n",
       "    </tr>\n",
       "  </tbody>\n",
       "</table>\n",
       "</div>"
      ],
      "text/plain": [
       "                          customer_id                  customer_unique_id  \\\n",
       "0  \"06b8999e2fba1a1fbc88172c00ba8bc7\"  \"861eff4711a542e4b93843c6dd7febb0\"   \n",
       "1  \"18955e83d337fd6b2def6b18a428ac77\"  \"290c77bc529b7ac935b93aa66c333dc3\"   \n",
       "2  \"4e7b3e00288586ebd08712fdd0374a03\"  \"060e732b5b29e8181a18229c7b0b2b5e\"   \n",
       "3    b2b6027bc5c5109e529d4dc6358b12c3  \"259dac757896d24d7702b9acbbff3f3c\"   \n",
       "4  \"4f2d8ab171c80ec8364f7c12e35b23ad\"  \"345ecd01c38d18a9036ed96c73b8d066\"   \n",
       "\n",
       "  customer_zip_code_prefix          customer_city customer_state order_status  \\\n",
       "0                     None                 franca             SP    delivered   \n",
       "1                     None  sao bernardo do campo             SP    delivered   \n",
       "2                     None              sao paulo             SP    delivered   \n",
       "3                     None        mogi das cruzes             SP    delivered   \n",
       "4                     None               campinas             SP    delivered   \n",
       "\n",
       "  order_purchase_timestamp   price  freight_value payment_type  \\\n",
       "0      2017-05-16 15:05:35  124.99          21.88  credit_card   \n",
       "1      2018-01-12 20:48:24  289.00          46.48  credit_card   \n",
       "2      2018-05-19 16:07:45  139.94          17.79  credit_card   \n",
       "3      2018-03-13 16:06:38  149.94          23.36  credit_card   \n",
       "4      2018-07-29 09:51:30  230.00          22.25  credit_card   \n",
       "\n",
       "   payment_installments  payment_value  review_score  \n",
       "0                     2         146.87             4  \n",
       "1                     8         335.48             5  \n",
       "2                     7         157.73             5  \n",
       "3                     1         173.30             5  \n",
       "4                     8         252.25             5  "
      ]
     },
     "execution_count": 17,
     "metadata": {},
     "output_type": "execute_result"
    }
   ],
   "source": [
    "main_df =pd.read_sql(churn_eda_query, conn)\n",
    "main_df.head()"
   ]
  },
  {
   "cell_type": "code",
   "execution_count": 33,
   "id": "487377a4-9ed0-4975-8a7e-e4be3812ab95",
   "metadata": {
    "tags": []
   },
   "outputs": [
    {
     "data": {
      "text/plain": [
       "customer_id                         object\n",
       "customer_unique_id                  object\n",
       "customer_zip_code_prefix            object\n",
       "customer_city                       object\n",
       "customer_state                      object\n",
       "order_status                        object\n",
       "order_purchase_timestamp    datetime64[ns]\n",
       "price                              float64\n",
       "freight_value                      float64\n",
       "payment_type                        object\n",
       "payment_installments                 int64\n",
       "payment_value                      float64\n",
       "review_score                         int64\n",
       "dtype: object"
      ]
     },
     "execution_count": 33,
     "metadata": {},
     "output_type": "execute_result"
    }
   ],
   "source": [
    "main_df.dtypes"
   ]
  },
  {
   "cell_type": "code",
   "execution_count": 24,
   "id": "5511601c-23be-4bd8-b676-f229edae0537",
   "metadata": {
    "tags": []
   },
   "outputs": [
    {
     "data": {
      "text/plain": [
       "1    114069\n",
       "0      4246\n",
       "Name: churn, dtype: int64"
      ]
     },
     "execution_count": 24,
     "metadata": {},
     "output_type": "execute_result"
    }
   ],
   "source": [
    "## In order for us to get teh customer churn we need to figure out who has made reorders and who has not, we can use the customer_id key \n",
    "## and teh customer unique key\n",
    "\n",
    "# conver teh timestamp to a date time\n",
    "main_df['order_purchase_timestamp'] = pd.to_datetime(main_df['order_purchase_timestamp'])\n",
    "# get tehf irst and last purchase for each customer\n",
    "purchase_dates = main_df.groupby('customer_unique_id').agg(first_purchase=pd.NamedAgg(column='order_purchase_timestamp', aggfunc='min'),\n",
    "                                                       last_purchase=pd.NamedAgg(column='order_purchase_timestamp', aggfunc='max')).reset_index()\n",
    "#Calculate the repurchase time in days for each customer\n",
    "purchase_dates['repurchase_time'] = (purchase_dates['last_purchase'] - purchase_dates['first_purchase']).dt.days\n",
    "churn_threshold = 180\n",
    "\n",
    "# Identify churned customers based on the churn threshold\n",
    "# Customers who have not made any repurchase within the churn threshold or who never made a repurchase\n",
    "purchase_dates['churn'] = ((purchase_dates['repurchase_time'] > churn_threshold) | (purchase_dates['repurchase_time'] == 0)).astype(int)\n",
    "df_with_churn = main_df.merge(purchase_dates[['customer_unique_id', 'churn']], on='customer_unique_id', how='inner')\n",
    "df_with_churn['churn'].value_counts()"
   ]
  },
  {
   "cell_type": "markdown",
   "id": "49166ed9-51f1-4841-9ef6-1b8eb0e753ce",
   "metadata": {},
   "source": [
    "### Churn Definition from above\n",
    "* A value of 1 indicates that customer has churned because they haven't made a repruchase within 180 days of their first purchase\n",
    "A churn value of 0 means that a customer has not churned, because they made a repurchase within 180 days after their first purchase"
   ]
  },
  {
   "cell_type": "code",
   "execution_count": 25,
   "id": "8a1150e8-0b2b-449f-96ec-4a5cc27a9bc2",
   "metadata": {
    "tags": []
   },
   "outputs": [
    {
     "data": {
      "text/html": [
       "<div>\n",
       "<style scoped>\n",
       "    .dataframe tbody tr th:only-of-type {\n",
       "        vertical-align: middle;\n",
       "    }\n",
       "\n",
       "    .dataframe tbody tr th {\n",
       "        vertical-align: top;\n",
       "    }\n",
       "\n",
       "    .dataframe thead th {\n",
       "        text-align: right;\n",
       "    }\n",
       "</style>\n",
       "<table border=\"1\" class=\"dataframe\">\n",
       "  <thead>\n",
       "    <tr style=\"text-align: right;\">\n",
       "      <th></th>\n",
       "      <th>price</th>\n",
       "      <th>freight_value</th>\n",
       "      <th>payment_installments</th>\n",
       "      <th>payment_value</th>\n",
       "      <th>review_score</th>\n",
       "      <th>churn</th>\n",
       "    </tr>\n",
       "  </thead>\n",
       "  <tbody>\n",
       "    <tr>\n",
       "      <th>count</th>\n",
       "      <td>118315.000000</td>\n",
       "      <td>118315.000000</td>\n",
       "      <td>118315.000000</td>\n",
       "      <td>118315.000000</td>\n",
       "      <td>118315.000000</td>\n",
       "      <td>118315.000000</td>\n",
       "    </tr>\n",
       "    <tr>\n",
       "      <th>mean</th>\n",
       "      <td>120.651027</td>\n",
       "      <td>20.033024</td>\n",
       "      <td>2.943498</td>\n",
       "      <td>172.575651</td>\n",
       "      <td>4.014554</td>\n",
       "      <td>0.964113</td>\n",
       "    </tr>\n",
       "    <tr>\n",
       "      <th>std</th>\n",
       "      <td>184.109626</td>\n",
       "      <td>15.836523</td>\n",
       "      <td>2.778022</td>\n",
       "      <td>267.104661</td>\n",
       "      <td>1.400186</td>\n",
       "      <td>0.186010</td>\n",
       "    </tr>\n",
       "    <tr>\n",
       "      <th>min</th>\n",
       "      <td>0.850000</td>\n",
       "      <td>0.000000</td>\n",
       "      <td>0.000000</td>\n",
       "      <td>0.000000</td>\n",
       "      <td>1.000000</td>\n",
       "      <td>0.000000</td>\n",
       "    </tr>\n",
       "    <tr>\n",
       "      <th>25%</th>\n",
       "      <td>39.900000</td>\n",
       "      <td>13.080000</td>\n",
       "      <td>1.000000</td>\n",
       "      <td>60.850000</td>\n",
       "      <td>3.000000</td>\n",
       "      <td>1.000000</td>\n",
       "    </tr>\n",
       "    <tr>\n",
       "      <th>50%</th>\n",
       "      <td>74.900000</td>\n",
       "      <td>16.280000</td>\n",
       "      <td>2.000000</td>\n",
       "      <td>108.200000</td>\n",
       "      <td>5.000000</td>\n",
       "      <td>1.000000</td>\n",
       "    </tr>\n",
       "    <tr>\n",
       "      <th>75%</th>\n",
       "      <td>134.900000</td>\n",
       "      <td>21.180000</td>\n",
       "      <td>4.000000</td>\n",
       "      <td>189.260000</td>\n",
       "      <td>5.000000</td>\n",
       "      <td>1.000000</td>\n",
       "    </tr>\n",
       "    <tr>\n",
       "      <th>max</th>\n",
       "      <td>6735.000000</td>\n",
       "      <td>409.680000</td>\n",
       "      <td>24.000000</td>\n",
       "      <td>13664.080000</td>\n",
       "      <td>5.000000</td>\n",
       "      <td>1.000000</td>\n",
       "    </tr>\n",
       "  </tbody>\n",
       "</table>\n",
       "</div>"
      ],
      "text/plain": [
       "               price  freight_value  payment_installments  payment_value  \\\n",
       "count  118315.000000  118315.000000         118315.000000  118315.000000   \n",
       "mean      120.651027      20.033024              2.943498     172.575651   \n",
       "std       184.109626      15.836523              2.778022     267.104661   \n",
       "min         0.850000       0.000000              0.000000       0.000000   \n",
       "25%        39.900000      13.080000              1.000000      60.850000   \n",
       "50%        74.900000      16.280000              2.000000     108.200000   \n",
       "75%       134.900000      21.180000              4.000000     189.260000   \n",
       "max      6735.000000     409.680000             24.000000   13664.080000   \n",
       "\n",
       "        review_score          churn  \n",
       "count  118315.000000  118315.000000  \n",
       "mean        4.014554       0.964113  \n",
       "std         1.400186       0.186010  \n",
       "min         1.000000       0.000000  \n",
       "25%         3.000000       1.000000  \n",
       "50%         5.000000       1.000000  \n",
       "75%         5.000000       1.000000  \n",
       "max         5.000000       1.000000  "
      ]
     },
     "execution_count": 25,
     "metadata": {},
     "output_type": "execute_result"
    }
   ],
   "source": [
    "df_with_churn.describe()"
   ]
  },
  {
   "cell_type": "code",
   "execution_count": 26,
   "id": "cbaf2182-a986-4d46-ba8d-270aa8eb374b",
   "metadata": {
    "tags": []
   },
   "outputs": [
    {
     "data": {
      "text/plain": [
       "customer_id                      0\n",
       "customer_unique_id               0\n",
       "customer_zip_code_prefix    118315\n",
       "customer_city                    0\n",
       "customer_state                   0\n",
       "order_status                     0\n",
       "order_purchase_timestamp         0\n",
       "price                            0\n",
       "freight_value                    0\n",
       "payment_type                     0\n",
       "payment_installments             0\n",
       "payment_value                    0\n",
       "review_score                     0\n",
       "churn                            0\n",
       "dtype: int64"
      ]
     },
     "execution_count": 26,
     "metadata": {},
     "output_type": "execute_result"
    }
   ],
   "source": [
    "df_with_churn.isnull().sum()"
   ]
  },
  {
   "cell_type": "code",
   "execution_count": 27,
   "id": "5e5f215a-2190-409f-80a6-ef893e8040b7",
   "metadata": {
    "tags": []
   },
   "outputs": [
    {
     "data": {
      "text/plain": [
       "delivered      115728\n",
       "shipped          1255\n",
       "canceled          570\n",
       "invoiced          376\n",
       "processing        376\n",
       "unavailable         7\n",
       "approved            3\n",
       "Name: order_status, dtype: int64"
      ]
     },
     "execution_count": 27,
     "metadata": {},
     "output_type": "execute_result"
    }
   ],
   "source": [
    "df_with_churn['order_status'].value_counts()"
   ]
  },
  {
   "cell_type": "code",
   "execution_count": 28,
   "id": "46289b99-83fb-4a8e-8747-5c18a2e4b1e6",
   "metadata": {
    "tags": []
   },
   "outputs": [
    {
     "data": {
      "text/plain": [
       "SP    49865\n",
       "RJ    15425\n",
       "MG    13718\n",
       "RS     6539\n",
       "PR     5988\n",
       "SC     4319\n",
       "BA     4069\n",
       "DF     2500\n",
       "GO     2453\n",
       "ES     2351\n",
       "PE     1903\n",
       "CE     1556\n",
       "MT     1128\n",
       "PA     1124\n",
       "MS      856\n",
       "MA      849\n",
       "PB      640\n",
       "PI      574\n",
       "RN      571\n",
       "AL      462\n",
       "SE      397\n",
       "TO      339\n",
       "RO      286\n",
       "AM      172\n",
       "AC       95\n",
       "AP       84\n",
       "RR       52\n",
       "Name: customer_state, dtype: int64"
      ]
     },
     "execution_count": 28,
     "metadata": {},
     "output_type": "execute_result"
    }
   ],
   "source": [
    "df_with_churn['customer_state'].value_counts()"
   ]
  },
  {
   "cell_type": "code",
   "execution_count": 29,
   "id": "c8b764f7-553b-4303-ba7f-57697a27c8c7",
   "metadata": {
    "tags": []
   },
   "outputs": [
    {
     "data": {
      "text/plain": [
       "credit_card    87266\n",
       "boleto         23018\n",
       "voucher         6332\n",
       "debit_card      1699\n",
       "Name: payment_type, dtype: int64"
      ]
     },
     "execution_count": 29,
     "metadata": {},
     "output_type": "execute_result"
    }
   ],
   "source": [
    "df_with_churn['payment_type'].value_counts()"
   ]
  },
  {
   "cell_type": "code",
   "execution_count": 30,
   "id": "87a9fb10-fe64-4d38-b5dc-34e43d949dd1",
   "metadata": {
    "tags": []
   },
   "outputs": [
    {
     "data": {
      "image/png": "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",
      "text/plain": [
       "<Figure size 720x576 with 2 Axes>"
      ]
     },
     "metadata": {
      "needs_background": "light"
     },
     "output_type": "display_data"
    }
   ],
   "source": [
    "import pandas as pd\n",
    "import seaborn as sns\n",
    "import matplotlib.pyplot as plt\n",
    "corr_matrix = df_with_churn[[\"price\", \"freight_value\", \"payment_installments\", \"payment_value\", \"review_score\", 'churn']].corr()\n",
    "\n",
    "# Plotting the correlation matrix\n",
    "plt.figure(figsize=(10, 8))\n",
    "sns.heatmap(corr_matrix, annot=True, cmap='coolwarm')\n",
    "plt.title(\"Correlation Matrix\")\n",
    "plt.show()"
   ]
  },
  {
   "cell_type": "code",
   "execution_count": 34,
   "id": "87d09fb0-e257-4f38-8b5c-e6df91713684",
   "metadata": {
    "tags": []
   },
   "outputs": [
    {
     "data": {
      "image/png": "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",
      "text/plain": [
       "<Figure size 864x720 with 6 Axes>"
      ]
     },
     "metadata": {
      "needs_background": "light"
     },
     "output_type": "display_data"
    }
   ],
   "source": [
    "# Plotting distribution plots for numerical columns\n",
    "fig, axs = plt.subplots(3, 2, figsize=(12, 10))\n",
    "\n",
    "sns.histplot(df_with_churn[\"price\"], kde=True, ax=axs[0, 0])\n",
    "axs[0, 0].set_title(\"Price Distribution\")\n",
    "\n",
    "sns.histplot(df_with_churn[\"freight_value\"], kde=True, ax=axs[0, 1])\n",
    "axs[0, 1].set_title(\"Freight Value Distribution\")\n",
    "\n",
    "sns.histplot(df_with_churn[\"payment_installments\"], kde=True, ax=axs[1, 0])\n",
    "axs[1, 0].set_title(\"Payment Installments Distribution\")\n",
    "\n",
    "sns.histplot(df_with_churn[\"payment_value\"], kde=True, ax=axs[1, 1])\n",
    "axs[1, 1].set_title(\"Payment Value Distribution\")\n",
    "\n",
    "sns.histplot(df_with_churn[\"churn\"], kde=True, ax=axs[2, 0])\n",
    "axs[2, 0].set_title(\"Churn Value Distribution\")\n",
    "\n",
    "sns.histplot(df_with_churn[\"review_score\"], kde=True, ax=axs[2, 1])\n",
    "axs[2, 1].set_title(\"Review Score Value Distribution\")\n",
    "\n",
    "plt.tight_layout()\n",
    "plt.show()"
   ]
  },
  {
   "cell_type": "code",
   "execution_count": 40,
   "id": "b75009d7-6fd1-4854-baa7-c91372df88b9",
   "metadata": {},
   "outputs": [
    {
     "data": {
      "image/png": "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",
      "text/plain": [
       "<Figure size 864x720 with 4 Axes>"
      ]
     },
     "metadata": {
      "needs_background": "light"
     },
     "output_type": "display_data"
    }
   ],
   "source": [
    "## create a boxplot for price freight_value payment_value by custmer churn\n",
    "fig, axs = plt.subplots(2, 2, figsize=(12, 10))\n",
    "sns.boxplot(x='churn', y='price', data=df_with_churn, ax=axs[0, 0])\n",
    "axs[0, 0].set_title(\"Price Boxplot\")\n",
    "sns.boxplot(x='churn', y='freight_value', data=df_with_churn, ax=axs[0, 1])\n",
    "axs[0, 1].set_title(\"Freight Value Boxplot\")\n",
    "sns.boxplot(x='churn', y='payment_value', data=df_with_churn, ax=axs[1, 0])\n",
    "axs[1, 0].set_title(\"Payment Value Boxplot\")\n",
    "plt.show()\n"
   ]
  },
  {
   "cell_type": "code",
   "execution_count": 59,
   "id": "9657c32a-f196-4ff9-b378-50aad840f5ec",
   "metadata": {
    "tags": []
   },
   "outputs": [
    {
     "data": {
      "image/png": "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",
      "text/plain": [
       "<Figure size 1080x864 with 6 Axes>"
      ]
     },
     "metadata": {
      "needs_background": "light"
     },
     "output_type": "display_data"
    }
   ],
   "source": [
    "# create a scatter plot for the numeric features and churn\n",
    "fig, axs = plt.subplots(3, 2, figsize=(15, 12))\n",
    "sns.scatterplot(y='payment_value', x='price', data=df_with_churn, ax=axs[0, 0])\n",
    "axs[0, 0].set_title(\"Payment Value By price\")\n",
    "sns.scatterplot(x='review_score', y = 'payment_value', data=df_with_churn, ax=axs[0, 1])\n",
    "axs[0, 1].set_title(\"Review Score By Value\")\n",
    "sns.barplot(x='payment_type', y = 'payment_value', data=df_with_churn, ax=axs[1, 0])\n",
    "axs[1, 0].set_title(\"Payment Type By Value\")\n",
    "sns.barplot(x='payment_type', y = 'price', data=df_with_churn, ax=axs[1, 1])\n",
    "axs[1, 1].set_title(\"Payment Type By price\")\n",
    "sns.barplot(x='review_score', y = 'price', data=df_with_churn, ax=axs[2, 0])\n",
    "axs[2, 0].set_title(\"Review Score By Price\")\n",
    "plt.show();\n"
   ]
  },
  {
   "cell_type": "code",
   "execution_count": 61,
   "id": "5d3eb16b-ceff-4a26-a1cb-aadcb617ac98",
   "metadata": {
    "tags": []
   },
   "outputs": [
    {
     "data": {
      "text/plain": [
       "sao paulo             18728\n",
       "rio de janeiro         8261\n",
       "belo horizonte         3274\n",
       "brasilia               2484\n",
       "curitiba               1816\n",
       "                      ...  \n",
       "sao jose do piaui         1\n",
       "jardim de piranhas        1\n",
       "ciriaco                   1\n",
       "aratiba                   1\n",
       "eugenio de castro         1\n",
       "Name: customer_city, Length: 4110, dtype: int64"
      ]
     },
     "execution_count": 61,
     "metadata": {},
     "output_type": "execute_result"
    }
   ],
   "source": [
    "df_with_churn['customer_city'].value_counts()"
   ]
  },
  {
   "cell_type": "markdown",
   "id": "dd2fd405-648a-4563-9fb8-a3e9431c5276",
   "metadata": {},
   "source": [
    "## Pre-process the data"
   ]
  },
  {
   "cell_type": "code",
   "execution_count": 60,
   "id": "f435a949-f5de-438e-9ab5-e9d12c72f6da",
   "metadata": {
    "tags": []
   },
   "outputs": [
    {
     "data": {
      "text/html": [
       "<div>\n",
       "<style scoped>\n",
       "    .dataframe tbody tr th:only-of-type {\n",
       "        vertical-align: middle;\n",
       "    }\n",
       "\n",
       "    .dataframe tbody tr th {\n",
       "        vertical-align: top;\n",
       "    }\n",
       "\n",
       "    .dataframe thead th {\n",
       "        text-align: right;\n",
       "    }\n",
       "</style>\n",
       "<table border=\"1\" class=\"dataframe\">\n",
       "  <thead>\n",
       "    <tr style=\"text-align: right;\">\n",
       "      <th></th>\n",
       "      <th>customer_id</th>\n",
       "      <th>customer_unique_id</th>\n",
       "      <th>customer_zip_code_prefix</th>\n",
       "      <th>customer_city</th>\n",
       "      <th>customer_state</th>\n",
       "      <th>order_status</th>\n",
       "      <th>order_purchase_timestamp</th>\n",
       "      <th>price</th>\n",
       "      <th>freight_value</th>\n",
       "      <th>payment_type</th>\n",
       "      <th>payment_installments</th>\n",
       "      <th>payment_value</th>\n",
       "      <th>review_score</th>\n",
       "      <th>churn</th>\n",
       "    </tr>\n",
       "  </thead>\n",
       "  <tbody>\n",
       "    <tr>\n",
       "      <th>0</th>\n",
       "      <td>\"06b8999e2fba1a1fbc88172c00ba8bc7\"</td>\n",
       "      <td>\"861eff4711a542e4b93843c6dd7febb0\"</td>\n",
       "      <td>None</td>\n",
       "      <td>franca</td>\n",
       "      <td>SP</td>\n",
       "      <td>delivered</td>\n",
       "      <td>2017-05-16 15:05:35</td>\n",
       "      <td>124.99</td>\n",
       "      <td>21.88</td>\n",
       "      <td>credit_card</td>\n",
       "      <td>2</td>\n",
       "      <td>146.87</td>\n",
       "      <td>4</td>\n",
       "      <td>1</td>\n",
       "    </tr>\n",
       "    <tr>\n",
       "      <th>1</th>\n",
       "      <td>\"18955e83d337fd6b2def6b18a428ac77\"</td>\n",
       "      <td>\"290c77bc529b7ac935b93aa66c333dc3\"</td>\n",
       "      <td>None</td>\n",
       "      <td>sao bernardo do campo</td>\n",
       "      <td>SP</td>\n",
       "      <td>delivered</td>\n",
       "      <td>2018-01-12 20:48:24</td>\n",
       "      <td>289.00</td>\n",
       "      <td>46.48</td>\n",
       "      <td>credit_card</td>\n",
       "      <td>8</td>\n",
       "      <td>335.48</td>\n",
       "      <td>5</td>\n",
       "      <td>1</td>\n",
       "    </tr>\n",
       "    <tr>\n",
       "      <th>2</th>\n",
       "      <td>\"4e7b3e00288586ebd08712fdd0374a03\"</td>\n",
       "      <td>\"060e732b5b29e8181a18229c7b0b2b5e\"</td>\n",
       "      <td>None</td>\n",
       "      <td>sao paulo</td>\n",
       "      <td>SP</td>\n",
       "      <td>delivered</td>\n",
       "      <td>2018-05-19 16:07:45</td>\n",
       "      <td>139.94</td>\n",
       "      <td>17.79</td>\n",
       "      <td>credit_card</td>\n",
       "      <td>7</td>\n",
       "      <td>157.73</td>\n",
       "      <td>5</td>\n",
       "      <td>1</td>\n",
       "    </tr>\n",
       "    <tr>\n",
       "      <th>3</th>\n",
       "      <td>b2b6027bc5c5109e529d4dc6358b12c3</td>\n",
       "      <td>\"259dac757896d24d7702b9acbbff3f3c\"</td>\n",
       "      <td>None</td>\n",
       "      <td>mogi das cruzes</td>\n",
       "      <td>SP</td>\n",
       "      <td>delivered</td>\n",
       "      <td>2018-03-13 16:06:38</td>\n",
       "      <td>149.94</td>\n",
       "      <td>23.36</td>\n",
       "      <td>credit_card</td>\n",
       "      <td>1</td>\n",
       "      <td>173.30</td>\n",
       "      <td>5</td>\n",
       "      <td>1</td>\n",
       "    </tr>\n",
       "    <tr>\n",
       "      <th>4</th>\n",
       "      <td>\"4f2d8ab171c80ec8364f7c12e35b23ad\"</td>\n",
       "      <td>\"345ecd01c38d18a9036ed96c73b8d066\"</td>\n",
       "      <td>None</td>\n",
       "      <td>campinas</td>\n",
       "      <td>SP</td>\n",
       "      <td>delivered</td>\n",
       "      <td>2018-07-29 09:51:30</td>\n",
       "      <td>230.00</td>\n",
       "      <td>22.25</td>\n",
       "      <td>credit_card</td>\n",
       "      <td>8</td>\n",
       "      <td>252.25</td>\n",
       "      <td>5</td>\n",
       "      <td>1</td>\n",
       "    </tr>\n",
       "  </tbody>\n",
       "</table>\n",
       "</div>"
      ],
      "text/plain": [
       "                          customer_id                  customer_unique_id  \\\n",
       "0  \"06b8999e2fba1a1fbc88172c00ba8bc7\"  \"861eff4711a542e4b93843c6dd7febb0\"   \n",
       "1  \"18955e83d337fd6b2def6b18a428ac77\"  \"290c77bc529b7ac935b93aa66c333dc3\"   \n",
       "2  \"4e7b3e00288586ebd08712fdd0374a03\"  \"060e732b5b29e8181a18229c7b0b2b5e\"   \n",
       "3    b2b6027bc5c5109e529d4dc6358b12c3  \"259dac757896d24d7702b9acbbff3f3c\"   \n",
       "4  \"4f2d8ab171c80ec8364f7c12e35b23ad\"  \"345ecd01c38d18a9036ed96c73b8d066\"   \n",
       "\n",
       "  customer_zip_code_prefix          customer_city customer_state order_status  \\\n",
       "0                     None                 franca             SP    delivered   \n",
       "1                     None  sao bernardo do campo             SP    delivered   \n",
       "2                     None              sao paulo             SP    delivered   \n",
       "3                     None        mogi das cruzes             SP    delivered   \n",
       "4                     None               campinas             SP    delivered   \n",
       "\n",
       "  order_purchase_timestamp   price  freight_value payment_type  \\\n",
       "0      2017-05-16 15:05:35  124.99          21.88  credit_card   \n",
       "1      2018-01-12 20:48:24  289.00          46.48  credit_card   \n",
       "2      2018-05-19 16:07:45  139.94          17.79  credit_card   \n",
       "3      2018-03-13 16:06:38  149.94          23.36  credit_card   \n",
       "4      2018-07-29 09:51:30  230.00          22.25  credit_card   \n",
       "\n",
       "   payment_installments  payment_value  review_score  churn  \n",
       "0                     2         146.87             4      1  \n",
       "1                     8         335.48             5      1  \n",
       "2                     7         157.73             5      1  \n",
       "3                     1         173.30             5      1  \n",
       "4                     8         252.25             5      1  "
      ]
     },
     "execution_count": 60,
     "metadata": {},
     "output_type": "execute_result"
    }
   ],
   "source": [
    "df_with_churn.head()"
   ]
  },
  {
   "cell_type": "code",
   "execution_count": 63,
   "id": "3dfccf45-cc8f-4a5d-af75-eb61ef015223",
   "metadata": {
    "tags": []
   },
   "outputs": [
    {
     "data": {
      "text/html": [
       "<div>\n",
       "<style scoped>\n",
       "    .dataframe tbody tr th:only-of-type {\n",
       "        vertical-align: middle;\n",
       "    }\n",
       "\n",
       "    .dataframe tbody tr th {\n",
       "        vertical-align: top;\n",
       "    }\n",
       "\n",
       "    .dataframe thead th {\n",
       "        text-align: right;\n",
       "    }\n",
       "</style>\n",
       "<table border=\"1\" class=\"dataframe\">\n",
       "  <thead>\n",
       "    <tr style=\"text-align: right;\">\n",
       "      <th></th>\n",
       "      <th>order_status</th>\n",
       "      <th>price</th>\n",
       "      <th>freight_value</th>\n",
       "      <th>payment_type</th>\n",
       "      <th>payment_installments</th>\n",
       "      <th>payment_value</th>\n",
       "      <th>review_score</th>\n",
       "      <th>churn</th>\n",
       "    </tr>\n",
       "  </thead>\n",
       "  <tbody>\n",
       "    <tr>\n",
       "      <th>0</th>\n",
       "      <td>delivered</td>\n",
       "      <td>124.99</td>\n",
       "      <td>21.88</td>\n",
       "      <td>credit_card</td>\n",
       "      <td>2</td>\n",
       "      <td>146.87</td>\n",
       "      <td>4</td>\n",
       "      <td>1</td>\n",
       "    </tr>\n",
       "    <tr>\n",
       "      <th>1</th>\n",
       "      <td>delivered</td>\n",
       "      <td>289.00</td>\n",
       "      <td>46.48</td>\n",
       "      <td>credit_card</td>\n",
       "      <td>8</td>\n",
       "      <td>335.48</td>\n",
       "      <td>5</td>\n",
       "      <td>1</td>\n",
       "    </tr>\n",
       "    <tr>\n",
       "      <th>2</th>\n",
       "      <td>delivered</td>\n",
       "      <td>139.94</td>\n",
       "      <td>17.79</td>\n",
       "      <td>credit_card</td>\n",
       "      <td>7</td>\n",
       "      <td>157.73</td>\n",
       "      <td>5</td>\n",
       "      <td>1</td>\n",
       "    </tr>\n",
       "    <tr>\n",
       "      <th>3</th>\n",
       "      <td>delivered</td>\n",
       "      <td>149.94</td>\n",
       "      <td>23.36</td>\n",
       "      <td>credit_card</td>\n",
       "      <td>1</td>\n",
       "      <td>173.30</td>\n",
       "      <td>5</td>\n",
       "      <td>1</td>\n",
       "    </tr>\n",
       "    <tr>\n",
       "      <th>4</th>\n",
       "      <td>delivered</td>\n",
       "      <td>230.00</td>\n",
       "      <td>22.25</td>\n",
       "      <td>credit_card</td>\n",
       "      <td>8</td>\n",
       "      <td>252.25</td>\n",
       "      <td>5</td>\n",
       "      <td>1</td>\n",
       "    </tr>\n",
       "  </tbody>\n",
       "</table>\n",
       "</div>"
      ],
      "text/plain": [
       "  order_status   price  freight_value payment_type  payment_installments  \\\n",
       "0    delivered  124.99          21.88  credit_card                     2   \n",
       "1    delivered  289.00          46.48  credit_card                     8   \n",
       "2    delivered  139.94          17.79  credit_card                     7   \n",
       "3    delivered  149.94          23.36  credit_card                     1   \n",
       "4    delivered  230.00          22.25  credit_card                     8   \n",
       "\n",
       "   payment_value  review_score  churn  \n",
       "0         146.87             4      1  \n",
       "1         335.48             5      1  \n",
       "2         157.73             5      1  \n",
       "3         173.30             5      1  \n",
       "4         252.25             5      1  "
      ]
     },
     "execution_count": 63,
     "metadata": {},
     "output_type": "execute_result"
    }
   ],
   "source": [
    "# columns to drop: Ids, Zip, State. These are two unique columns to add to the model. Also drop Timestamp\n",
    "# new dataframe\n",
    "new_df = df_with_churn.drop(columns = ['customer_id', \n",
    "                                      'customer_unique_id', \n",
    "                                      'customer_zip_code_prefix', \n",
    "                                      'customer_city',\n",
    "                                      'customer_state',\n",
    "                                      'order_purchase_timestamp',\n",
    "                                     ]\n",
    "                           )\n",
    "new_df.head()"
   ]
  },
  {
   "cell_type": "code",

   "execution_count": null,
   "id": "a6858896-b68e-48f5-aec3-37314d3f6045",
   "metadata": {},
   "outputs": [],
   "source": [
    "# one hot encode the categorical columns\n",
    "from sklearn.pipeline import make_pipeline, Pipeline\n",
    "from sklearn.preprocessing import OneHotEncoder, StandardScaler\n",
    "from sklearn.decomposition import PCA\n",
    "from sklearn.model_selection import train_test_split"

   "execution_count": 2,
   "id": "be7e8fd0-56b1-4400-b19e-c5b52cbd6099",
   "metadata": {
    "tags": []
   },
   "outputs": [
    {
     "name": "stdout",
     "output_type": "stream",
     "text": [
      "Hello World\n"
     ]
    }
   ],
   "source": [
    "print(\"Hello World\")"

   ]
  },
  {
   "cell_type": "code",
   "execution_count": 44,
   "id": "72a134dd-3fed-44af-87a1-2c947e115929",
   "metadata": {},
   "outputs": [
    {
     "ename": "ValueError",
     "evalue": "could not convert string to float: '\"06b8999e2fba1a1fbc88172c00ba8bc7\"'",
     "output_type": "error",
     "traceback": [
      "\u001b[0;31m---------------------------------------------------------------------------\u001b[0m",
      "\u001b[0;31mValueError\u001b[0m                                Traceback (most recent call last)",
      "\u001b[0;32m/tmp/ipykernel_888/3191556329.py\u001b[0m in \u001b[0;36m?\u001b[0;34m()\u001b[0m\n\u001b[0;32m----> 7\u001b[0;31m \u001b[0;32mfrom\u001b[0m \u001b[0msklearn\u001b[0m\u001b[0;34m.\u001b[0m\u001b[0mpreprocessing\u001b[0m \u001b[0;32mimport\u001b[0m \u001b[0mStandardScaler\u001b[0m\u001b[0;34m\u001b[0m\u001b[0;34m\u001b[0m\u001b[0m\n\u001b[0m\u001b[1;32m      8\u001b[0m \u001b[0;32mfrom\u001b[0m \u001b[0msklearn\u001b[0m\u001b[0;34m.\u001b[0m\u001b[0mpipeline\u001b[0m \u001b[0;32mimport\u001b[0m \u001b[0mPipeline\u001b[0m\u001b[0;34m\u001b[0m\u001b[0;34m\u001b[0m\u001b[0m\n\u001b[1;32m      9\u001b[0m \u001b[0;32mfrom\u001b[0m \u001b[0msklearn\u001b[0m\u001b[0;34m.\u001b[0m\u001b[0mdecomposition\u001b[0m \u001b[0;32mimport\u001b[0m \u001b[0mPCA\u001b[0m\u001b[0;34m\u001b[0m\u001b[0;34m\u001b[0m\u001b[0m\n\u001b[1;32m     10\u001b[0m \u001b[0mX\u001b[0m\u001b[0;34m,\u001b[0m \u001b[0my\u001b[0m \u001b[0;34m=\u001b[0m \u001b[0mdf_with_churn\u001b[0m\u001b[0;34m.\u001b[0m\u001b[0mdrop\u001b[0m\u001b[0;34m(\u001b[0m\u001b[0mcolumns\u001b[0m\u001b[0;34m=\u001b[0m\u001b[0;34m'churn'\u001b[0m\u001b[0;34m)\u001b[0m\u001b[0;34m,\u001b[0m \u001b[0mdf_with_churn\u001b[0m\u001b[0;34m[\u001b[0m\u001b[0;34m[\u001b[0m\u001b[0;34m'churn'\u001b[0m\u001b[0;34m]\u001b[0m\u001b[0;34m]\u001b[0m\u001b[0;34m\u001b[0m\u001b[0;34m\u001b[0m\u001b[0m\n",
      "\u001b[0;32m/opt/conda/lib/python3.8/site-packages/sklearn/base.py\u001b[0m in \u001b[0;36m?\u001b[0;34m(estimator, *args, **kwargs)\u001b[0m\n\u001b[1;32m   1148\u001b[0m                 skip_parameter_validation=(\n\u001b[1;32m   1149\u001b[0m                     \u001b[0mprefer_skip_nested_validation\u001b[0m \u001b[0;32mor\u001b[0m \u001b[0mglobal_skip_validation\u001b[0m\u001b[0;34m\u001b[0m\u001b[0;34m\u001b[0m\u001b[0m\n\u001b[1;32m   1150\u001b[0m                 )\n\u001b[1;32m   1151\u001b[0m             ):\n\u001b[0;32m-> 1152\u001b[0;31m                 \u001b[0;32mreturn\u001b[0m \u001b[0mfit_method\u001b[0m\u001b[0;34m(\u001b[0m\u001b[0mestimator\u001b[0m\u001b[0;34m,\u001b[0m \u001b[0;34m*\u001b[0m\u001b[0margs\u001b[0m\u001b[0;34m,\u001b[0m \u001b[0;34m**\u001b[0m\u001b[0mkwargs\u001b[0m\u001b[0;34m)\u001b[0m\u001b[0;34m\u001b[0m\u001b[0;34m\u001b[0m\u001b[0m\n\u001b[0m",
      "\u001b[0;32m/opt/conda/lib/python3.8/site-packages/sklearn/pipeline.py\u001b[0m in \u001b[0;36m?\u001b[0;34m(self, X, y, **fit_params)\u001b[0m\n\u001b[1;32m    467\u001b[0m         \u001b[0mXt\u001b[0m \u001b[0;34m:\u001b[0m \u001b[0mndarray\u001b[0m \u001b[0mof\u001b[0m \u001b[0mshape\u001b[0m \u001b[0;34m(\u001b[0m\u001b[0mn_samples\u001b[0m\u001b[0;34m,\u001b[0m \u001b[0mn_transformed_features\u001b[0m\u001b[0;34m)\u001b[0m\u001b[0;34m\u001b[0m\u001b[0;34m\u001b[0m\u001b[0m\n\u001b[1;32m    468\u001b[0m             \u001b[0mTransformed\u001b[0m \u001b[0msamples\u001b[0m\u001b[0;34m.\u001b[0m\u001b[0;34m\u001b[0m\u001b[0;34m\u001b[0m\u001b[0m\n\u001b[1;32m    469\u001b[0m         \"\"\"\n\u001b[1;32m    470\u001b[0m         \u001b[0mfit_params_steps\u001b[0m \u001b[0;34m=\u001b[0m \u001b[0mself\u001b[0m\u001b[0;34m.\u001b[0m\u001b[0m_check_fit_params\u001b[0m\u001b[0;34m(\u001b[0m\u001b[0;34m**\u001b[0m\u001b[0mfit_params\u001b[0m\u001b[0;34m)\u001b[0m\u001b[0;34m\u001b[0m\u001b[0;34m\u001b[0m\u001b[0m\n\u001b[0;32m--> 471\u001b[0;31m         \u001b[0mXt\u001b[0m \u001b[0;34m=\u001b[0m \u001b[0mself\u001b[0m\u001b[0;34m.\u001b[0m\u001b[0m_fit\u001b[0m\u001b[0;34m(\u001b[0m\u001b[0mX\u001b[0m\u001b[0;34m,\u001b[0m \u001b[0my\u001b[0m\u001b[0;34m,\u001b[0m \u001b[0;34m**\u001b[0m\u001b[0mfit_params_steps\u001b[0m\u001b[0;34m)\u001b[0m\u001b[0;34m\u001b[0m\u001b[0;34m\u001b[0m\u001b[0m\n\u001b[0m\u001b[1;32m    472\u001b[0m \u001b[0;34m\u001b[0m\u001b[0m\n\u001b[1;32m    473\u001b[0m         \u001b[0mlast_step\u001b[0m \u001b[0;34m=\u001b[0m \u001b[0mself\u001b[0m\u001b[0;34m.\u001b[0m\u001b[0m_final_estimator\u001b[0m\u001b[0;34m\u001b[0m\u001b[0;34m\u001b[0m\u001b[0m\n\u001b[1;32m    474\u001b[0m         \u001b[0;32mwith\u001b[0m \u001b[0m_print_elapsed_time\u001b[0m\u001b[0;34m(\u001b[0m\u001b[0;34m\"Pipeline\"\u001b[0m\u001b[0;34m,\u001b[0m \u001b[0mself\u001b[0m\u001b[0;34m.\u001b[0m\u001b[0m_log_message\u001b[0m\u001b[0;34m(\u001b[0m\u001b[0mlen\u001b[0m\u001b[0;34m(\u001b[0m\u001b[0mself\u001b[0m\u001b[0;34m.\u001b[0m\u001b[0msteps\u001b[0m\u001b[0;34m)\u001b[0m \u001b[0;34m-\u001b[0m \u001b[0;36m1\u001b[0m\u001b[0;34m)\u001b[0m\u001b[0;34m)\u001b[0m\u001b[0;34m:\u001b[0m\u001b[0;34m\u001b[0m\u001b[0;34m\u001b[0m\u001b[0m\n",
      "\u001b[0;32m/opt/conda/lib/python3.8/site-packages/sklearn/pipeline.py\u001b[0m in \u001b[0;36m?\u001b[0;34m(self, X, y, **fit_params_steps)\u001b[0m\n\u001b[1;32m    373\u001b[0m                 \u001b[0mcloned_transformer\u001b[0m \u001b[0;34m=\u001b[0m \u001b[0mtransformer\u001b[0m\u001b[0;34m\u001b[0m\u001b[0;34m\u001b[0m\u001b[0m\n\u001b[1;32m    374\u001b[0m             \u001b[0;32melse\u001b[0m\u001b[0;34m:\u001b[0m\u001b[0;34m\u001b[0m\u001b[0;34m\u001b[0m\u001b[0m\n\u001b[1;32m    375\u001b[0m                 \u001b[0mcloned_transformer\u001b[0m \u001b[0;34m=\u001b[0m \u001b[0mclone\u001b[0m\u001b[0;34m(\u001b[0m\u001b[0mtransformer\u001b[0m\u001b[0;34m)\u001b[0m\u001b[0;34m\u001b[0m\u001b[0;34m\u001b[0m\u001b[0m\n\u001b[1;32m    376\u001b[0m             \u001b[0;31m# Fit or load from cache the current transformer\u001b[0m\u001b[0;34m\u001b[0m\u001b[0;34m\u001b[0m\u001b[0;34m\u001b[0m\u001b[0m\n\u001b[0;32m--> 377\u001b[0;31m             X, fitted_transformer = fit_transform_one_cached(\n\u001b[0m\u001b[1;32m    378\u001b[0m                 \u001b[0mcloned_transformer\u001b[0m\u001b[0;34m,\u001b[0m\u001b[0;34m\u001b[0m\u001b[0;34m\u001b[0m\u001b[0m\n\u001b[1;32m    379\u001b[0m                 \u001b[0mX\u001b[0m\u001b[0;34m,\u001b[0m\u001b[0;34m\u001b[0m\u001b[0;34m\u001b[0m\u001b[0m\n\u001b[1;32m    380\u001b[0m                 \u001b[0my\u001b[0m\u001b[0;34m,\u001b[0m\u001b[0;34m\u001b[0m\u001b[0;34m\u001b[0m\u001b[0m\n",
      "\u001b[0;32m/opt/conda/lib/python3.8/site-packages/joblib/memory.py\u001b[0m in \u001b[0;36m?\u001b[0;34m(self, *args, **kwargs)\u001b[0m\n\u001b[1;32m    352\u001b[0m     \u001b[0;32mdef\u001b[0m \u001b[0m__call__\u001b[0m\u001b[0;34m(\u001b[0m\u001b[0mself\u001b[0m\u001b[0;34m,\u001b[0m \u001b[0;34m*\u001b[0m\u001b[0margs\u001b[0m\u001b[0;34m,\u001b[0m \u001b[0;34m**\u001b[0m\u001b[0mkwargs\u001b[0m\u001b[0;34m)\u001b[0m\u001b[0;34m:\u001b[0m\u001b[0;34m\u001b[0m\u001b[0;34m\u001b[0m\u001b[0m\n\u001b[0;32m--> 353\u001b[0;31m         \u001b[0;32mreturn\u001b[0m \u001b[0mself\u001b[0m\u001b[0;34m.\u001b[0m\u001b[0mfunc\u001b[0m\u001b[0;34m(\u001b[0m\u001b[0;34m*\u001b[0m\u001b[0margs\u001b[0m\u001b[0;34m,\u001b[0m \u001b[0;34m**\u001b[0m\u001b[0mkwargs\u001b[0m\u001b[0;34m)\u001b[0m\u001b[0;34m\u001b[0m\u001b[0;34m\u001b[0m\u001b[0m\n\u001b[0m",
      "\u001b[0;32m/opt/conda/lib/python3.8/site-packages/sklearn/pipeline.py\u001b[0m in \u001b[0;36m?\u001b[0;34m(transformer, X, y, weight, message_clsname, message, **fit_params)\u001b[0m\n\u001b[1;32m    955\u001b[0m     \u001b[0;32mwith\u001b[0m \u001b[0m_print_elapsed_time\u001b[0m\u001b[0;34m(\u001b[0m\u001b[0mmessage_clsname\u001b[0m\u001b[0;34m,\u001b[0m \u001b[0mmessage\u001b[0m\u001b[0;34m)\u001b[0m\u001b[0;34m:\u001b[0m\u001b[0;34m\u001b[0m\u001b[0;34m\u001b[0m\u001b[0m\n\u001b[1;32m    956\u001b[0m         \u001b[0;32mif\u001b[0m \u001b[0mhasattr\u001b[0m\u001b[0;34m(\u001b[0m\u001b[0mtransformer\u001b[0m\u001b[0;34m,\u001b[0m \u001b[0;34m\"fit_transform\"\u001b[0m\u001b[0;34m)\u001b[0m\u001b[0;34m:\u001b[0m\u001b[0;34m\u001b[0m\u001b[0;34m\u001b[0m\u001b[0m\n\u001b[1;32m    957\u001b[0m             \u001b[0mres\u001b[0m \u001b[0;34m=\u001b[0m \u001b[0mtransformer\u001b[0m\u001b[0;34m.\u001b[0m\u001b[0mfit_transform\u001b[0m\u001b[0;34m(\u001b[0m\u001b[0mX\u001b[0m\u001b[0;34m,\u001b[0m \u001b[0my\u001b[0m\u001b[0;34m,\u001b[0m \u001b[0;34m**\u001b[0m\u001b[0mfit_params\u001b[0m\u001b[0;34m)\u001b[0m\u001b[0;34m\u001b[0m\u001b[0;34m\u001b[0m\u001b[0m\n\u001b[1;32m    958\u001b[0m         \u001b[0;32melse\u001b[0m\u001b[0;34m:\u001b[0m\u001b[0;34m\u001b[0m\u001b[0;34m\u001b[0m\u001b[0m\n\u001b[0;32m--> 959\u001b[0;31m             \u001b[0mres\u001b[0m \u001b[0;34m=\u001b[0m \u001b[0mtransformer\u001b[0m\u001b[0;34m.\u001b[0m\u001b[0mfit\u001b[0m\u001b[0;34m(\u001b[0m\u001b[0mX\u001b[0m\u001b[0;34m,\u001b[0m \u001b[0my\u001b[0m\u001b[0;34m,\u001b[0m \u001b[0;34m**\u001b[0m\u001b[0mfit_params\u001b[0m\u001b[0;34m)\u001b[0m\u001b[0;34m.\u001b[0m\u001b[0mtransform\u001b[0m\u001b[0;34m(\u001b[0m\u001b[0mX\u001b[0m\u001b[0;34m)\u001b[0m\u001b[0;34m\u001b[0m\u001b[0;34m\u001b[0m\u001b[0m\n\u001b[0m\u001b[1;32m    960\u001b[0m \u001b[0;34m\u001b[0m\u001b[0m\n\u001b[1;32m    961\u001b[0m     \u001b[0;32mif\u001b[0m \u001b[0mweight\u001b[0m \u001b[0;32mis\u001b[0m \u001b[0;32mNone\u001b[0m\u001b[0;34m:\u001b[0m\u001b[0;34m\u001b[0m\u001b[0;34m\u001b[0m\u001b[0m\n\u001b[1;32m    962\u001b[0m         \u001b[0;32mreturn\u001b[0m \u001b[0mres\u001b[0m\u001b[0;34m,\u001b[0m \u001b[0mtransformer\u001b[0m\u001b[0;34m\u001b[0m\u001b[0;34m\u001b[0m\u001b[0m\n",
      "\u001b[0;32m/opt/conda/lib/python3.8/site-packages/sklearn/utils/_set_output.py\u001b[0m in \u001b[0;36m?\u001b[0;34m(self, X, *args, **kwargs)\u001b[0m\n\u001b[1;32m    155\u001b[0m     \u001b[0;34m@\u001b[0m\u001b[0mwraps\u001b[0m\u001b[0;34m(\u001b[0m\u001b[0mf\u001b[0m\u001b[0;34m)\u001b[0m\u001b[0;34m\u001b[0m\u001b[0;34m\u001b[0m\u001b[0m\n\u001b[1;32m    156\u001b[0m     \u001b[0;32mdef\u001b[0m \u001b[0mwrapped\u001b[0m\u001b[0;34m(\u001b[0m\u001b[0mself\u001b[0m\u001b[0;34m,\u001b[0m \u001b[0mX\u001b[0m\u001b[0;34m,\u001b[0m \u001b[0;34m*\u001b[0m\u001b[0margs\u001b[0m\u001b[0;34m,\u001b[0m \u001b[0;34m**\u001b[0m\u001b[0mkwargs\u001b[0m\u001b[0;34m)\u001b[0m\u001b[0;34m:\u001b[0m\u001b[0;34m\u001b[0m\u001b[0;34m\u001b[0m\u001b[0m\n\u001b[0;32m--> 157\u001b[0;31m         \u001b[0mdata_to_wrap\u001b[0m \u001b[0;34m=\u001b[0m \u001b[0mf\u001b[0m\u001b[0;34m(\u001b[0m\u001b[0mself\u001b[0m\u001b[0;34m,\u001b[0m \u001b[0mX\u001b[0m\u001b[0;34m,\u001b[0m \u001b[0;34m*\u001b[0m\u001b[0margs\u001b[0m\u001b[0;34m,\u001b[0m \u001b[0;34m**\u001b[0m\u001b[0mkwargs\u001b[0m\u001b[0;34m)\u001b[0m\u001b[0;34m\u001b[0m\u001b[0;34m\u001b[0m\u001b[0m\n\u001b[0m\u001b[1;32m    158\u001b[0m         \u001b[0;32mif\u001b[0m \u001b[0misinstance\u001b[0m\u001b[0;34m(\u001b[0m\u001b[0mdata_to_wrap\u001b[0m\u001b[0;34m,\u001b[0m \u001b[0mtuple\u001b[0m\u001b[0;34m)\u001b[0m\u001b[0;34m:\u001b[0m\u001b[0;34m\u001b[0m\u001b[0;34m\u001b[0m\u001b[0m\n\u001b[1;32m    159\u001b[0m             \u001b[0;31m# only wrap the first output for cross decomposition\u001b[0m\u001b[0;34m\u001b[0m\u001b[0;34m\u001b[0m\u001b[0;34m\u001b[0m\u001b[0m\n\u001b[1;32m    160\u001b[0m             return_tuple = (\n",
      "\u001b[0;32m/opt/conda/lib/python3.8/site-packages/sklearn/base.py\u001b[0m in \u001b[0;36m?\u001b[0;34m(self, X, y, **fit_params)\u001b[0m\n\u001b[1;32m    912\u001b[0m         \u001b[0;31m# non-optimized default implementation; override when a better\u001b[0m\u001b[0;34m\u001b[0m\u001b[0;34m\u001b[0m\u001b[0;34m\u001b[0m\u001b[0m\n\u001b[1;32m    913\u001b[0m         \u001b[0;31m# method is possible for a given clustering algorithm\u001b[0m\u001b[0;34m\u001b[0m\u001b[0;34m\u001b[0m\u001b[0;34m\u001b[0m\u001b[0m\n\u001b[1;32m    914\u001b[0m         \u001b[0;32mif\u001b[0m \u001b[0my\u001b[0m \u001b[0;32mis\u001b[0m \u001b[0;32mNone\u001b[0m\u001b[0;34m:\u001b[0m\u001b[0;34m\u001b[0m\u001b[0;34m\u001b[0m\u001b[0m\n\u001b[1;32m    915\u001b[0m             \u001b[0;31m# fit method of arity 1 (unsupervised transformation)\u001b[0m\u001b[0;34m\u001b[0m\u001b[0;34m\u001b[0m\u001b[0;34m\u001b[0m\u001b[0m\n\u001b[0;32m--> 916\u001b[0;31m             \u001b[0;32mreturn\u001b[0m \u001b[0mself\u001b[0m\u001b[0;34m.\u001b[0m\u001b[0mfit\u001b[0m\u001b[0;34m(\u001b[0m\u001b[0mX\u001b[0m\u001b[0;34m,\u001b[0m \u001b[0;34m**\u001b[0m\u001b[0mfit_params\u001b[0m\u001b[0;34m)\u001b[0m\u001b[0;34m.\u001b[0m\u001b[0mtransform\u001b[0m\u001b[0;34m(\u001b[0m\u001b[0mX\u001b[0m\u001b[0;34m)\u001b[0m\u001b[0;34m\u001b[0m\u001b[0;34m\u001b[0m\u001b[0m\n\u001b[0m\u001b[1;32m    917\u001b[0m         \u001b[0;32melse\u001b[0m\u001b[0;34m:\u001b[0m\u001b[0;34m\u001b[0m\u001b[0;34m\u001b[0m\u001b[0m\n\u001b[1;32m    918\u001b[0m             \u001b[0;31m# fit method of arity 2 (supervised transformation)\u001b[0m\u001b[0;34m\u001b[0m\u001b[0;34m\u001b[0m\u001b[0;34m\u001b[0m\u001b[0m\n\u001b[1;32m    919\u001b[0m             \u001b[0;32mreturn\u001b[0m \u001b[0mself\u001b[0m\u001b[0;34m.\u001b[0m\u001b[0mfit\u001b[0m\u001b[0;34m(\u001b[0m\u001b[0mX\u001b[0m\u001b[0;34m,\u001b[0m \u001b[0my\u001b[0m\u001b[0;34m,\u001b[0m \u001b[0;34m**\u001b[0m\u001b[0mfit_params\u001b[0m\u001b[0;34m)\u001b[0m\u001b[0;34m.\u001b[0m\u001b[0mtransform\u001b[0m\u001b[0;34m(\u001b[0m\u001b[0mX\u001b[0m\u001b[0;34m)\u001b[0m\u001b[0;34m\u001b[0m\u001b[0;34m\u001b[0m\u001b[0m\n",
      "\u001b[0;32m/opt/conda/lib/python3.8/site-packages/sklearn/preprocessing/_data.py\u001b[0m in \u001b[0;36m?\u001b[0;34m(self, X, y, sample_weight)\u001b[0m\n\u001b[1;32m    835\u001b[0m             \u001b[0mFitted\u001b[0m \u001b[0mscaler\u001b[0m\u001b[0;34m.\u001b[0m\u001b[0;34m\u001b[0m\u001b[0;34m\u001b[0m\u001b[0m\n\u001b[1;32m    836\u001b[0m         \"\"\"\n\u001b[1;32m    837\u001b[0m         \u001b[0;31m# Reset internal state before fitting\u001b[0m\u001b[0;34m\u001b[0m\u001b[0;34m\u001b[0m\u001b[0;34m\u001b[0m\u001b[0m\n\u001b[1;32m    838\u001b[0m         \u001b[0mself\u001b[0m\u001b[0;34m.\u001b[0m\u001b[0m_reset\u001b[0m\u001b[0;34m(\u001b[0m\u001b[0;34m)\u001b[0m\u001b[0;34m\u001b[0m\u001b[0;34m\u001b[0m\u001b[0m\n\u001b[0;32m--> 839\u001b[0;31m         \u001b[0;32mreturn\u001b[0m \u001b[0mself\u001b[0m\u001b[0;34m.\u001b[0m\u001b[0mpartial_fit\u001b[0m\u001b[0;34m(\u001b[0m\u001b[0mX\u001b[0m\u001b[0;34m,\u001b[0m \u001b[0my\u001b[0m\u001b[0;34m,\u001b[0m \u001b[0msample_weight\u001b[0m\u001b[0;34m)\u001b[0m\u001b[0;34m\u001b[0m\u001b[0;34m\u001b[0m\u001b[0m\n\u001b[0m",
      "\u001b[0;32m/opt/conda/lib/python3.8/site-packages/sklearn/base.py\u001b[0m in \u001b[0;36m?\u001b[0;34m(estimator, *args, **kwargs)\u001b[0m\n\u001b[1;32m   1148\u001b[0m                 skip_parameter_validation=(\n\u001b[1;32m   1149\u001b[0m                     \u001b[0mprefer_skip_nested_validation\u001b[0m \u001b[0;32mor\u001b[0m \u001b[0mglobal_skip_validation\u001b[0m\u001b[0;34m\u001b[0m\u001b[0;34m\u001b[0m\u001b[0m\n\u001b[1;32m   1150\u001b[0m                 )\n\u001b[1;32m   1151\u001b[0m             ):\n\u001b[0;32m-> 1152\u001b[0;31m                 \u001b[0;32mreturn\u001b[0m \u001b[0mfit_method\u001b[0m\u001b[0;34m(\u001b[0m\u001b[0mestimator\u001b[0m\u001b[0;34m,\u001b[0m \u001b[0;34m*\u001b[0m\u001b[0margs\u001b[0m\u001b[0;34m,\u001b[0m \u001b[0;34m**\u001b[0m\u001b[0mkwargs\u001b[0m\u001b[0;34m)\u001b[0m\u001b[0;34m\u001b[0m\u001b[0;34m\u001b[0m\u001b[0m\n\u001b[0m",
      "\u001b[0;32m/opt/conda/lib/python3.8/site-packages/sklearn/preprocessing/_data.py\u001b[0m in \u001b[0;36m?\u001b[0;34m(self, X, y, sample_weight)\u001b[0m\n\u001b[1;32m    871\u001b[0m         \u001b[0mself\u001b[0m \u001b[0;34m:\u001b[0m \u001b[0mobject\u001b[0m\u001b[0;34m\u001b[0m\u001b[0;34m\u001b[0m\u001b[0m\n\u001b[1;32m    872\u001b[0m             \u001b[0mFitted\u001b[0m \u001b[0mscaler\u001b[0m\u001b[0;34m.\u001b[0m\u001b[0;34m\u001b[0m\u001b[0;34m\u001b[0m\u001b[0m\n\u001b[1;32m    873\u001b[0m         \"\"\"\n\u001b[1;32m    874\u001b[0m         \u001b[0mfirst_call\u001b[0m \u001b[0;34m=\u001b[0m \u001b[0;32mnot\u001b[0m \u001b[0mhasattr\u001b[0m\u001b[0;34m(\u001b[0m\u001b[0mself\u001b[0m\u001b[0;34m,\u001b[0m \u001b[0;34m\"n_samples_seen_\"\u001b[0m\u001b[0;34m)\u001b[0m\u001b[0;34m\u001b[0m\u001b[0;34m\u001b[0m\u001b[0m\n\u001b[0;32m--> 875\u001b[0;31m         X = self._validate_data(\n\u001b[0m\u001b[1;32m    876\u001b[0m             \u001b[0mX\u001b[0m\u001b[0;34m,\u001b[0m\u001b[0;34m\u001b[0m\u001b[0;34m\u001b[0m\u001b[0m\n\u001b[1;32m    877\u001b[0m             \u001b[0maccept_sparse\u001b[0m\u001b[0;34m=\u001b[0m\u001b[0;34m(\u001b[0m\u001b[0;34m\"csr\"\u001b[0m\u001b[0;34m,\u001b[0m \u001b[0;34m\"csc\"\u001b[0m\u001b[0;34m)\u001b[0m\u001b[0;34m,\u001b[0m\u001b[0;34m\u001b[0m\u001b[0;34m\u001b[0m\u001b[0m\n\u001b[1;32m    878\u001b[0m             \u001b[0mdtype\u001b[0m\u001b[0;34m=\u001b[0m\u001b[0mFLOAT_DTYPES\u001b[0m\u001b[0;34m,\u001b[0m\u001b[0;34m\u001b[0m\u001b[0;34m\u001b[0m\u001b[0m\n",
      "\u001b[0;32m/opt/conda/lib/python3.8/site-packages/sklearn/base.py\u001b[0m in \u001b[0;36m?\u001b[0;34m(self, X, y, reset, validate_separately, cast_to_ndarray, **check_params)\u001b[0m\n\u001b[1;32m    601\u001b[0m                 \u001b[0mout\u001b[0m \u001b[0;34m=\u001b[0m \u001b[0my\u001b[0m\u001b[0;34m\u001b[0m\u001b[0;34m\u001b[0m\u001b[0m\n\u001b[1;32m    602\u001b[0m             \u001b[0;32melse\u001b[0m\u001b[0;34m:\u001b[0m\u001b[0;34m\u001b[0m\u001b[0;34m\u001b[0m\u001b[0m\n\u001b[1;32m    603\u001b[0m                 \u001b[0mout\u001b[0m \u001b[0;34m=\u001b[0m \u001b[0mX\u001b[0m\u001b[0;34m,\u001b[0m \u001b[0my\u001b[0m\u001b[0;34m\u001b[0m\u001b[0;34m\u001b[0m\u001b[0m\n\u001b[1;32m    604\u001b[0m         \u001b[0;32melif\u001b[0m \u001b[0;32mnot\u001b[0m \u001b[0mno_val_X\u001b[0m \u001b[0;32mand\u001b[0m \u001b[0mno_val_y\u001b[0m\u001b[0;34m:\u001b[0m\u001b[0;34m\u001b[0m\u001b[0;34m\u001b[0m\u001b[0m\n\u001b[0;32m--> 605\u001b[0;31m             \u001b[0mout\u001b[0m \u001b[0;34m=\u001b[0m \u001b[0mcheck_array\u001b[0m\u001b[0;34m(\u001b[0m\u001b[0mX\u001b[0m\u001b[0;34m,\u001b[0m \u001b[0minput_name\u001b[0m\u001b[0;34m=\u001b[0m\u001b[0;34m\"X\"\u001b[0m\u001b[0;34m,\u001b[0m \u001b[0;34m**\u001b[0m\u001b[0mcheck_params\u001b[0m\u001b[0;34m)\u001b[0m\u001b[0;34m\u001b[0m\u001b[0;34m\u001b[0m\u001b[0m\n\u001b[0m\u001b[1;32m    606\u001b[0m         \u001b[0;32melif\u001b[0m \u001b[0mno_val_X\u001b[0m \u001b[0;32mand\u001b[0m \u001b[0;32mnot\u001b[0m \u001b[0mno_val_y\u001b[0m\u001b[0;34m:\u001b[0m\u001b[0;34m\u001b[0m\u001b[0;34m\u001b[0m\u001b[0m\n\u001b[1;32m    607\u001b[0m             \u001b[0mout\u001b[0m \u001b[0;34m=\u001b[0m \u001b[0m_check_y\u001b[0m\u001b[0;34m(\u001b[0m\u001b[0my\u001b[0m\u001b[0;34m,\u001b[0m \u001b[0;34m**\u001b[0m\u001b[0mcheck_params\u001b[0m\u001b[0;34m)\u001b[0m\u001b[0;34m\u001b[0m\u001b[0;34m\u001b[0m\u001b[0m\n\u001b[1;32m    608\u001b[0m         \u001b[0;32melse\u001b[0m\u001b[0;34m:\u001b[0m\u001b[0;34m\u001b[0m\u001b[0;34m\u001b[0m\u001b[0m\n",
      "\u001b[0;32m/opt/conda/lib/python3.8/site-packages/sklearn/utils/validation.py\u001b[0m in \u001b[0;36m?\u001b[0;34m(array, accept_sparse, accept_large_sparse, dtype, order, copy, force_all_finite, ensure_2d, allow_nd, ensure_min_samples, ensure_min_features, estimator, input_name)\u001b[0m\n\u001b[1;32m    913\u001b[0m                     \u001b[0marray\u001b[0m \u001b[0;34m=\u001b[0m \u001b[0mxp\u001b[0m\u001b[0;34m.\u001b[0m\u001b[0mastype\u001b[0m\u001b[0;34m(\u001b[0m\u001b[0marray\u001b[0m\u001b[0;34m,\u001b[0m \u001b[0mdtype\u001b[0m\u001b[0;34m,\u001b[0m \u001b[0mcopy\u001b[0m\u001b[0;34m=\u001b[0m\u001b[0;32mFalse\u001b[0m\u001b[0;34m)\u001b[0m\u001b[0;34m\u001b[0m\u001b[0;34m\u001b[0m\u001b[0m\n\u001b[1;32m    914\u001b[0m                 \u001b[0;32melse\u001b[0m\u001b[0;34m:\u001b[0m\u001b[0;34m\u001b[0m\u001b[0;34m\u001b[0m\u001b[0m\n\u001b[1;32m    915\u001b[0m                     \u001b[0marray\u001b[0m \u001b[0;34m=\u001b[0m \u001b[0m_asarray_with_order\u001b[0m\u001b[0;34m(\u001b[0m\u001b[0marray\u001b[0m\u001b[0;34m,\u001b[0m \u001b[0morder\u001b[0m\u001b[0;34m=\u001b[0m\u001b[0morder\u001b[0m\u001b[0;34m,\u001b[0m \u001b[0mdtype\u001b[0m\u001b[0;34m=\u001b[0m\u001b[0mdtype\u001b[0m\u001b[0;34m,\u001b[0m \u001b[0mxp\u001b[0m\u001b[0;34m=\u001b[0m\u001b[0mxp\u001b[0m\u001b[0;34m)\u001b[0m\u001b[0;34m\u001b[0m\u001b[0;34m\u001b[0m\u001b[0m\n\u001b[1;32m    916\u001b[0m             \u001b[0;32mexcept\u001b[0m \u001b[0mComplexWarning\u001b[0m \u001b[0;32mas\u001b[0m \u001b[0mcomplex_warning\u001b[0m\u001b[0;34m:\u001b[0m\u001b[0;34m\u001b[0m\u001b[0;34m\u001b[0m\u001b[0m\n\u001b[0;32m--> 917\u001b[0;31m                 raise ValueError(\n\u001b[0m\u001b[1;32m    918\u001b[0m                     \u001b[0;34m\"Complex data not supported\\n{}\\n\"\u001b[0m\u001b[0;34m.\u001b[0m\u001b[0mformat\u001b[0m\u001b[0;34m(\u001b[0m\u001b[0marray\u001b[0m\u001b[0;34m)\u001b[0m\u001b[0;34m\u001b[0m\u001b[0;34m\u001b[0m\u001b[0m\n\u001b[1;32m    919\u001b[0m                 ) from complex_warning\n\u001b[1;32m    920\u001b[0m \u001b[0;34m\u001b[0m\u001b[0m\n",
      "\u001b[0;32m/opt/conda/lib/python3.8/site-packages/sklearn/utils/_array_api.py\u001b[0m in \u001b[0;36m?\u001b[0;34m(array, dtype, order, copy, xp)\u001b[0m\n\u001b[1;32m    376\u001b[0m         \u001b[0;31m# Use NumPy API to support order\u001b[0m\u001b[0;34m\u001b[0m\u001b[0;34m\u001b[0m\u001b[0;34m\u001b[0m\u001b[0m\n\u001b[1;32m    377\u001b[0m         \u001b[0;32mif\u001b[0m \u001b[0mcopy\u001b[0m \u001b[0;32mis\u001b[0m \u001b[0;32mTrue\u001b[0m\u001b[0;34m:\u001b[0m\u001b[0;34m\u001b[0m\u001b[0;34m\u001b[0m\u001b[0m\n\u001b[1;32m    378\u001b[0m             \u001b[0marray\u001b[0m \u001b[0;34m=\u001b[0m \u001b[0mnumpy\u001b[0m\u001b[0;34m.\u001b[0m\u001b[0marray\u001b[0m\u001b[0;34m(\u001b[0m\u001b[0marray\u001b[0m\u001b[0;34m,\u001b[0m \u001b[0morder\u001b[0m\u001b[0;34m=\u001b[0m\u001b[0morder\u001b[0m\u001b[0;34m,\u001b[0m \u001b[0mdtype\u001b[0m\u001b[0;34m=\u001b[0m\u001b[0mdtype\u001b[0m\u001b[0;34m)\u001b[0m\u001b[0;34m\u001b[0m\u001b[0;34m\u001b[0m\u001b[0m\n\u001b[1;32m    379\u001b[0m         \u001b[0;32melse\u001b[0m\u001b[0;34m:\u001b[0m\u001b[0;34m\u001b[0m\u001b[0;34m\u001b[0m\u001b[0m\n\u001b[0;32m--> 380\u001b[0;31m             \u001b[0marray\u001b[0m \u001b[0;34m=\u001b[0m \u001b[0mnumpy\u001b[0m\u001b[0;34m.\u001b[0m\u001b[0masarray\u001b[0m\u001b[0;34m(\u001b[0m\u001b[0marray\u001b[0m\u001b[0;34m,\u001b[0m \u001b[0morder\u001b[0m\u001b[0;34m=\u001b[0m\u001b[0morder\u001b[0m\u001b[0;34m,\u001b[0m \u001b[0mdtype\u001b[0m\u001b[0;34m=\u001b[0m\u001b[0mdtype\u001b[0m\u001b[0;34m)\u001b[0m\u001b[0;34m\u001b[0m\u001b[0;34m\u001b[0m\u001b[0m\n\u001b[0m\u001b[1;32m    381\u001b[0m \u001b[0;34m\u001b[0m\u001b[0m\n\u001b[1;32m    382\u001b[0m         \u001b[0;31m# At this point array is a NumPy ndarray. We convert it to an array\u001b[0m\u001b[0;34m\u001b[0m\u001b[0;34m\u001b[0m\u001b[0;34m\u001b[0m\u001b[0m\n\u001b[1;32m    383\u001b[0m         \u001b[0;31m# container that is consistent with the input's namespace.\u001b[0m\u001b[0;34m\u001b[0m\u001b[0;34m\u001b[0m\u001b[0;34m\u001b[0m\u001b[0m\n",
      "\u001b[0;32m/opt/conda/lib/python3.8/site-packages/pandas/core/generic.py\u001b[0m in \u001b[0;36m?\u001b[0;34m(self, dtype)\u001b[0m\n\u001b[1;32m   1992\u001b[0m     \u001b[0;32mdef\u001b[0m \u001b[0m__array__\u001b[0m\u001b[0;34m(\u001b[0m\u001b[0mself\u001b[0m\u001b[0;34m,\u001b[0m \u001b[0mdtype\u001b[0m\u001b[0;34m:\u001b[0m \u001b[0mNpDtype\u001b[0m \u001b[0;34m|\u001b[0m \u001b[0;32mNone\u001b[0m \u001b[0;34m=\u001b[0m \u001b[0;32mNone\u001b[0m\u001b[0;34m)\u001b[0m \u001b[0;34m->\u001b[0m \u001b[0mnp\u001b[0m\u001b[0;34m.\u001b[0m\u001b[0mndarray\u001b[0m\u001b[0;34m:\u001b[0m\u001b[0;34m\u001b[0m\u001b[0;34m\u001b[0m\u001b[0m\n\u001b[0;32m-> 1993\u001b[0;31m         \u001b[0;32mreturn\u001b[0m \u001b[0mnp\u001b[0m\u001b[0;34m.\u001b[0m\u001b[0masarray\u001b[0m\u001b[0;34m(\u001b[0m\u001b[0mself\u001b[0m\u001b[0;34m.\u001b[0m\u001b[0m_values\u001b[0m\u001b[0;34m,\u001b[0m \u001b[0mdtype\u001b[0m\u001b[0;34m=\u001b[0m\u001b[0mdtype\u001b[0m\u001b[0;34m)\u001b[0m\u001b[0;34m\u001b[0m\u001b[0;34m\u001b[0m\u001b[0m\n\u001b[0m",
      "\u001b[0;31mValueError\u001b[0m: could not convert string to float: '\"06b8999e2fba1a1fbc88172c00ba8bc7\"'"
     ]
    }
   ],
   "source": [
    "from sklearn.preprocessing import StandardScaler\n",
    "from sklearn.pipeline import Pipeline\n",
    "from sklearn.decomposition import PCA\n",
    "X, y = df_with_churn.drop(columns='churn'), df_with_churn[['churn']]\n",
    "pca = PCA()\n",
    "pipe = Pipeline([('scaler', StandardScaler()), ('pca', pca)])\n",
    "Xt = pipe.fit_transform(X)\n",
    "plot = plt.scatter(Xt[:,0], Xt[:,1], c=y)\n",
    "plt.legend(handles=plot.legend_elements()[0], labels=list(df_with_churn['churn']))\n",
    "plt.show()"
   ]
  },
  {
   "cell_type": "code",
   "execution_count": null,
   "id": "691e7639-70ca-4fb7-acad-24c78cac861f",
   "metadata": {},
   "outputs": [],
   "source": []
  },
  {
   "cell_type": "code",
   "execution_count": null,
   "id": "9b2cf343-66ee-4e2f-997e-cbfc945b6caa",
   "metadata": {},
   "outputs": [],
   "source": []
  },
  {
   "cell_type": "code",
   "execution_count": null,
   "id": "9bdcad07-f996-4c1f-8fea-a23d64ea9bec",
   "metadata": {},
   "outputs": [],
   "source": []
  },
  {
   "cell_type": "code",
   "execution_count": null,
   "id": "1c3093cc-6491-4439-a9f5-95cca19f2067",
   "metadata": {},
   "outputs": [],
   "source": []
  },
  {
   "cell_type": "code",
   "execution_count": null,
   "id": "ec015ef1-f316-4497-930a-681ed908e658",
   "metadata": {},
   "outputs": [],
   "source": []
  },
  {
   "cell_type": "code",
   "execution_count": null,
   "id": "e7cee00e-c7a1-40ab-bac6-fcaa30ab0b29",
   "metadata": {},
   "outputs": [],
   "source": [
    "%%html\n",
    "\n",
    "<p><b>Shutting down your kernel for this notebook to release resources.</b></p>\n",
    "<button class=\"sm-command-button\" data-commandlinker-command=\"kernelmenu:shutdown\" style=\"display:none;\">Shutdown Kernel</button>\n",
    "        \n",
    "<script>\n",
    "try {\n",
    "    els = document.getElementsByClassName(\"sm-command-button\");\n",
    "    els[0].click();\n",
    "}\n",
    "catch(err) {\n",
    "    // NoOp\n",
    "}    \n",
    "</script>"
   ]
  },
  {
   "cell_type": "code",
   "execution_count": null,
   "id": "b98ed920-3db1-4b04-af87-bee108a0156d",
   "metadata": {},
   "outputs": [],
   "source": [
    "%%javascript\n",
    "\n",
    "try {\n",
    "    Jupyter.notebook.save_checkpoint();\n",
    "    Jupyter.notebook.session.delete();\n",
    "}\n",
    "catch(err) {\n",
    "    // NoOp\n",
    "}"
   ]
  },
  {
   "cell_type": "code",
   "execution_count": null,
   "id": "d2ef0d6c-52d0-45a4-ae7d-e827f175e5e4",
   "metadata": {},
   "outputs": [],
   "source": []
  }
 ],
 "metadata": {
  "availableInstances": [
   {
    "_defaultOrder": 0,
    "_isFastLaunch": true,
    "category": "General purpose",
    "gpuNum": 0,
    "hideHardwareSpecs": false,
    "memoryGiB": 4,
    "name": "ml.t3.medium",
    "vcpuNum": 2
   },
   {
    "_defaultOrder": 1,
    "_isFastLaunch": false,
    "category": "General purpose",
    "gpuNum": 0,
    "hideHardwareSpecs": false,
    "memoryGiB": 8,
    "name": "ml.t3.large",
    "vcpuNum": 2
   },
   {
    "_defaultOrder": 2,
    "_isFastLaunch": false,
    "category": "General purpose",
    "gpuNum": 0,
    "hideHardwareSpecs": false,
    "memoryGiB": 16,
    "name": "ml.t3.xlarge",
    "vcpuNum": 4
   },
   {
    "_defaultOrder": 3,
    "_isFastLaunch": false,
    "category": "General purpose",
    "gpuNum": 0,
    "hideHardwareSpecs": false,
    "memoryGiB": 32,
    "name": "ml.t3.2xlarge",
    "vcpuNum": 8
   },
   {
    "_defaultOrder": 4,
    "_isFastLaunch": true,
    "category": "General purpose",
    "gpuNum": 0,
    "hideHardwareSpecs": false,
    "memoryGiB": 8,
    "name": "ml.m5.large",
    "vcpuNum": 2
   },
   {
    "_defaultOrder": 5,
    "_isFastLaunch": false,
    "category": "General purpose",
    "gpuNum": 0,
    "hideHardwareSpecs": false,
    "memoryGiB": 16,
    "name": "ml.m5.xlarge",
    "vcpuNum": 4
   },
   {
    "_defaultOrder": 6,
    "_isFastLaunch": false,
    "category": "General purpose",
    "gpuNum": 0,
    "hideHardwareSpecs": false,
    "memoryGiB": 32,
    "name": "ml.m5.2xlarge",
    "vcpuNum": 8
   },
   {
    "_defaultOrder": 7,
    "_isFastLaunch": false,
    "category": "General purpose",
    "gpuNum": 0,
    "hideHardwareSpecs": false,
    "memoryGiB": 64,
    "name": "ml.m5.4xlarge",
    "vcpuNum": 16
   },
   {
    "_defaultOrder": 8,
    "_isFastLaunch": false,
    "category": "General purpose",
    "gpuNum": 0,
    "hideHardwareSpecs": false,
    "memoryGiB": 128,
    "name": "ml.m5.8xlarge",
    "vcpuNum": 32
   },
   {
    "_defaultOrder": 9,
    "_isFastLaunch": false,
    "category": "General purpose",
    "gpuNum": 0,
    "hideHardwareSpecs": false,
    "memoryGiB": 192,
    "name": "ml.m5.12xlarge",
    "vcpuNum": 48
   },
   {
    "_defaultOrder": 10,
    "_isFastLaunch": false,
    "category": "General purpose",
    "gpuNum": 0,
    "hideHardwareSpecs": false,
    "memoryGiB": 256,
    "name": "ml.m5.16xlarge",
    "vcpuNum": 64
   },
   {
    "_defaultOrder": 11,
    "_isFastLaunch": false,
    "category": "General purpose",
    "gpuNum": 0,
    "hideHardwareSpecs": false,
    "memoryGiB": 384,
    "name": "ml.m5.24xlarge",
    "vcpuNum": 96
   },
   {
    "_defaultOrder": 12,
    "_isFastLaunch": false,
    "category": "General purpose",
    "gpuNum": 0,
    "hideHardwareSpecs": false,
    "memoryGiB": 8,
    "name": "ml.m5d.large",
    "vcpuNum": 2
   },
   {
    "_defaultOrder": 13,
    "_isFastLaunch": false,
    "category": "General purpose",
    "gpuNum": 0,
    "hideHardwareSpecs": false,
    "memoryGiB": 16,
    "name": "ml.m5d.xlarge",
    "vcpuNum": 4
   },
   {
    "_defaultOrder": 14,
    "_isFastLaunch": false,
    "category": "General purpose",
    "gpuNum": 0,
    "hideHardwareSpecs": false,
    "memoryGiB": 32,
    "name": "ml.m5d.2xlarge",
    "vcpuNum": 8
   },
   {
    "_defaultOrder": 15,
    "_isFastLaunch": false,
    "category": "General purpose",
    "gpuNum": 0,
    "hideHardwareSpecs": false,
    "memoryGiB": 64,
    "name": "ml.m5d.4xlarge",
    "vcpuNum": 16
   },
   {
    "_defaultOrder": 16,
    "_isFastLaunch": false,
    "category": "General purpose",
    "gpuNum": 0,
    "hideHardwareSpecs": false,
    "memoryGiB": 128,
    "name": "ml.m5d.8xlarge",
    "vcpuNum": 32
   },
   {
    "_defaultOrder": 17,
    "_isFastLaunch": false,
    "category": "General purpose",
    "gpuNum": 0,
    "hideHardwareSpecs": false,
    "memoryGiB": 192,
    "name": "ml.m5d.12xlarge",
    "vcpuNum": 48
   },
   {
    "_defaultOrder": 18,
    "_isFastLaunch": false,
    "category": "General purpose",
    "gpuNum": 0,
    "hideHardwareSpecs": false,
    "memoryGiB": 256,
    "name": "ml.m5d.16xlarge",
    "vcpuNum": 64
   },
   {
    "_defaultOrder": 19,
    "_isFastLaunch": false,
    "category": "General purpose",
    "gpuNum": 0,
    "hideHardwareSpecs": false,
    "memoryGiB": 384,
    "name": "ml.m5d.24xlarge",
    "vcpuNum": 96
   },
   {
    "_defaultOrder": 20,
    "_isFastLaunch": false,
    "category": "General purpose",
    "gpuNum": 0,
    "hideHardwareSpecs": true,
    "memoryGiB": 0,
    "name": "ml.geospatial.interactive",
    "supportedImageNames": [
     "sagemaker-geospatial-v1-0"
    ],
    "vcpuNum": 0
   },
   {
    "_defaultOrder": 21,
    "_isFastLaunch": true,
    "category": "Compute optimized",
    "gpuNum": 0,
    "hideHardwareSpecs": false,
    "memoryGiB": 4,
    "name": "ml.c5.large",
    "vcpuNum": 2
   },
   {
    "_defaultOrder": 22,
    "_isFastLaunch": false,
    "category": "Compute optimized",
    "gpuNum": 0,
    "hideHardwareSpecs": false,
    "memoryGiB": 8,
    "name": "ml.c5.xlarge",
    "vcpuNum": 4
   },
   {
    "_defaultOrder": 23,
    "_isFastLaunch": false,
    "category": "Compute optimized",
    "gpuNum": 0,
    "hideHardwareSpecs": false,
    "memoryGiB": 16,
    "name": "ml.c5.2xlarge",
    "vcpuNum": 8
   },
   {
    "_defaultOrder": 24,
    "_isFastLaunch": false,
    "category": "Compute optimized",
    "gpuNum": 0,
    "hideHardwareSpecs": false,
    "memoryGiB": 32,
    "name": "ml.c5.4xlarge",
    "vcpuNum": 16
   },
   {
    "_defaultOrder": 25,
    "_isFastLaunch": false,
    "category": "Compute optimized",
    "gpuNum": 0,
    "hideHardwareSpecs": false,
    "memoryGiB": 72,
    "name": "ml.c5.9xlarge",
    "vcpuNum": 36
   },
   {
    "_defaultOrder": 26,
    "_isFastLaunch": false,
    "category": "Compute optimized",
    "gpuNum": 0,
    "hideHardwareSpecs": false,
    "memoryGiB": 96,
    "name": "ml.c5.12xlarge",
    "vcpuNum": 48
   },
   {
    "_defaultOrder": 27,
    "_isFastLaunch": false,
    "category": "Compute optimized",
    "gpuNum": 0,
    "hideHardwareSpecs": false,
    "memoryGiB": 144,
    "name": "ml.c5.18xlarge",
    "vcpuNum": 72
   },
   {
    "_defaultOrder": 28,
    "_isFastLaunch": false,
    "category": "Compute optimized",
    "gpuNum": 0,
    "hideHardwareSpecs": false,
    "memoryGiB": 192,
    "name": "ml.c5.24xlarge",
    "vcpuNum": 96
   },
   {
    "_defaultOrder": 29,
    "_isFastLaunch": true,
    "category": "Accelerated computing",
    "gpuNum": 1,
    "hideHardwareSpecs": false,
    "memoryGiB": 16,
    "name": "ml.g4dn.xlarge",
    "vcpuNum": 4
   },
   {
    "_defaultOrder": 30,
    "_isFastLaunch": false,
    "category": "Accelerated computing",
    "gpuNum": 1,
    "hideHardwareSpecs": false,
    "memoryGiB": 32,
    "name": "ml.g4dn.2xlarge",
    "vcpuNum": 8
   },
   {
    "_defaultOrder": 31,
    "_isFastLaunch": false,
    "category": "Accelerated computing",
    "gpuNum": 1,
    "hideHardwareSpecs": false,
    "memoryGiB": 64,
    "name": "ml.g4dn.4xlarge",
    "vcpuNum": 16
   },
   {
    "_defaultOrder": 32,
    "_isFastLaunch": false,
    "category": "Accelerated computing",
    "gpuNum": 1,
    "hideHardwareSpecs": false,
    "memoryGiB": 128,
    "name": "ml.g4dn.8xlarge",
    "vcpuNum": 32
   },
   {
    "_defaultOrder": 33,
    "_isFastLaunch": false,
    "category": "Accelerated computing",
    "gpuNum": 4,
    "hideHardwareSpecs": false,
    "memoryGiB": 192,
    "name": "ml.g4dn.12xlarge",
    "vcpuNum": 48
   },
   {
    "_defaultOrder": 34,
    "_isFastLaunch": false,
    "category": "Accelerated computing",
    "gpuNum": 1,
    "hideHardwareSpecs": false,
    "memoryGiB": 256,
    "name": "ml.g4dn.16xlarge",
    "vcpuNum": 64
   },
   {
    "_defaultOrder": 35,
    "_isFastLaunch": false,
    "category": "Accelerated computing",
    "gpuNum": 1,
    "hideHardwareSpecs": false,
    "memoryGiB": 61,
    "name": "ml.p3.2xlarge",
    "vcpuNum": 8
   },
   {
    "_defaultOrder": 36,
    "_isFastLaunch": false,
    "category": "Accelerated computing",
    "gpuNum": 4,
    "hideHardwareSpecs": false,
    "memoryGiB": 244,
    "name": "ml.p3.8xlarge",
    "vcpuNum": 32
   },
   {
    "_defaultOrder": 37,
    "_isFastLaunch": false,
    "category": "Accelerated computing",
    "gpuNum": 8,
    "hideHardwareSpecs": false,
    "memoryGiB": 488,
    "name": "ml.p3.16xlarge",
    "vcpuNum": 64
   },
   {
    "_defaultOrder": 38,
    "_isFastLaunch": false,
    "category": "Accelerated computing",
    "gpuNum": 8,
    "hideHardwareSpecs": false,
    "memoryGiB": 768,
    "name": "ml.p3dn.24xlarge",
    "vcpuNum": 96
   },
   {
    "_defaultOrder": 39,
    "_isFastLaunch": false,
    "category": "Memory Optimized",
    "gpuNum": 0,
    "hideHardwareSpecs": false,
    "memoryGiB": 16,
    "name": "ml.r5.large",
    "vcpuNum": 2
   },
   {
    "_defaultOrder": 40,
    "_isFastLaunch": false,
    "category": "Memory Optimized",
    "gpuNum": 0,
    "hideHardwareSpecs": false,
    "memoryGiB": 32,
    "name": "ml.r5.xlarge",
    "vcpuNum": 4
   },
   {
    "_defaultOrder": 41,
    "_isFastLaunch": false,
    "category": "Memory Optimized",
    "gpuNum": 0,
    "hideHardwareSpecs": false,
    "memoryGiB": 64,
    "name": "ml.r5.2xlarge",
    "vcpuNum": 8
   },
   {
    "_defaultOrder": 42,
    "_isFastLaunch": false,
    "category": "Memory Optimized",
    "gpuNum": 0,
    "hideHardwareSpecs": false,
    "memoryGiB": 128,
    "name": "ml.r5.4xlarge",
    "vcpuNum": 16
   },
   {
    "_defaultOrder": 43,
    "_isFastLaunch": false,
    "category": "Memory Optimized",
    "gpuNum": 0,
    "hideHardwareSpecs": false,
    "memoryGiB": 256,
    "name": "ml.r5.8xlarge",
    "vcpuNum": 32
   },
   {
    "_defaultOrder": 44,
    "_isFastLaunch": false,
    "category": "Memory Optimized",
    "gpuNum": 0,
    "hideHardwareSpecs": false,
    "memoryGiB": 384,
    "name": "ml.r5.12xlarge",
    "vcpuNum": 48
   },
   {
    "_defaultOrder": 45,
    "_isFastLaunch": false,
    "category": "Memory Optimized",
    "gpuNum": 0,
    "hideHardwareSpecs": false,
    "memoryGiB": 512,
    "name": "ml.r5.16xlarge",
    "vcpuNum": 64
   },
   {
    "_defaultOrder": 46,
    "_isFastLaunch": false,
    "category": "Memory Optimized",
    "gpuNum": 0,
    "hideHardwareSpecs": false,
    "memoryGiB": 768,
    "name": "ml.r5.24xlarge",
    "vcpuNum": 96
   },
   {
    "_defaultOrder": 47,
    "_isFastLaunch": false,
    "category": "Accelerated computing",
    "gpuNum": 1,
    "hideHardwareSpecs": false,
    "memoryGiB": 16,
    "name": "ml.g5.xlarge",
    "vcpuNum": 4
   },
   {
    "_defaultOrder": 48,
    "_isFastLaunch": false,
    "category": "Accelerated computing",
    "gpuNum": 1,
    "hideHardwareSpecs": false,
    "memoryGiB": 32,
    "name": "ml.g5.2xlarge",
    "vcpuNum": 8
   },
   {
    "_defaultOrder": 49,
    "_isFastLaunch": false,
    "category": "Accelerated computing",
    "gpuNum": 1,
    "hideHardwareSpecs": false,
    "memoryGiB": 64,
    "name": "ml.g5.4xlarge",
    "vcpuNum": 16
   },
   {
    "_defaultOrder": 50,
    "_isFastLaunch": false,
    "category": "Accelerated computing",
    "gpuNum": 1,
    "hideHardwareSpecs": false,
    "memoryGiB": 128,
    "name": "ml.g5.8xlarge",
    "vcpuNum": 32
   },
   {
    "_defaultOrder": 51,
    "_isFastLaunch": false,
    "category": "Accelerated computing",
    "gpuNum": 1,
    "hideHardwareSpecs": false,
    "memoryGiB": 256,
    "name": "ml.g5.16xlarge",
    "vcpuNum": 64
   },
   {
    "_defaultOrder": 52,
    "_isFastLaunch": false,
    "category": "Accelerated computing",
    "gpuNum": 4,
    "hideHardwareSpecs": false,
    "memoryGiB": 192,
    "name": "ml.g5.12xlarge",
    "vcpuNum": 48
   },
   {
    "_defaultOrder": 53,
    "_isFastLaunch": false,
    "category": "Accelerated computing",
    "gpuNum": 4,
    "hideHardwareSpecs": false,
    "memoryGiB": 384,
    "name": "ml.g5.24xlarge",
    "vcpuNum": 96
   },
   {
    "_defaultOrder": 54,
    "_isFastLaunch": false,
    "category": "Accelerated computing",
    "gpuNum": 8,
    "hideHardwareSpecs": false,
    "memoryGiB": 768,
    "name": "ml.g5.48xlarge",
    "vcpuNum": 192
   },
   {
    "_defaultOrder": 55,
    "_isFastLaunch": false,
    "category": "Accelerated computing",
    "gpuNum": 8,
    "hideHardwareSpecs": false,
    "memoryGiB": 1152,
    "name": "ml.p4d.24xlarge",
    "vcpuNum": 96
   },
   {
    "_defaultOrder": 56,
    "_isFastLaunch": false,
    "category": "Accelerated computing",
    "gpuNum": 8,
    "hideHardwareSpecs": false,
    "memoryGiB": 1152,
    "name": "ml.p4de.24xlarge",
    "vcpuNum": 96
   },
   {
    "_defaultOrder": 57,
    "_isFastLaunch": false,
    "category": "Accelerated computing",
    "gpuNum": 0,
    "hideHardwareSpecs": false,
    "memoryGiB": 32,
    "name": "ml.trn1.2xlarge",
    "vcpuNum": 8
   },
   {
    "_defaultOrder": 58,
    "_isFastLaunch": false,
    "category": "Accelerated computing",
    "gpuNum": 0,
    "hideHardwareSpecs": false,
    "memoryGiB": 512,
    "name": "ml.trn1.32xlarge",
    "vcpuNum": 128
   },
   {
    "_defaultOrder": 59,
    "_isFastLaunch": false,
    "category": "Accelerated computing",
    "gpuNum": 0,
    "hideHardwareSpecs": false,
    "memoryGiB": 512,
    "name": "ml.trn1n.32xlarge",
    "vcpuNum": 128
   }
  ],
  "instance_type": "ml.t3.medium",
  "kernelspec": {
   "display_name": "Python 3 (Data Science 2.0)",
   "language": "python",
   "name": "python3__SAGEMAKER_INTERNAL__arn:aws:sagemaker:us-east-1:081325390199:image/sagemaker-data-science-38"
  },
  "language_info": {
   "codemirror_mode": {
    "name": "ipython",
    "version": 3
   },
   "file_extension": ".py",
   "mimetype": "text/x-python",
   "name": "python",
   "nbconvert_exporter": "python",
   "pygments_lexer": "ipython3",
   "version": "3.8.13"
  }
 },
 "nbformat": 4,
 "nbformat_minor": 5
}
