{
 "cells": [
  {
   "cell_type": "code",
   "execution_count": 149,
   "id": "00d48eb0-ae9e-4d28-a69a-1faa7944cac2",
   "metadata": {
    "tags": []
   },
   "outputs": [
    {
     "name": "stdout",
     "output_type": "stream",
     "text": [
      "sagemaker.config INFO - Not applying SDK defaults from location: /etc/xdg/sagemaker/config.yaml\n",
      "sagemaker.config INFO - Not applying SDK defaults from location: /root/.config/sagemaker/config.yaml\n",
      "sagemaker.config INFO - Not applying SDK defaults from location: /etc/xdg/sagemaker/config.yaml\n",
      "sagemaker.config INFO - Not applying SDK defaults from location: /root/.config/sagemaker/config.yaml\n"
     ]
    }
   ],
   "source": [
    "import sagemaker\n",
    "import boto3\n",
    "\n",
    "sagemaker_session = sagemaker.Session()\n",
    "role = sagemaker.get_execution_role()\n",
    "bucket = sagemaker_session.default_bucket()\n",
    "region = boto3.Session().region_name"
   ]
  },
  {
   "cell_type": "code",
   "execution_count": 150,
   "id": "5e1cf9ea-f692-425b-ab4b-5371ee060b64",
   "metadata": {
    "slideshow": {
     "slide_type": "slide"
    },
    "tags": []
   },
   "outputs": [
    {
     "name": "stdout",
     "output_type": "stream",
     "text": [
      "download: s3://raw-olist-ecommerce/olist_data/product_category_name_translation.csv to Data/product_category_name_translation.csv\n",
      "download: s3://raw-olist-ecommerce/olist_data/order_payments_dataset.csv to Data/order_payments_dataset.csv\n",
      "download: s3://raw-olist-ecommerce/olist_data/customers_dataset.csv to Data/customers_dataset.csv\n",
      "download: s3://raw-olist-ecommerce/olist_data/sellers_dataset.csv to Data/sellers_dataset.csv\n",
      "download: s3://raw-olist-ecommerce/olist_data/products_dataset.csv to Data/products_dataset.csv\n",
      "download: s3://raw-olist-ecommerce/olist_data/order_reviews_dataset.csv to Data/order_reviews_dataset.csv\n",
      "download: s3://raw-olist-ecommerce/olist_data/order_items_dataset.csv to Data/order_items_dataset.csv\n",
      "download: s3://raw-olist-ecommerce/olist_data/orders_dataset.csv to Data/orders_dataset.csv\n",
      "download: s3://raw-olist-ecommerce/olist_data/geolocation_dataset.csv to Data/geolocation_dataset.csv\n"
     ]
    }
   ],
   "source": [
    "!aws s3 cp s3://raw-olist-ecommerce/olist_data/ ./Data/ --recursive --exclude \"*\" --include \"*.csv\""
   ]
  },
  {
   "cell_type": "code",
   "execution_count": 151,
   "id": "f1595a41-cb3b-49b8-8f1a-d6a9605e66b1",
   "metadata": {
    "tags": []
   },
   "outputs": [],
   "source": [
    "import pandas as pd\n",
    "from pyathena import connect\n",
    "import matplotlib.pyplot as plt\n",
    "import pandas as pd\n",
    "import seaborn as sns\n",
    "\n"
   ]
  },
  {
   "cell_type": "code",
   "execution_count": 152,
   "id": "bcd7db1e-e22d-41e9-b108-85d04bd78b94",
   "metadata": {
    "tags": []
   },
   "outputs": [],
   "source": [
    "# set check for creating athena DB\n",
    "create_athena_db_passed = False\n",
    "# set db name\n",
    "database_name = \"ads_508_team_5\""
   ]
  },
  {
   "cell_type": "code",
   "execution_count": 153,
   "id": "2a01a436-551d-4b8e-b426-4ef3c1f07fd3",
   "metadata": {
    "tags": []
   },
   "outputs": [],
   "source": [
    "# Set S3 staging directory -- this is a temporary directory used for Athena queries\n",
    "s3_staging_dir = \"s3://{0}/athena/staging\".format(bucket)\n",
    "conn = connect(region_name=region, s3_staging_dir=s3_staging_dir)"
   ]
  },
  {
   "cell_type": "code",
   "execution_count": 154,
   "id": "a8a5237f-87da-4bf3-9c52-6508dda0e87d",
   "metadata": {
    "tags": []
   },
   "outputs": [
    {
     "name": "stdout",
     "output_type": "stream",
     "text": [
      "CREATE DATABASE IF NOT EXISTS ads_508_team_5\n"
     ]
    }
   ],
   "source": [
    "statement = \"CREATE DATABASE IF NOT EXISTS {}\".format(database_name)\n",
    "print(statement)"
   ]
  },
  {
   "cell_type": "code",
   "execution_count": 155,
   "id": "edd8732d-be2d-48cc-bf88-5e4396f0f040",
   "metadata": {
    "tags": []
   },
   "outputs": [
    {
     "data": {
      "text/html": [
       "<div>\n",
       "<style scoped>\n",
       "    .dataframe tbody tr th:only-of-type {\n",
       "        vertical-align: middle;\n",
       "    }\n",
       "\n",
       "    .dataframe tbody tr th {\n",
       "        vertical-align: top;\n",
       "    }\n",
       "\n",
       "    .dataframe thead th {\n",
       "        text-align: right;\n",
       "    }\n",
       "</style>\n",
       "<table border=\"1\" class=\"dataframe\">\n",
       "  <thead>\n",
       "    <tr style=\"text-align: right;\">\n",
       "      <th></th>\n",
       "    </tr>\n",
       "  </thead>\n",
       "  <tbody>\n",
       "  </tbody>\n",
       "</table>\n",
       "</div>"
      ],
      "text/plain": [
       "Empty DataFrame\n",
       "Columns: []\n",
       "Index: []"
      ]
     },
     "execution_count": 155,
     "metadata": {},
     "output_type": "execute_result"
    }
   ],
   "source": [
    "pd.read_sql(statement, conn)"
   ]
  },
  {
   "cell_type": "code",
   "execution_count": 156,
   "id": "9e195a2e-8ba3-4eb6-8645-ea026df356f8",
   "metadata": {
    "tags": []
   },
   "outputs": [
    {
     "data": {
      "text/html": [
       "<div>\n",
       "<style scoped>\n",
       "    .dataframe tbody tr th:only-of-type {\n",
       "        vertical-align: middle;\n",
       "    }\n",
       "\n",
       "    .dataframe tbody tr th {\n",
       "        vertical-align: top;\n",
       "    }\n",
       "\n",
       "    .dataframe thead th {\n",
       "        text-align: right;\n",
       "    }\n",
       "</style>\n",
       "<table border=\"1\" class=\"dataframe\">\n",
       "  <thead>\n",
       "    <tr style=\"text-align: right;\">\n",
       "      <th></th>\n",
       "      <th>database_name</th>\n",
       "    </tr>\n",
       "  </thead>\n",
       "  <tbody>\n",
       "    <tr>\n",
       "      <th>0</th>\n",
       "      <td>ads_508_team_5</td>\n",
       "    </tr>\n",
       "    <tr>\n",
       "      <th>1</th>\n",
       "      <td>default</td>\n",
       "    </tr>\n",
       "  </tbody>\n",
       "</table>\n",
       "</div>"
      ],
      "text/plain": [
       "    database_name\n",
       "0  ads_508_team_5\n",
       "1         default"
      ]
     },
     "execution_count": 156,
     "metadata": {},
     "output_type": "execute_result"
    }
   ],
   "source": [
    "statement = \"SHOW DATABASES\"\n",
    "\n",
    "db_show = pd.read_sql(statement, conn)\n",
    "db_show.head(5)"
   ]
  },
  {
   "cell_type": "code",
   "execution_count": 157,
   "id": "07902247-8801-46ba-8c50-34a36b56f7aa",
   "metadata": {
    "tags": []
   },
   "outputs": [],
   "source": [
    "if database_name in db_show.values:\n",
    "    ingest_create_athena_db_passed = True"
   ]
  },
  {
   "cell_type": "code",
   "execution_count": 158,
   "id": "3a9dad92-4fb6-4cf7-b93e-118bf6e13b09",
   "metadata": {
    "tags": []
   },
   "outputs": [],
   "source": [
    "# create a Boto3 client for Athena\n",
    "athena_client = boto3.client(\"athena\", region_name = region)\n",
    "# Bring down the database name again \n",
    "database_name = \"ads_508_team_5\"\n",
    "# create my S3 path to the whole bucket \n",
    "s3_path_olist = \"s3://raw-olist-ecommerce/olist_data/\"\n"
   ]
  },
  {
   "cell_type": "code",
   "execution_count": 159,
   "id": "d70e65ef-e12e-47e4-9fd8-e873ac5f0b27",
   "metadata": {
    "tags": []
   },
   "outputs": [],
   "source": [
    "## Manuel create all teh table for Athena\n",
    "customer_table_statement = \"\"\"CREATE EXTERNAL TABLE IF NOT EXISTS {}.customers_table(\n",
    "    customer_id string,\n",
    "          customer_unique_id string,\n",
    "          customer_zip_code_prefix int,\n",
    "          customer_city string,\n",
    "          customer_state string\n",
    "          )\n",
    "          ROW FORMAT DELIMITED\n",
    "          FIELDS TERMINATED BY ','\n",
    "          STORED AS TEXTFILE\n",
    "          LOCATION 's3://raw-olist-ecommerce/customers_data/'\n",
    "          TBLPROPERTIES (\"skip.header.line.count\"=\"1\");\"\"\".format(database_name)\n",
    "\n",
    "geolocation_table_statement = \"\"\"CREATE EXTERNAL TABLE IF NOT EXISTS {}.geolocation_table(\n",
    "          geolocation_zip_code_prefix int,\n",
    "          geolocation_lat double,\n",
    "          geolocation_lng double,\n",
    "          geolocation_city string,\n",
    "          geolocation_state string\n",
    "          )\n",
    "          ROW FORMAT DELIMITED\n",
    "          FIELDS TERMINATED BY ','\n",
    "          STORED AS TEXTFILE\n",
    "          LOCATION 's3://raw-olist-ecommerce/geolocation_dataset/'\n",
    "          TBLPROPERTIES (\"skip.header.line.count\"=\"1\");\"\"\".format(database_name)\n",
    "\n",
    "order_items_table_statement = \"\"\"CREATE EXTERNAL TABLE IF NOT EXISTS {}.order_items_table(\n",
    "          order_id string,\n",
    "          order_item_id int,\n",
    "          product_id string,\n",
    "          seller_id string,\n",
    "          shipping_limit_date timestamp,\n",
    "          price double,\n",
    "          freight_value double\n",
    "          )\n",
    "          ROW FORMAT DELIMITED\n",
    "          FIELDS TERMINATED BY ','\n",
    "          STORED AS TEXTFILE\n",
    "          LOCATION 's3://raw-olist-ecommerce/order_items_data/'\n",
    "          TBLPROPERTIES (\"skip.header.line.count\"=\"1\");\"\"\".format(database_name)\n",
    "\n",
    "order_reviews_table_statement = \"\"\"CREATE EXTERNAL TABLE IF NOT EXISTS {}.order_reviews_table(\n",
    "          review_id string,\n",
    "          order_id string,\n",
    "          review_score int,\n",
    "          review_comment_message string,\n",
    "          review_creation_date timestamp,\n",
    "          review_answer_timestamp timestamp\n",
    "          )\n",
    "          ROW FORMAT DELIMITED\n",
    "          FIELDS TERMINATED BY ','\n",
    "          STORED AS TEXTFILE\n",
    "          LOCATION 's3://raw-olist-ecommerce/order_reviews_data/'\n",
    "          TBLPROPERTIES (\"skip.header.line.count\"=\"1\");\"\"\".format(database_name)\n",
    "\n",
    "orders_table_statement = \"\"\"CREATE EXTERNAL TABLE IF NOT EXISTS {}.orders_table(\n",
    "          order_id string,\n",
    "          customer_id string,\n",
    "          order_status string,\n",
    "          order_purchase_timestamp timestamp,\n",
    "          order_approved_at timestamp,\n",
    "          order_delivered_carrier_date timestamp,\n",
    "          order_delivered_customer_date timestamp,\n",
    "          order_estimated_delivery_date timestamp\n",
    "          )\n",
    "          ROW FORMAT DELIMITED\n",
    "          FIELDS TERMINATED BY ','\n",
    "          STORED AS TEXTFILE\n",
    "          LOCATION 's3://raw-olist-ecommerce/orders_data/'\n",
    "          TBLPROPERTIES (\"skip.header.line.count\"=\"1\");\"\"\".format(database_name)\n",
    "\n",
    "order_payments_statement = \"\"\"CREATE EXTERNAL TABLE IF NOT EXISTS {}.order_payments_table(\n",
    "          order_id string,\n",
    "          payment_sequential int,\n",
    "          payment_type string,\n",
    "          payment_installments int,\n",
    "          payment_value double\n",
    "          )\n",
    "          ROW FORMAT DELIMITED\n",
    "          FIELDS TERMINATED BY ','\n",
    "          STORED AS TEXTFILE\n",
    "          LOCATION 's3://raw-olist-ecommerce/prder_payments_data/'\n",
    "          TBLPROPERTIES (\"skip.header.line.count\"=\"1\");\"\"\".format(database_name)\n",
    "\n",
    "\n",
    "product_category_statement = \"\"\"CREATE EXTERNAL TABLE IF NOT EXISTS {}.product_category_table(\n",
    "          product_category_name string,\n",
    "          product_category_name_english string\n",
    "          )\n",
    "          ROW FORMAT DELIMITED\n",
    "          FIELDS TERMINATED BY ','\n",
    "          STORED AS TEXTFILE\n",
    "          LOCATION 's3://raw-olist-ecommerce/product_cat_name_data/'\n",
    "          TBLPROPERTIES (\"skip.header.line.count\"=\"1\");\"\"\".format(database_name)\n",
    "\n",
    "products_statement = \"\"\"CREATE EXTERNAL TABLE IF NOT EXISTS {}.product_table(\n",
    "          product_category_name string,\n",
    "          product_category_name_english string\n",
    "          )\n",
    "          ROW FORMAT DELIMITED\n",
    "          FIELDS TERMINATED BY ','\n",
    "          STORED AS TEXTFILE\n",
    "          LOCATION 's3://raw-olist-ecommerce/products_data/'\n",
    "          TBLPROPERTIES (\"skip.header.line.count\"=\"1\");\"\"\".format(database_name)\n",
    "\n",
    "sellers_statement = \"\"\"CREATE EXTERNAL TABLE IF NOT EXISTS {}.sellers_table(\n",
    "          seller_id string,\n",
    "          seller_zip_code_prefix int,\n",
    "          seller_city string,\n",
    "          seller_state string\n",
    "          )\n",
    "          ROW FORMAT DELIMITED\n",
    "          FIELDS TERMINATED BY ','\n",
    "          STORED AS TEXTFILE\n",
    "          LOCATION 's3://raw-olist-ecommerce/sellers_data/'\n",
    "          TBLPROPERTIES (\"skip.header.line.count\"=\"1\");\"\"\".format(database_name)"
   ]
  },
  {
   "cell_type": "code",
   "execution_count": 160,
   "id": "59721f05-9ddc-47cd-b907-b8b01ea1e591",
   "metadata": {
    "tags": []
   },
   "outputs": [],
   "source": [
    "write_cust_table = pd.read_sql(customer_table_statement, conn)\n",
    "write_geo_table = pd.read_sql(geolocation_table_statement, conn)\n",
    "write_order_items_table = pd.read_sql(order_items_table_statement, conn)\n",
    "write_order_reviews_table = pd.read_sql(order_reviews_table_statement, conn)\n",
    "write_orders_table = pd.read_sql(orders_table_statement, conn)\n",
    "write_order_payments_table = pd.read_sql(order_payments_statement, conn)\n",
    "write_prod_cat_table = pd.read_sql(product_category_statement, conn)\n",
    "write_product_table = pd.read_sql(products_statement, conn)\n",
    "write_seller_table = pd.read_sql(sellers_statement, conn)"
   ]
  },
  {
   "cell_type": "code",
   "execution_count": 162,
   "id": "40f812b9-0591-4ade-ac48-24c6b2737cb1",
   "metadata": {
    "tags": []
   },
   "outputs": [
    {
     "data": {
      "text/html": [
       "<div>\n",
       "<style scoped>\n",
       "    .dataframe tbody tr th:only-of-type {\n",
       "        vertical-align: middle;\n",
       "    }\n",
       "\n",
       "    .dataframe tbody tr th {\n",
       "        vertical-align: top;\n",
       "    }\n",
       "\n",
       "    .dataframe thead th {\n",
       "        text-align: right;\n",
       "    }\n",
       "</style>\n",
       "<table border=\"1\" class=\"dataframe\">\n",
       "  <thead>\n",
       "    <tr style=\"text-align: right;\">\n",
       "      <th></th>\n",
       "      <th>customer_id</th>\n",
       "      <th>customer_unique_id</th>\n",
       "      <th>customer_zip_code_prefix</th>\n",
       "      <th>customer_city</th>\n",
       "      <th>customer_state</th>\n",
       "    </tr>\n",
       "  </thead>\n",
       "  <tbody>\n",
       "    <tr>\n",
       "      <th>0</th>\n",
       "      <td>\"06b8999e2fba1a1fbc88172c00ba8bc7\"</td>\n",
       "      <td>\"861eff4711a542e4b93843c6dd7febb0\"</td>\n",
       "      <td>None</td>\n",
       "      <td>franca</td>\n",
       "      <td>SP</td>\n",
       "    </tr>\n",
       "    <tr>\n",
       "      <th>1</th>\n",
       "      <td>\"18955e83d337fd6b2def6b18a428ac77\"</td>\n",
       "      <td>\"290c77bc529b7ac935b93aa66c333dc3\"</td>\n",
       "      <td>None</td>\n",
       "      <td>sao bernardo do campo</td>\n",
       "      <td>SP</td>\n",
       "    </tr>\n",
       "    <tr>\n",
       "      <th>2</th>\n",
       "      <td>\"4e7b3e00288586ebd08712fdd0374a03\"</td>\n",
       "      <td>\"060e732b5b29e8181a18229c7b0b2b5e\"</td>\n",
       "      <td>None</td>\n",
       "      <td>sao paulo</td>\n",
       "      <td>SP</td>\n",
       "    </tr>\n",
       "    <tr>\n",
       "      <th>3</th>\n",
       "      <td>b2b6027bc5c5109e529d4dc6358b12c3</td>\n",
       "      <td>\"259dac757896d24d7702b9acbbff3f3c\"</td>\n",
       "      <td>None</td>\n",
       "      <td>mogi das cruzes</td>\n",
       "      <td>SP</td>\n",
       "    </tr>\n",
       "    <tr>\n",
       "      <th>4</th>\n",
       "      <td>\"4f2d8ab171c80ec8364f7c12e35b23ad\"</td>\n",
       "      <td>\"345ecd01c38d18a9036ed96c73b8d066\"</td>\n",
       "      <td>None</td>\n",
       "      <td>campinas</td>\n",
       "      <td>SP</td>\n",
       "    </tr>\n",
       "  </tbody>\n",
       "</table>\n",
       "</div>"
      ],
      "text/plain": [
       "                          customer_id                  customer_unique_id  \\\n",
       "0  \"06b8999e2fba1a1fbc88172c00ba8bc7\"  \"861eff4711a542e4b93843c6dd7febb0\"   \n",
       "1  \"18955e83d337fd6b2def6b18a428ac77\"  \"290c77bc529b7ac935b93aa66c333dc3\"   \n",
       "2  \"4e7b3e00288586ebd08712fdd0374a03\"  \"060e732b5b29e8181a18229c7b0b2b5e\"   \n",
       "3    b2b6027bc5c5109e529d4dc6358b12c3  \"259dac757896d24d7702b9acbbff3f3c\"   \n",
       "4  \"4f2d8ab171c80ec8364f7c12e35b23ad\"  \"345ecd01c38d18a9036ed96c73b8d066\"   \n",
       "\n",
       "  customer_zip_code_prefix          customer_city customer_state  \n",
       "0                     None                 franca             SP  \n",
       "1                     None  sao bernardo do campo             SP  \n",
       "2                     None              sao paulo             SP  \n",
       "3                     None        mogi das cruzes             SP  \n",
       "4                     None               campinas             SP  "
      ]
     },
     "execution_count": 162,
     "metadata": {},
     "output_type": "execute_result"
    }
   ],
   "source": [
    "query1 = \"\"\"select * from ads_508_team_5.customers_table limit 5;\"\"\"\n",
    "df_show = pd.read_sql(query1,conn) \n",
    "df_show"
   ]
  },
  {
   "cell_type": "code",
   "execution_count": 90,
   "id": "86fbedf5-5d2d-451a-97fa-5a5f66c41fb2",
   "metadata": {
    "tags": []
   },
   "outputs": [
    {
     "data": {
      "text/html": [
       "<div>\n",
       "<style scoped>\n",
       "    .dataframe tbody tr th:only-of-type {\n",
       "        vertical-align: middle;\n",
       "    }\n",
       "\n",
       "    .dataframe tbody tr th {\n",
       "        vertical-align: top;\n",
       "    }\n",
       "\n",
       "    .dataframe thead th {\n",
       "        text-align: right;\n",
       "    }\n",
       "</style>\n",
       "<table border=\"1\" class=\"dataframe\">\n",
       "  <thead>\n",
       "    <tr style=\"text-align: right;\">\n",
       "      <th></th>\n",
       "      <th>customer_id</th>\n",
       "      <th>customer_unique_id</th>\n",
       "      <th>customer_zip_code_prefix</th>\n",
       "      <th>customer_city</th>\n",
       "      <th>customer_state</th>\n",
       "    </tr>\n",
       "  </thead>\n",
       "  <tbody>\n",
       "    <tr>\n",
       "      <th>0</th>\n",
       "      <td>\"06b8999e2fba1a1fbc88172c00ba8bc7\"</td>\n",
       "      <td>\"861eff4711a542e4b93843c6dd7febb0\"</td>\n",
       "      <td>None</td>\n",
       "      <td>franca</td>\n",
       "      <td>SP</td>\n",
       "    </tr>\n",
       "    <tr>\n",
       "      <th>1</th>\n",
       "      <td>\"18955e83d337fd6b2def6b18a428ac77\"</td>\n",
       "      <td>\"290c77bc529b7ac935b93aa66c333dc3\"</td>\n",
       "      <td>None</td>\n",
       "      <td>sao bernardo do campo</td>\n",
       "      <td>SP</td>\n",
       "    </tr>\n",
       "    <tr>\n",
       "      <th>2</th>\n",
       "      <td>\"4e7b3e00288586ebd08712fdd0374a03\"</td>\n",
       "      <td>\"060e732b5b29e8181a18229c7b0b2b5e\"</td>\n",
       "      <td>None</td>\n",
       "      <td>sao paulo</td>\n",
       "      <td>SP</td>\n",
       "    </tr>\n",
       "    <tr>\n",
       "      <th>3</th>\n",
       "      <td>b2b6027bc5c5109e529d4dc6358b12c3</td>\n",
       "      <td>\"259dac757896d24d7702b9acbbff3f3c\"</td>\n",
       "      <td>None</td>\n",
       "      <td>mogi das cruzes</td>\n",
       "      <td>SP</td>\n",
       "    </tr>\n",
       "    <tr>\n",
       "      <th>4</th>\n",
       "      <td>\"4f2d8ab171c80ec8364f7c12e35b23ad\"</td>\n",
       "      <td>\"345ecd01c38d18a9036ed96c73b8d066\"</td>\n",
       "      <td>None</td>\n",
       "      <td>campinas</td>\n",
       "      <td>SP</td>\n",
       "    </tr>\n",
       "  </tbody>\n",
       "</table>\n",
       "</div>"
      ],
      "text/plain": [
       "                          customer_id                  customer_unique_id  \\\n",
       "0  \"06b8999e2fba1a1fbc88172c00ba8bc7\"  \"861eff4711a542e4b93843c6dd7febb0\"   \n",
       "1  \"18955e83d337fd6b2def6b18a428ac77\"  \"290c77bc529b7ac935b93aa66c333dc3\"   \n",
       "2  \"4e7b3e00288586ebd08712fdd0374a03\"  \"060e732b5b29e8181a18229c7b0b2b5e\"   \n",
       "3    b2b6027bc5c5109e529d4dc6358b12c3  \"259dac757896d24d7702b9acbbff3f3c\"   \n",
       "4  \"4f2d8ab171c80ec8364f7c12e35b23ad\"  \"345ecd01c38d18a9036ed96c73b8d066\"   \n",
       "\n",
       "  customer_zip_code_prefix          customer_city customer_state  \n",
       "0                     None                 franca             SP  \n",
       "1                     None  sao bernardo do campo             SP  \n",
       "2                     None              sao paulo             SP  \n",
       "3                     None        mogi das cruzes             SP  \n",
       "4                     None               campinas             SP  "
      ]
     },
     "execution_count": 90,
     "metadata": {},
     "output_type": "execute_result"
    }
   ],
   "source": [
    "query1 = \"\"\"select * from ads_508_team_5.customers_table limit 5;\"\"\"\n",
    "df_show = pd.read_sql(query1,conn) \n",
    "df_show"
   ]
  },
  {
   "cell_type": "code",
   "execution_count": null,
   "id": "93225a7a-b882-4ba0-91d9-e54a315da566",
   "metadata": {},
   "outputs": [],
   "source": []
  },
  {
   "cell_type": "code",
   "execution_count": 91,
   "id": "a0efb872-b54e-4ef0-b548-2c5cda8da470",
   "metadata": {
    "tags": []
   },
   "outputs": [
    {
     "data": {
      "text/html": [
       "<div>\n",
       "<style scoped>\n",
       "    .dataframe tbody tr th:only-of-type {\n",
       "        vertical-align: middle;\n",
       "    }\n",
       "\n",
       "    .dataframe tbody tr th {\n",
       "        vertical-align: top;\n",
       "    }\n",
       "\n",
       "    .dataframe thead th {\n",
       "        text-align: right;\n",
       "    }\n",
       "</style>\n",
       "<table border=\"1\" class=\"dataframe\">\n",
       "  <thead>\n",
       "    <tr style=\"text-align: right;\">\n",
       "      <th></th>\n",
       "      <th>order_status</th>\n",
       "      <th>total_orders</th>\n",
       "    </tr>\n",
       "  </thead>\n",
       "  <tbody>\n",
       "    <tr>\n",
       "      <th>0</th>\n",
       "      <td>invoiced</td>\n",
       "      <td>314</td>\n",
       "    </tr>\n",
       "    <tr>\n",
       "      <th>1</th>\n",
       "      <td>shipped</td>\n",
       "      <td>1107</td>\n",
       "    </tr>\n",
       "    <tr>\n",
       "      <th>2</th>\n",
       "      <td>unavailable</td>\n",
       "      <td>609</td>\n",
       "    </tr>\n",
       "    <tr>\n",
       "      <th>3</th>\n",
       "      <td>created</td>\n",
       "      <td>5</td>\n",
       "    </tr>\n",
       "    <tr>\n",
       "      <th>4</th>\n",
       "      <td>delivered</td>\n",
       "      <td>96478</td>\n",
       "    </tr>\n",
       "    <tr>\n",
       "      <th>5</th>\n",
       "      <td>processing</td>\n",
       "      <td>301</td>\n",
       "    </tr>\n",
       "    <tr>\n",
       "      <th>6</th>\n",
       "      <td>canceled</td>\n",
       "      <td>625</td>\n",
       "    </tr>\n",
       "    <tr>\n",
       "      <th>7</th>\n",
       "      <td>approved</td>\n",
       "      <td>2</td>\n",
       "    </tr>\n",
       "  </tbody>\n",
       "</table>\n",
       "</div>"
      ],
      "text/plain": [
       "  order_status  total_orders\n",
       "0     invoiced           314\n",
       "1      shipped          1107\n",
       "2  unavailable           609\n",
       "3      created             5\n",
       "4    delivered         96478\n",
       "5   processing           301\n",
       "6     canceled           625\n",
       "7     approved             2"
      ]
     },
     "execution_count": 91,
     "metadata": {},
     "output_type": "execute_result"
    }
   ],
   "source": [
    "query1 = \"\"\" SELECT \n",
    "    order_status, \n",
    "    COUNT(*) as total_orders \n",
    "FROM ads_508_team_5.orders_table \n",
    "GROUP BY order_status; \"\"\"\n",
    "df = pd.read_sql(query1,conn) \n",
    "df"
   ]
  },
  {
   "cell_type": "code",
   "execution_count": 32,
   "id": "c943f803-0eb2-4c07-866d-4f850da6bae8",
   "metadata": {
    "tags": []
   },
   "outputs": [
    {
     "data": {
      "image/png": "[encoded data removed]",
      "text/plain": [
       "<Figure size 720x432 with 1 Axes>"
      ]
     },
     "metadata": {
      "needs_background": "light"
     },
     "output_type": "display_data"
    }
   ],
   "source": [
    "\n",
    "# Why delivery is not executing properly \n",
    "\n",
    "df = df[df['order_status'] != 'delivered']\n",
    "\n",
    "# Creating the bar plot\n",
    "plt.figure(figsize=(10, 6))\n",
    "plt.bar(df['order_status'], df['total_orders'], color='skyblue')\n",
    "plt.xlabel('Order Status')\n",
    "plt.ylabel('Total Orders')\n",
    "plt.title('Distribution of Orders by Status')\n",
    "plt.xticks(rotation=45)\n",
    "plt.show()\n"
   ]
  },
  {
   "cell_type": "code",
   "execution_count": 92,
   "id": "14f137b2-4a48-4161-9e81-75a21ebf00b6",
   "metadata": {
    "tags": []
   },
   "outputs": [
    {
     "data": {
      "text/html": [
       "<div>\n",
       "<style scoped>\n",
       "    .dataframe tbody tr th:only-of-type {\n",
       "        vertical-align: middle;\n",
       "    }\n",
       "\n",
       "    .dataframe tbody tr th {\n",
       "        vertical-align: top;\n",
       "    }\n",
       "\n",
       "    .dataframe thead th {\n",
       "        text-align: right;\n",
       "    }\n",
       "</style>\n",
       "<table border=\"1\" class=\"dataframe\">\n",
       "  <thead>\n",
       "    <tr style=\"text-align: right;\">\n",
       "      <th></th>\n",
       "      <th>avg_delivery_time</th>\n",
       "    </tr>\n",
       "  </thead>\n",
       "  <tbody>\n",
       "    <tr>\n",
       "      <th>0</th>\n",
       "      <td>12.093604</td>\n",
       "    </tr>\n",
       "  </tbody>\n",
       "</table>\n",
       "</div>"
      ],
      "text/plain": [
       "   avg_delivery_time\n",
       "0          12.093604"
      ]
     },
     "execution_count": 92,
     "metadata": {},
     "output_type": "execute_result"
    }
   ],
   "source": [
    "query1 = \"\"\"\n",
    "SELECT \n",
    "    AVG(date_diff('day', order_purchase_timestamp, order_delivered_customer_date)) as avg_delivery_time \n",
    "FROM ads_508_team_5.orders_table\n",
    "WHERE order_status = 'delivered';\n",
    "\"\"\"\n",
    "average_delivery_time = pd.read_sql(query1,conn) \n",
    "average_delivery_time"
   ]
  },
  {
   "cell_type": "code",
   "execution_count": 93,
   "id": "e2de71d5-e108-4fc2-8742-9a9d86afcf5f",
   "metadata": {
    "tags": []
   },
   "outputs": [
    {
     "data": {
      "text/html": [
       "<div>\n",
       "<style scoped>\n",
       "    .dataframe tbody tr th:only-of-type {\n",
       "        vertical-align: middle;\n",
       "    }\n",
       "\n",
       "    .dataframe tbody tr th {\n",
       "        vertical-align: top;\n",
       "    }\n",
       "\n",
       "    .dataframe thead th {\n",
       "        text-align: right;\n",
       "    }\n",
       "</style>\n",
       "<table border=\"1\" class=\"dataframe\">\n",
       "  <thead>\n",
       "    <tr style=\"text-align: right;\">\n",
       "      <th></th>\n",
       "      <th>customer_state</th>\n",
       "      <th>customer_count</th>\n",
       "      <th>avg_delivery_time</th>\n",
       "    </tr>\n",
       "  </thead>\n",
       "  <tbody>\n",
       "    <tr>\n",
       "      <th>0</th>\n",
       "      <td>SP</td>\n",
       "      <td>40501</td>\n",
       "      <td>8.298094</td>\n",
       "    </tr>\n",
       "    <tr>\n",
       "      <th>1</th>\n",
       "      <td>RJ</td>\n",
       "      <td>12350</td>\n",
       "      <td>14.848583</td>\n",
       "    </tr>\n",
       "    <tr>\n",
       "      <th>2</th>\n",
       "      <td>MG</td>\n",
       "      <td>11354</td>\n",
       "      <td>11.542188</td>\n",
       "    </tr>\n",
       "    <tr>\n",
       "      <th>3</th>\n",
       "      <td>RS</td>\n",
       "      <td>5345</td>\n",
       "      <td>14.819237</td>\n",
       "    </tr>\n",
       "    <tr>\n",
       "      <th>4</th>\n",
       "      <td>PR</td>\n",
       "      <td>4923</td>\n",
       "      <td>11.526711</td>\n",
       "    </tr>\n",
       "  </tbody>\n",
       "</table>\n",
       "</div>"
      ],
      "text/plain": [
       "  customer_state  customer_count  avg_delivery_time\n",
       "0             SP           40501           8.298094\n",
       "1             RJ           12350          14.848583\n",
       "2             MG           11354          11.542188\n",
       "3             RS            5345          14.819237\n",
       "4             PR            4923          11.526711"
      ]
     },
     "execution_count": 93,
     "metadata": {},
     "output_type": "execute_result"
    }
   ],
   "source": [
    "# customer per state \n",
    "query1 = \"\"\" \n",
    "SELECT \n",
    "    c.customer_state, \n",
    "    COUNT(DISTINCT o.customer_id) as customer_count,\n",
    "    AVG(date_diff('day', o.order_purchase_timestamp, o.order_delivered_customer_date)) as avg_delivery_time \n",
    "FROM ads_508_team_5.orders_table o \n",
    "JOIN ads_508_team_5.customers_table c ON o.customer_id = c.customer_id \n",
    "WHERE o.order_status = 'delivered'\n",
    "GROUP BY c.customer_state\n",
    "ORDER BY customer_count DESC;\n",
    "\"\"\"\n",
    "#HAVING COUNT(DISTINCT o.customer_id) >= 100 \n",
    "\n",
    "df = pd.read_sql(query1,conn) \n",
    "df.head()"
   ]
  },
  {
   "cell_type": "code",
   "execution_count": 94,
   "id": "50540b05-ff88-41dd-aba8-ec17cd4e5fcb",
   "metadata": {
    "tags": []
   },
   "outputs": [
    {
     "data": {
      "image/png": "[encoded data removed]",
      "text/plain": [
       "<Figure size 864x576 with 1 Axes>"
      ]
     },
     "metadata": {
      "needs_background": "light"
     },
     "output_type": "display_data"
    }
   ],
   "source": [
    "import matplotlib.pyplot as plt\n",
    "import seaborn as sns\n",
    "import pandas as pd\n",
    "\n",
    "# Assuming df is your existing DataFrame\n",
    "# Update these lines if your DataFrame has different names for these columns\n",
    "states = df[\"customer_state\"]\n",
    "num_orders = df[\"customer_count\"] \n",
    "avg_delivery_time = df[\"avg_delivery_time\"] \n",
    "\n",
    "# Update the DataFrame to use the correct column names\n",
    "df = pd.DataFrame({'State': states, 'Number of Orders': num_orders, 'Average Delivery Time': avg_delivery_time})\n",
    "\n",
    "# Creating the scatter plot\n",
    "plt.figure(figsize=(12, 8))\n",
    "sns.scatterplot(data=df, x='Number of Orders', y='Average Delivery Time', hue='State', s=100, palette='viridis')\n",
    "\n",
    "# Adding labels and title\n",
    "plt.xlabel('Number of Orders', fontsize=14)\n",
    "plt.ylabel('Average Delivery Time (days)', fontsize=14)\n",
    "plt.title('Number of Orders vs Average Delivery Time by State', fontsize=16)\n",
    "plt.legend(title='State', bbox_to_anchor=(1.05, 1), loc='upper left')\n",
    "\n",
    "# Showing the plot\n",
    "plt.show()\n"
   ]
  },
  {
   "cell_type": "markdown",
   "id": "e19d1785-b082-403b-8628-dc81487ff8f8",
   "metadata": {},
   "source": [
    "So, if the number of order increases then the average delivery time is decreased. "
   ]
  },
  {
   "cell_type": "code",
   "execution_count": 95,
   "id": "78f8a241-1b46-475d-bee9-50c5bc749fc2",
   "metadata": {
    "tags": []
   },
   "outputs": [
    {
     "data": {
      "image/png": "[encoded data removed]",
      "text/plain": [
       "<Figure size 864x432 with 1 Axes>"
      ]
     },
     "metadata": {
      "needs_background": "light"
     },
     "output_type": "display_data"
    }
   ],
   "source": [
    "query1 = \"\"\"SELECT \n",
    "    c.customer_state, \n",
    "    AVG(date_diff('day', o.order_purchase_timestamp, o.order_delivered_customer_date)) as avg_delivery_time \n",
    "FROM ads_508_team_5.orders_table o \n",
    "JOIN ads_508_team_5.customers_table c ON o.customer_id = c.customer_id \n",
    "WHERE o.order_status = 'delivered'\n",
    "GROUP BY c.customer_state\n",
    "ORDER BY avg_delivery_time DESC;\n",
    " \"\"\"\n",
    "\n",
    "df = pd.read_sql(query1,conn) \n",
    "\n",
    "# Creating the bar plot\n",
    "plt.figure(figsize=(12, 6))\n",
    "plt.bar(df['customer_state'], df['avg_delivery_time'], color='skyblue')\n",
    "plt.xlabel('Customer State')\n",
    "plt.ylabel('Average Delivery Time (days)')\n",
    "plt.title('Average Delivery Time by State')\n",
    "plt.xticks(rotation=45)\n",
    "plt.show()"
   ]
  },
  {
   "cell_type": "markdown",
   "id": "4435d781-090d-415e-821c-ad6437ddd7d3",
   "metadata": {
    "tags": []
   },
   "source": [
    "### Frequency of Delayed Orders:\n",
    "\n",
    "`Purpose:` Determine how often orders are delivered later than the estimated delivery date.\n",
    "\n"
   ]
  },
  {
   "cell_type": "code",
   "execution_count": 96,
   "id": "703cdb9e-b79c-42b4-b50c-aaa7473616ef",
   "metadata": {
    "tags": []
   },
   "outputs": [
    {
     "data": {
      "text/html": [
       "<div>\n",
       "<style scoped>\n",
       "    .dataframe tbody tr th:only-of-type {\n",
       "        vertical-align: middle;\n",
       "    }\n",
       "\n",
       "    .dataframe tbody tr th {\n",
       "        vertical-align: top;\n",
       "    }\n",
       "\n",
       "    .dataframe thead th {\n",
       "        text-align: right;\n",
       "    }\n",
       "</style>\n",
       "<table border=\"1\" class=\"dataframe\">\n",
       "  <thead>\n",
       "    <tr style=\"text-align: right;\">\n",
       "      <th></th>\n",
       "      <th>delayed_orders</th>\n",
       "    </tr>\n",
       "  </thead>\n",
       "  <tbody>\n",
       "    <tr>\n",
       "      <th>0</th>\n",
       "      <td>7827</td>\n",
       "    </tr>\n",
       "  </tbody>\n",
       "</table>\n",
       "</div>"
      ],
      "text/plain": [
       "   delayed_orders\n",
       "0            7827"
      ]
     },
     "execution_count": 96,
     "metadata": {},
     "output_type": "execute_result"
    }
   ],
   "source": [
    "query1 = \"\"\"SELECT \n",
    "    COUNT(*) as delayed_orders \n",
    "FROM ads_508_team_5.orders_table\n",
    "WHERE order_estimated_delivery_date < order_delivered_customer_date;\n",
    "\"\"\" \n",
    "df = pd.read_sql(query1,conn) \n",
    "df.head()\n"
   ]
  },
  {
   "cell_type": "markdown",
   "id": "b5420604-bacf-4e1b-a52b-92b2d29e5f1d",
   "metadata": {},
   "source": [
    "### Analysis of Freight Value:\n",
    "\n",
    "`Purpose:` Explore the range and average of freight values, which might impact delivery times.\n",
    "\n"
   ]
  },
  {
   "cell_type": "code",
   "execution_count": 135,
   "id": "51fd1b65-0932-424a-b209-9fc729622b52",
   "metadata": {
    "tags": []
   },
   "outputs": [
    {
     "data": {
      "text/html": [
       "<div>\n",
       "<style scoped>\n",
       "    .dataframe tbody tr th:only-of-type {\n",
       "        vertical-align: middle;\n",
       "    }\n",
       "\n",
       "    .dataframe tbody tr th {\n",
       "        vertical-align: top;\n",
       "    }\n",
       "\n",
       "    .dataframe thead th {\n",
       "        text-align: right;\n",
       "    }\n",
       "</style>\n",
       "<table border=\"1\" class=\"dataframe\">\n",
       "  <thead>\n",
       "    <tr style=\"text-align: right;\">\n",
       "      <th></th>\n",
       "      <th>customer_state</th>\n",
       "      <th>customer_count</th>\n",
       "      <th>avg_delivery_time</th>\n",
       "      <th>avg_freight</th>\n",
       "      <th>max_freight</th>\n",
       "      <th>min_freight</th>\n",
       "    </tr>\n",
       "  </thead>\n",
       "  <tbody>\n",
       "    <tr>\n",
       "      <th>0</th>\n",
       "      <td>SP</td>\n",
       "      <td>40501</td>\n",
       "      <td>8.259663</td>\n",
       "      <td>15.115182</td>\n",
       "      <td>339.59</td>\n",
       "      <td>0.0</td>\n",
       "    </tr>\n",
       "    <tr>\n",
       "      <th>1</th>\n",
       "      <td>RJ</td>\n",
       "      <td>12350</td>\n",
       "      <td>14.688821</td>\n",
       "      <td>20.911436</td>\n",
       "      <td>207.78</td>\n",
       "      <td>0.0</td>\n",
       "    </tr>\n",
       "    <tr>\n",
       "      <th>2</th>\n",
       "      <td>MG</td>\n",
       "      <td>11354</td>\n",
       "      <td>11.514091</td>\n",
       "      <td>20.626343</td>\n",
       "      <td>322.10</td>\n",
       "      <td>0.0</td>\n",
       "    </tr>\n",
       "    <tr>\n",
       "      <th>3</th>\n",
       "      <td>RS</td>\n",
       "      <td>5345</td>\n",
       "      <td>14.708299</td>\n",
       "      <td>21.613192</td>\n",
       "      <td>254.55</td>\n",
       "      <td>0.0</td>\n",
       "    </tr>\n",
       "    <tr>\n",
       "      <th>4</th>\n",
       "      <td>PR</td>\n",
       "      <td>4923</td>\n",
       "      <td>11.480793</td>\n",
       "      <td>20.471816</td>\n",
       "      <td>375.28</td>\n",
       "      <td>0.0</td>\n",
       "    </tr>\n",
       "  </tbody>\n",
       "</table>\n",
       "</div>"
      ],
      "text/plain": [
       "  customer_state  customer_count  avg_delivery_time  avg_freight  max_freight  \\\n",
       "0             SP           40501           8.259663    15.115182       339.59   \n",
       "1             RJ           12350          14.688821    20.911436       207.78   \n",
       "2             MG           11354          11.514091    20.626343       322.10   \n",
       "3             RS            5345          14.708299    21.613192       254.55   \n",
       "4             PR            4923          11.480793    20.471816       375.28   \n",
       "\n",
       "   min_freight  \n",
       "0          0.0  \n",
       "1          0.0  \n",
       "2          0.0  \n",
       "3          0.0  \n",
       "4          0.0  "
      ]
     },
     "execution_count": 135,
     "metadata": {},
     "output_type": "execute_result"
    }
   ],
   "source": [
    "query1 = \"\"\"SELECT \n",
    "    c.customer_state, \n",
    "    COUNT(DISTINCT o.customer_id) as customer_count,\n",
    "    AVG(date_diff('day', o.order_purchase_timestamp, o.order_delivered_customer_date)) as avg_delivery_time,\n",
    "    AVG(oi.freight_value) as avg_freight, \n",
    "    MAX(oi.freight_value) as max_freight, \n",
    "    MIN(oi.freight_value) as min_freight\n",
    "FROM ads_508_team_5.orders_table o \n",
    "JOIN ads_508_team_5.customers_table c ON o.customer_id = c.customer_id\n",
    "JOIN ads_508_team_5.order_items_table oi ON o.order_id = oi.order_id\n",
    "WHERE o.order_status = 'delivered'\n",
    "GROUP BY c.customer_state\n",
    "ORDER BY customer_count DESC;\n",
    "\"\"\"\n",
    "\n",
    "df = pd.read_sql(query1,conn) \n",
    "df.head()\n"
   ]
  },
  {
   "cell_type": "code",
   "execution_count": 137,
   "id": "b75b6db7-c2a7-4a36-ab15-6770e60d382d",
   "metadata": {
    "tags": []
   },
   "outputs": [
    {
     "data": {
      "image/png": "[encoded data removed]",
      "text/plain": [
       "<Figure size 864x576 with 1 Axes>"
      ]
     },
     "metadata": {
      "needs_background": "light"
     },
     "output_type": "display_data"
    }
   ],
   "source": [
    "# Creating the scatter plot with bubble sizes\n",
    "plt.figure(figsize=(12, 8))\n",
    "sns.scatterplot(data=df, x='avg_freight', y='avg_delivery_time', size='customer_count', \n",
    "                hue='customer_state', sizes=(100, 1000), alpha=0.5, palette='viridis')\n",
    "\n",
    "plt.xlabel('Average Freight Cost', fontsize=14)\n",
    "plt.ylabel('Average Delivery Time (days)', fontsize=14)\n",
    "plt.title('Average Freight Cost vs Average Delivery Time by State', fontsize=16)\n",
    "plt.legend(title='State', bbox_to_anchor=(1.05, 1), loc='upper left')\n",
    "\n",
    "plt.show()"
   ]
  },
  {
   "cell_type": "markdown",
   "id": "728f04fc-c2ef-441f-b4c0-4d1f48c16b57",
   "metadata": {},
   "source": [
    "### Review Scores and Delivery Time:\n",
    "\n",
    "`Purpose:` Investigate if there's a relationship between delivery times and customer satisfaction (review scores).\n",
    "\n"
   ]
  },
  {
   "cell_type": "code",
   "execution_count": 142,
   "id": "781fb955-3c94-4a68-afa8-c11fc1b244fb",
   "metadata": {
    "tags": []
   },
   "outputs": [
    {
     "data": {
      "text/html": [
       "<div>\n",
       "<style scoped>\n",
       "    .dataframe tbody tr th:only-of-type {\n",
       "        vertical-align: middle;\n",
       "    }\n",
       "\n",
       "    .dataframe tbody tr th {\n",
       "        vertical-align: top;\n",
       "    }\n",
       "\n",
       "    .dataframe thead th {\n",
       "        text-align: right;\n",
       "    }\n",
       "</style>\n",
       "<table border=\"1\" class=\"dataframe\">\n",
       "  <thead>\n",
       "    <tr style=\"text-align: right;\">\n",
       "      <th></th>\n",
       "      <th>customer_state</th>\n",
       "      <th>customer_count</th>\n",
       "      <th>avg_delivery_time</th>\n",
       "      <th>avg_freight</th>\n",
       "      <th>max_freight</th>\n",
       "      <th>avg_review_score</th>\n",
       "    </tr>\n",
       "  </thead>\n",
       "  <tbody>\n",
       "    <tr>\n",
       "      <th>0</th>\n",
       "      <td>SP</td>\n",
       "      <td>40501</td>\n",
       "      <td>8.264783</td>\n",
       "      <td>15.111222</td>\n",
       "      <td>339.59</td>\n",
       "      <td>4.164801</td>\n",
       "    </tr>\n",
       "    <tr>\n",
       "      <th>1</th>\n",
       "      <td>RJ</td>\n",
       "      <td>12350</td>\n",
       "      <td>14.697694</td>\n",
       "      <td>20.903872</td>\n",
       "      <td>207.78</td>\n",
       "      <td>3.851026</td>\n",
       "    </tr>\n",
       "    <tr>\n",
       "      <th>2</th>\n",
       "      <td>MG</td>\n",
       "      <td>11354</td>\n",
       "      <td>11.516506</td>\n",
       "      <td>20.609331</td>\n",
       "      <td>322.10</td>\n",
       "      <td>4.106887</td>\n",
       "    </tr>\n",
       "    <tr>\n",
       "      <th>3</th>\n",
       "      <td>RS</td>\n",
       "      <td>5345</td>\n",
       "      <td>14.719508</td>\n",
       "      <td>21.586900</td>\n",
       "      <td>254.55</td>\n",
       "      <td>4.087983</td>\n",
       "    </tr>\n",
       "    <tr>\n",
       "      <th>4</th>\n",
       "      <td>PR</td>\n",
       "      <td>4923</td>\n",
       "      <td>11.489688</td>\n",
       "      <td>20.483659</td>\n",
       "      <td>375.28</td>\n",
       "      <td>4.134144</td>\n",
       "    </tr>\n",
       "  </tbody>\n",
       "</table>\n",
       "</div>"
      ],
      "text/plain": [
       "  customer_state  customer_count  avg_delivery_time  avg_freight  max_freight  \\\n",
       "0             SP           40501           8.264783    15.111222       339.59   \n",
       "1             RJ           12350          14.697694    20.903872       207.78   \n",
       "2             MG           11354          11.516506    20.609331       322.10   \n",
       "3             RS            5345          14.719508    21.586900       254.55   \n",
       "4             PR            4923          11.489688    20.483659       375.28   \n",
       "\n",
       "   avg_review_score  \n",
       "0          4.164801  \n",
       "1          3.851026  \n",
       "2          4.106887  \n",
       "3          4.087983  \n",
       "4          4.134144  "
      ]
     },
     "execution_count": 142,
     "metadata": {},
     "output_type": "execute_result"
    }
   ],
   "source": [
    "query1 = \"\"\"SELECT \n",
    "    c.customer_state, \n",
    "    COUNT(DISTINCT o.customer_id) as customer_count,\n",
    "    AVG(date_diff('day', o.order_purchase_timestamp, o.order_delivered_customer_date)) as avg_delivery_time,\n",
    "    AVG(oi.freight_value) as avg_freight, \n",
    "    MAX(oi.freight_value) as max_freight, \n",
    "    AVG(r.review_score) as avg_review_score\n",
    "FROM ads_508_team_5.orders_table o \n",
    "JOIN ads_508_team_5.customers_table c ON o.customer_id = c.customer_id\n",
    "JOIN ads_508_team_5.order_items_table oi ON o.order_id = oi.order_id\n",
    "JOIN ads_508_team_5.order_reviews_table r ON o.order_id = r.order_id\n",
    "WHERE o.order_status = 'delivered'\n",
    "GROUP BY c.customer_state\n",
    "ORDER BY customer_count DESC;\n",
    "\"\"\"\n",
    "df = pd.read_sql(query1,conn) \n",
    "df.head()"
   ]
  },
  {
   "cell_type": "code",
   "execution_count": 147,
   "id": "6b4459d4-7c78-41c8-bc7e-6afd3fe73da1",
   "metadata": {
    "tags": []
   },
   "outputs": [
    {
     "data": {
      "image/png": "[encoded data removed]",
      "text/plain": [
       "<Figure size 720x432 with 1 Axes>"
      ]
     },
     "metadata": {
      "needs_background": "light"
     },
     "output_type": "display_data"
    }
   ],
   "source": [
    "# Creating the scatter plot\n",
    "plt.figure(figsize=(10, 6))\n",
    "sns.scatterplot(data=df, x='avg_delivery_time', y='avg_review_score', hue='customer_state', palette='flare', s=100)\n",
    "\n",
    "# Adding labels and title\n",
    "plt.xlabel('Average Delivery Time (days)')\n",
    "plt.ylabel('Average Review Score')\n",
    "plt.title('Average Delivery Time vs Average Review Score by State')\n",
    "plt.legend(title='State', bbox_to_anchor=(1.05, 1), loc='upper left')\n",
    "\n",
    "\n",
    "# Showing the plot\n",
    "plt.show()"
   ]
  },
  {
   "cell_type": "code",
   "execution_count": null,
   "id": "3dcbf0ca-8286-4d08-ac5d-5fd3b1f7e234",
   "metadata": {},
   "outputs": [],
   "source": []
  }
 ],
 "metadata": {
  "availableInstances": [
   {
    "_defaultOrder": 0,
    "_isFastLaunch": true,
    "category": "General purpose",
    "gpuNum": 0,
    "hideHardwareSpecs": false,
    "memoryGiB": 4,
    "name": "ml.t3.medium",
    "vcpuNum": 2
   },
   {
    "_defaultOrder": 1,
    "_isFastLaunch": false,
    "category": "General purpose",
    "gpuNum": 0,
    "hideHardwareSpecs": false,
    "memoryGiB": 8,
    "name": "ml.t3.large",
    "vcpuNum": 2
   },
   {
    "_defaultOrder": 2,
    "_isFastLaunch": false,
    "category": "General purpose",
    "gpuNum": 0,
    "hideHardwareSpecs": false,
    "memoryGiB": 16,
    "name": "ml.t3.xlarge",
    "vcpuNum": 4
   },
   {
    "_defaultOrder": 3,
    "_isFastLaunch": false,
    "category": "General purpose",
    "gpuNum": 0,
    "hideHardwareSpecs": false,
    "memoryGiB": 32,
    "name": "ml.t3.2xlarge",
    "vcpuNum": 8
   },
   {
    "_defaultOrder": 4,
    "_isFastLaunch": true,
    "category": "General purpose",
    "gpuNum": 0,
    "hideHardwareSpecs": false,
    "memoryGiB": 8,
    "name": "ml.m5.large",
    "vcpuNum": 2
   },
   {
    "_defaultOrder": 5,
    "_isFastLaunch": false,
    "category": "General purpose",
    "gpuNum": 0,
    "hideHardwareSpecs": false,
    "memoryGiB": 16,
    "name": "ml.m5.xlarge",
    "vcpuNum": 4
   },
   {
    "_defaultOrder": 6,
    "_isFastLaunch": false,
    "category": "General purpose",
    "gpuNum": 0,
    "hideHardwareSpecs": false,
    "memoryGiB": 32,
    "name": "ml.m5.2xlarge",
    "vcpuNum": 8
   },
   {
    "_defaultOrder": 7,
    "_isFastLaunch": false,
    "category": "General purpose",
    "gpuNum": 0,
    "hideHardwareSpecs": false,
    "memoryGiB": 64,
    "name": "ml.m5.4xlarge",
    "vcpuNum": 16
   },
   {
    "_defaultOrder": 8,
    "_isFastLaunch": false,
    "category": "General purpose",
    "gpuNum": 0,
    "hideHardwareSpecs": false,
    "memoryGiB": 128,
    "name": "ml.m5.8xlarge",
    "vcpuNum": 32
   },
   {
    "_defaultOrder": 9,
    "_isFastLaunch": false,
    "category": "General purpose",
    "gpuNum": 0,
    "hideHardwareSpecs": false,
    "memoryGiB": 192,
    "name": "ml.m5.12xlarge",
    "vcpuNum": 48
   },
   {
    "_defaultOrder": 10,
    "_isFastLaunch": false,
    "category": "General purpose",
    "gpuNum": 0,
    "hideHardwareSpecs": false,
    "memoryGiB": 256,
    "name": "ml.m5.16xlarge",
    "vcpuNum": 64
   },
   {
    "_defaultOrder": 11,
    "_isFastLaunch": false,
    "category": "General purpose",
    "gpuNum": 0,
    "hideHardwareSpecs": false,
    "memoryGiB": 384,
    "name": "ml.m5.24xlarge",
    "vcpuNum": 96
   },
   {
    "_defaultOrder": 12,
    "_isFastLaunch": false,
    "category": "General purpose",
    "gpuNum": 0,
    "hideHardwareSpecs": false,
    "memoryGiB": 8,
    "name": "ml.m5d.large",
    "vcpuNum": 2
   },
   {
    "_defaultOrder": 13,
    "_isFastLaunch": false,
    "category": "General purpose",
    "gpuNum": 0,
    "hideHardwareSpecs": false,
    "memoryGiB": 16,
    "name": "ml.m5d.xlarge",
    "vcpuNum": 4
   },
   {
    "_defaultOrder": 14,
    "_isFastLaunch": false,
    "category": "General purpose",
    "gpuNum": 0,
    "hideHardwareSpecs": false,
    "memoryGiB": 32,
    "name": "ml.m5d.2xlarge",
    "vcpuNum": 8
   },
   {
    "_defaultOrder": 15,
    "_isFastLaunch": false,
    "category": "General purpose",
    "gpuNum": 0,
    "hideHardwareSpecs": false,
    "memoryGiB": 64,
    "name": "ml.m5d.4xlarge",
    "vcpuNum": 16
   },
   {
    "_defaultOrder": 16,
    "_isFastLaunch": false,
    "category": "General purpose",
    "gpuNum": 0,
    "hideHardwareSpecs": false,
    "memoryGiB": 128,
    "name": "ml.m5d.8xlarge",
    "vcpuNum": 32
   },
   {
    "_defaultOrder": 17,
    "_isFastLaunch": false,
    "category": "General purpose",
    "gpuNum": 0,
    "hideHardwareSpecs": false,
    "memoryGiB": 192,
    "name": "ml.m5d.12xlarge",
    "vcpuNum": 48
   },
   {
    "_defaultOrder": 18,
    "_isFastLaunch": false,
    "category": "General purpose",
    "gpuNum": 0,
    "hideHardwareSpecs": false,
    "memoryGiB": 256,
    "name": "ml.m5d.16xlarge",
    "vcpuNum": 64
   },
   {
    "_defaultOrder": 19,
    "_isFastLaunch": false,
    "category": "General purpose",
    "gpuNum": 0,
    "hideHardwareSpecs": false,
    "memoryGiB": 384,
    "name": "ml.m5d.24xlarge",
    "vcpuNum": 96
   },
   {
    "_defaultOrder": 20,
    "_isFastLaunch": false,
    "category": "General purpose",
    "gpuNum": 0,
    "hideHardwareSpecs": true,
    "memoryGiB": 0,
    "name": "ml.geospatial.interactive",
    "supportedImageNames": [
     "sagemaker-geospatial-v1-0"
    ],
    "vcpuNum": 0
   },
   {
    "_defaultOrder": 21,
    "_isFastLaunch": true,
    "category": "Compute optimized",
    "gpuNum": 0,
    "hideHardwareSpecs": false,
    "memoryGiB": 4,
    "name": "ml.c5.large",
    "vcpuNum": 2
   },
   {
    "_defaultOrder": 22,
    "_isFastLaunch": false,
    "category": "Compute optimized",
    "gpuNum": 0,
    "hideHardwareSpecs": false,
    "memoryGiB": 8,
    "name": "ml.c5.xlarge",
    "vcpuNum": 4
   },
   {
    "_defaultOrder": 23,
    "_isFastLaunch": false,
    "category": "Compute optimized",
    "gpuNum": 0,
    "hideHardwareSpecs": false,
    "memoryGiB": 16,
    "name": "ml.c5.2xlarge",
    "vcpuNum": 8
   },
   {
    "_defaultOrder": 24,
    "_isFastLaunch": false,
    "category": "Compute optimized",
    "gpuNum": 0,
    "hideHardwareSpecs": false,
    "memoryGiB": 32,
    "name": "ml.c5.4xlarge",
    "vcpuNum": 16
   },
   {
    "_defaultOrder": 25,
    "_isFastLaunch": false,
    "category": "Compute optimized",
    "gpuNum": 0,
    "hideHardwareSpecs": false,
    "memoryGiB": 72,
    "name": "ml.c5.9xlarge",
    "vcpuNum": 36
   },
   {
    "_defaultOrder": 26,
    "_isFastLaunch": false,
    "category": "Compute optimized",
    "gpuNum": 0,
    "hideHardwareSpecs": false,
    "memoryGiB": 96,
    "name": "ml.c5.12xlarge",
    "vcpuNum": 48
   },
   {
    "_defaultOrder": 27,
    "_isFastLaunch": false,
    "category": "Compute optimized",
    "gpuNum": 0,
    "hideHardwareSpecs": false,
    "memoryGiB": 144,
    "name": "ml.c5.18xlarge",
    "vcpuNum": 72
   },
   {
    "_defaultOrder": 28,
    "_isFastLaunch": false,
    "category": "Compute optimized",
    "gpuNum": 0,
    "hideHardwareSpecs": false,
    "memoryGiB": 192,
    "name": "ml.c5.24xlarge",
    "vcpuNum": 96
   },
   {
    "_defaultOrder": 29,
    "_isFastLaunch": true,
    "category": "Accelerated computing",
    "gpuNum": 1,
    "hideHardwareSpecs": false,
    "memoryGiB": 16,
    "name": "ml.g4dn.xlarge",
    "vcpuNum": 4
   },
   {
    "_defaultOrder": 30,
    "_isFastLaunch": false,
    "category": "Accelerated computing",
    "gpuNum": 1,
    "hideHardwareSpecs": false,
    "memoryGiB": 32,
    "name": "ml.g4dn.2xlarge",
    "vcpuNum": 8
   },
   {
    "_defaultOrder": 31,
    "_isFastLaunch": false,
    "category": "Accelerated computing",
    "gpuNum": 1,
    "hideHardwareSpecs": false,
    "memoryGiB": 64,
    "name": "ml.g4dn.4xlarge",
    "vcpuNum": 16
   },
   {
    "_defaultOrder": 32,
    "_isFastLaunch": false,
    "category": "Accelerated computing",
    "gpuNum": 1,
    "hideHardwareSpecs": false,
    "memoryGiB": 128,
    "name": "ml.g4dn.8xlarge",
    "vcpuNum": 32
   },
   {
    "_defaultOrder": 33,
    "_isFastLaunch": false,
    "category": "Accelerated computing",
    "gpuNum": 4,
    "hideHardwareSpecs": false,
    "memoryGiB": 192,
    "name": "ml.g4dn.12xlarge",
    "vcpuNum": 48
   },
   {
    "_defaultOrder": 34,
    "_isFastLaunch": false,
    "category": "Accelerated computing",
    "gpuNum": 1,
    "hideHardwareSpecs": false,
    "memoryGiB": 256,
    "name": "ml.g4dn.16xlarge",
    "vcpuNum": 64
   },
   {
    "_defaultOrder": 35,
    "_isFastLaunch": false,
    "category": "Accelerated computing",
    "gpuNum": 1,
    "hideHardwareSpecs": false,
    "memoryGiB": 61,
    "name": "ml.p3.2xlarge",
    "vcpuNum": 8
   },
   {
    "_defaultOrder": 36,
    "_isFastLaunch": false,
    "category": "Accelerated computing",
    "gpuNum": 4,
    "hideHardwareSpecs": false,
    "memoryGiB": 244,
    "name": "ml.p3.8xlarge",
    "vcpuNum": 32
   },
   {
    "_defaultOrder": 37,
    "_isFastLaunch": false,
    "category": "Accelerated computing",
    "gpuNum": 8,
    "hideHardwareSpecs": false,
    "memoryGiB": 488,
    "name": "ml.p3.16xlarge",
    "vcpuNum": 64
   },
   {
    "_defaultOrder": 38,
    "_isFastLaunch": false,
    "category": "Accelerated computing",
    "gpuNum": 8,
    "hideHardwareSpecs": false,
    "memoryGiB": 768,
    "name": "ml.p3dn.24xlarge",
    "vcpuNum": 96
   },
   {
    "_defaultOrder": 39,
    "_isFastLaunch": false,
    "category": "Memory Optimized",
    "gpuNum": 0,
    "hideHardwareSpecs": false,
    "memoryGiB": 16,
    "name": "ml.r5.large",
    "vcpuNum": 2
   },
   {
    "_defaultOrder": 40,
    "_isFastLaunch": false,
    "category": "Memory Optimized",
    "gpuNum": 0,
    "hideHardwareSpecs": false,
    "memoryGiB": 32,
    "name": "ml.r5.xlarge",
    "vcpuNum": 4
   },
   {
    "_defaultOrder": 41,
    "_isFastLaunch": false,
    "category": "Memory Optimized",
    "gpuNum": 0,
    "hideHardwareSpecs": false,
    "memoryGiB": 64,
    "name": "ml.r5.2xlarge",
    "vcpuNum": 8
   },
   {
    "_defaultOrder": 42,
    "_isFastLaunch": false,
    "category": "Memory Optimized",
    "gpuNum": 0,
    "hideHardwareSpecs": false,
    "memoryGiB": 128,
    "name": "ml.r5.4xlarge",
    "vcpuNum": 16
   },
   {
    "_defaultOrder": 43,
    "_isFastLaunch": false,
    "category": "Memory Optimized",
    "gpuNum": 0,
    "hideHardwareSpecs": false,
    "memoryGiB": 256,
    "name": "ml.r5.8xlarge",
    "vcpuNum": 32
   },
   {
    "_defaultOrder": 44,
    "_isFastLaunch": false,
    "category": "Memory Optimized",
    "gpuNum": 0,
    "hideHardwareSpecs": false,
    "memoryGiB": 384,
    "name": "ml.r5.12xlarge",
    "vcpuNum": 48
   },
   {
    "_defaultOrder": 45,
    "_isFastLaunch": false,
    "category": "Memory Optimized",
    "gpuNum": 0,
    "hideHardwareSpecs": false,
    "memoryGiB": 512,
    "name": "ml.r5.16xlarge",
    "vcpuNum": 64
   },
   {
    "_defaultOrder": 46,
    "_isFastLaunch": false,
    "category": "Memory Optimized",
    "gpuNum": 0,
    "hideHardwareSpecs": false,
    "memoryGiB": 768,
    "name": "ml.r5.24xlarge",
    "vcpuNum": 96
   },
   {
    "_defaultOrder": 47,
    "_isFastLaunch": false,
    "category": "Accelerated computing",
    "gpuNum": 1,
    "hideHardwareSpecs": false,
    "memoryGiB": 16,
    "name": "ml.g5.xlarge",
    "vcpuNum": 4
   },
   {
    "_defaultOrder": 48,
    "_isFastLaunch": false,
    "category": "Accelerated computing",
    "gpuNum": 1,
    "hideHardwareSpecs": false,
    "memoryGiB": 32,
    "name": "ml.g5.2xlarge",
    "vcpuNum": 8
   },
   {
    "_defaultOrder": 49,
    "_isFastLaunch": false,
    "category": "Accelerated computing",
    "gpuNum": 1,
    "hideHardwareSpecs": false,
    "memoryGiB": 64,
    "name": "ml.g5.4xlarge",
    "vcpuNum": 16
   },
   {
    "_defaultOrder": 50,
    "_isFastLaunch": false,
    "category": "Accelerated computing",
    "gpuNum": 1,
    "hideHardwareSpecs": false,
    "memoryGiB": 128,
    "name": "ml.g5.8xlarge",
    "vcpuNum": 32
   },
   {
    "_defaultOrder": 51,
    "_isFastLaunch": false,
    "category": "Accelerated computing",
    "gpuNum": 1,
    "hideHardwareSpecs": false,
    "memoryGiB": 256,
    "name": "ml.g5.16xlarge",
    "vcpuNum": 64
   },
   {
    "_defaultOrder": 52,
    "_isFastLaunch": false,
    "category": "Accelerated computing",
    "gpuNum": 4,
    "hideHardwareSpecs": false,
    "memoryGiB": 192,
    "name": "ml.g5.12xlarge",
    "vcpuNum": 48
   },
   {
    "_defaultOrder": 53,
    "_isFastLaunch": false,
    "category": "Accelerated computing",
    "gpuNum": 4,
    "hideHardwareSpecs": false,
    "memoryGiB": 384,
    "name": "ml.g5.24xlarge",
    "vcpuNum": 96
   },
   {
    "_defaultOrder": 54,
    "_isFastLaunch": false,
    "category": "Accelerated computing",
    "gpuNum": 8,
    "hideHardwareSpecs": false,
    "memoryGiB": 768,
    "name": "ml.g5.48xlarge",
    "vcpuNum": 192
   },
   {
    "_defaultOrder": 55,
    "_isFastLaunch": false,
    "category": "Accelerated computing",
    "gpuNum": 8,
    "hideHardwareSpecs": false,
    "memoryGiB": 1152,
    "name": "ml.p4d.24xlarge",
    "vcpuNum": 96
   },
   {
    "_defaultOrder": 56,
    "_isFastLaunch": false,
    "category": "Accelerated computing",
    "gpuNum": 8,
    "hideHardwareSpecs": false,
    "memoryGiB": 1152,
    "name": "ml.p4de.24xlarge",
    "vcpuNum": 96
   },
   {
    "_defaultOrder": 57,
    "_isFastLaunch": false,
    "category": "Accelerated computing",
    "gpuNum": 0,
    "hideHardwareSpecs": false,
    "memoryGiB": 32,
    "name": "ml.trn1.2xlarge",
    "vcpuNum": 8
   },
   {
    "_defaultOrder": 58,
    "_isFastLaunch": false,
    "category": "Accelerated computing",
    "gpuNum": 0,
    "hideHardwareSpecs": false,
    "memoryGiB": 512,
    "name": "ml.trn1.32xlarge",
    "vcpuNum": 128
   },
   {
    "_defaultOrder": 59,
    "_isFastLaunch": false,
    "category": "Accelerated computing",
    "gpuNum": 0,
    "hideHardwareSpecs": false,
    "memoryGiB": 512,
    "name": "ml.trn1n.32xlarge",
    "vcpuNum": 128
   }
  ],
  "instance_type": "ml.t3.medium",
  "kernelspec": {
   "display_name": "Python 3 (Data Science 2.0)",
   "language": "python",
   "name": "python3__SAGEMAKER_INTERNAL__arn:aws:sagemaker:us-east-1:081325390199:image/sagemaker-data-science-38"
  },
  "language_info": {
   "codemirror_mode": {
    "name": "ipython",
    "version": 3
   },
   "file_extension": ".py",
   "mimetype": "text/x-python",
   "name": "python",
   "nbconvert_exporter": "python",
   "pygments_lexer": "ipython3",
   "version": "3.8.13"
  }
 },
 "nbformat": 4,
 "nbformat_minor": 5
}
