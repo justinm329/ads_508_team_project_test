{
 "cells": [
  {
   "cell_type": "code",
   "execution_count": null,
   "id": "2b87fa44-cc88-4d2f-b050-8bbea3a13735",
   "metadata": {
    "tags": []
   },
   "outputs": [],
   "source": [
    "import sagemaker\n",
    "import boto3\n",
    "\n",
    "sagemaker_session = sagemaker.Session()\n",
    "role = sagemaker.get_execution_role()\n",
    "bucket = sagemaker_session.default_bucket()\n",
    "region = boto3.Session().region_name"
   ]
  },
  {
   "cell_type": "markdown",
   "id": "8f9996a3-dd1b-44d1-9e5e-a8c6cbc92b79",
   "metadata": {},
   "source": [
    "## Download the csv files from S3 and store in data folder"
   ]
  },
  {
   "cell_type": "code",
   "execution_count": 3,
   "id": "f72be04f-44c7-49b3-af50-f3f68189730b",
   "metadata": {
    "tags": []
   },
   "outputs": [
    {
     "name": "stdout",
     "output_type": "stream",
     "text": [
      "download: s3://raw-olist-ecommerce/olist_data/order_payments_dataset.csv to Data/order_payments_dataset.csv\n",
      "download: s3://raw-olist-ecommerce/olist_data/product_category_name_translation.csv to Data/product_category_name_translation.csv\n",
      "download: s3://raw-olist-ecommerce/olist_data/customers_dataset.csv to Data/customers_dataset.csv\n",
      "download: s3://raw-olist-ecommerce/olist_data/sellers_dataset.csv to Data/sellers_dataset.csv\n",
      "download: s3://raw-olist-ecommerce/olist_data/order_reviews_dataset.csv to Data/order_reviews_dataset.csv\n",
      "download: s3://raw-olist-ecommerce/olist_data/products_dataset.csv to Data/products_dataset.csv\n",
      "download: s3://raw-olist-ecommerce/olist_data/order_items_dataset.csv to Data/order_items_dataset.csv\n",
      "download: s3://raw-olist-ecommerce/olist_data/geolocation_dataset.csv to Data/geolocation_dataset.csv\n",
      "download: s3://raw-olist-ecommerce/olist_data/orders_dataset.csv to Data/orders_dataset.csv\n"
     ]
    }
   ],
   "source": [
    "!aws s3 cp s3://raw-olist-ecommerce/olist_data/ ./Data/ --recursive --exclude \"*\" --include \"*.csv\""
   ]
  },
  {
   "cell_type": "markdown",
   "id": "67c9c334-6a15-4cb0-b545-73cb4212026d",
   "metadata": {
    "tags": []
   },
   "source": [
    "## Setup connection to Athena DB"
   ]
  },
  {
   "cell_type": "code",
   "execution_count": 9,
   "id": "169fe13f-7368-4111-904e-41e370fe3b8a",
   "metadata": {
    "tags": []
   },
   "outputs": [],
   "source": [
    "# !pip install --disable-pip-version-check -q PyAthena==2.1.0"
   ]
  },
  {
   "cell_type": "code",
   "execution_count": 3,
   "id": "f872aeb2-e3ec-474e-8744-4bd484934643",
   "metadata": {
    "tags": []
   },
   "outputs": [],
   "source": [
    "import pandas as pd\n",
    "from pyathena import connect"
   ]
  },
  {
   "cell_type": "code",
   "execution_count": 4,
   "id": "5b4bee9e-5882-49e4-a71b-54f5b9f921e5",
   "metadata": {
    "tags": []
   },
   "outputs": [],
   "source": [
    "# set check for creating athena DB\n",
    "create_athena_db_passed = False\n",
    "# set db name\n",
    "database_name = \"ads_508_team_5\""
   ]
  },
  {
   "cell_type": "code",
   "execution_count": 7,
   "id": "0587e7be-27a6-4025-ab80-39058516c73b",
   "metadata": {
    "tags": []
   },
   "outputs": [],
   "source": [
    "conn = connect(region_name=region, s3_staging_dir=s3_staging_dir)"
   ]
  },
  {
   "cell_type": "code",
   "execution_count": 6,
   "id": "588bd762-6392-4dbb-a63c-ffaba4c5b7a8",
   "metadata": {
    "tags": []
   },
   "outputs": [],
   "source": [
    "# Set S3 staging directory -- this is a temporary directory used for Athena queries\n",
    "s3_staging_dir = \"s3://{0}/athena/staging\".format(bucket)"
   ]
  },
  {
   "cell_type": "code",
   "execution_count": 7,
   "id": "9c538d65-5665-4bc9-bb2e-a8d6a9fbedff",
   "metadata": {
    "tags": []
   },
   "outputs": [
    {
     "name": "stdout",
     "output_type": "stream",
     "text": [
      "CREATE DATABASE IF NOT EXISTS ads_508_team_5\n"
     ]
    }
   ],
   "source": [
    "statement = \"CREATE DATABASE IF NOT EXISTS {}\".format(database_name)\n",
    "print(statement)"
   ]
  },
  {
   "cell_type": "code",
   "execution_count": 8,
   "id": "c678fae8-9bf2-40c4-a67b-285a365f3163",
   "metadata": {
    "tags": []
   },
   "outputs": [
    {
     "data": {
      "text/html": [
       "<div>\n",
       "<style scoped>\n",
       "    .dataframe tbody tr th:only-of-type {\n",
       "        vertical-align: middle;\n",
       "    }\n",
       "\n",
       "    .dataframe tbody tr th {\n",
       "        vertical-align: top;\n",
       "    }\n",
       "\n",
       "    .dataframe thead th {\n",
       "        text-align: right;\n",
       "    }\n",
       "</style>\n",
       "<table border=\"1\" class=\"dataframe\">\n",
       "  <thead>\n",
       "    <tr style=\"text-align: right;\">\n",
       "      <th></th>\n",
       "    </tr>\n",
       "  </thead>\n",
       "  <tbody>\n",
       "  </tbody>\n",
       "</table>\n",
       "</div>"
      ],
      "text/plain": [
       "Empty DataFrame\n",
       "Columns: []\n",
       "Index: []"
      ]
     },
     "execution_count": 8,
     "metadata": {},
     "output_type": "execute_result"
    }
   ],
   "source": [
    "pd.read_sql(statement, conn)"
   ]
  },
  {
   "cell_type": "markdown",
   "id": "8d60f49b-49ef-460f-b6d0-9f096ae2e7c9",
   "metadata": {},
   "source": [
    "## Verify The Database Has Been Created Succesfully"
   ]
  },
  {
   "cell_type": "code",
   "execution_count": 9,
   "id": "2d7654fa-5c8f-4997-879b-2aa69c245465",
   "metadata": {
    "tags": []
   },
   "outputs": [
    {
     "data": {
      "text/html": [
       "<div>\n",
       "<style scoped>\n",
       "    .dataframe tbody tr th:only-of-type {\n",
       "        vertical-align: middle;\n",
       "    }\n",
       "\n",
       "    .dataframe tbody tr th {\n",
       "        vertical-align: top;\n",
       "    }\n",
       "\n",
       "    .dataframe thead th {\n",
       "        text-align: right;\n",
       "    }\n",
       "</style>\n",
       "<table border=\"1\" class=\"dataframe\">\n",
       "  <thead>\n",
       "    <tr style=\"text-align: right;\">\n",
       "      <th></th>\n",
       "      <th>database_name</th>\n",
       "    </tr>\n",
       "  </thead>\n",
       "  <tbody>\n",
       "    <tr>\n",
       "      <th>0</th>\n",
       "      <td>ads_508_team_5</td>\n",
       "    </tr>\n",
       "    <tr>\n",
       "      <th>1</th>\n",
       "      <td>default</td>\n",
       "    </tr>\n",
       "  </tbody>\n",
       "</table>\n",
       "</div>"
      ],
      "text/plain": [
       "    database_name\n",
       "0  ads_508_team_5\n",
       "1         default"
      ]
     },
     "execution_count": 9,
     "metadata": {},
     "output_type": "execute_result"
    }
   ],
   "source": [
    "statement = \"SHOW DATABASES\"\n",
    "\n",
    "db_show = pd.read_sql(statement, conn)\n",
    "db_show.head(5)"
   ]
  },
  {
   "cell_type": "code",
   "execution_count": 10,
   "id": "30068611-8510-461f-974e-0d8c216ef724",
   "metadata": {
    "tags": []
   },
   "outputs": [],
   "source": [
    "if database_name in db_show.values:\n",
    "    ingest_create_athena_db_passed = True"
   ]
  },
  {
   "cell_type": "code",
   "execution_count": 11,
   "id": "0c9b4eb8-90b9-4b7a-aa8e-233c1bea88dd",
   "metadata": {
    "tags": []
   },
   "outputs": [
    {
     "name": "stdout",
     "output_type": "stream",
     "text": [
      "Stored 'ingest_create_athena_db_passed' (bool)\n"
     ]
    }
   ],
   "source": [
    "%store ingest_create_athena_db_passed"
   ]
  },
  {
   "cell_type": "markdown",
   "id": "2d412367-cfd9-4988-ae38-1dc7b5bd815a",
   "metadata": {},
   "source": [
    "## Create tables in Athena DB Dynamically"
   ]
  },
  {
   "cell_type": "markdown",
   "id": "2f1a1ee9-f07b-45b3-bd7c-70f2e85b7f36",
   "metadata": {},
   "source": [
    "* We will be using the CSV files in the data folder and storing them as table in Athena, so we can then query them in the Refined layer notebook via SQL"
   ]
  },
  {
   "cell_type": "code",
   "execution_count": 19,
   "id": "e4253653-d1fc-4a62-9fb8-203c8c831110",
   "metadata": {
    "tags": []
   },
   "outputs": [],
   "source": [
    "# create a Boto3 client for Athena\n",
    "athena_client = boto3.client(\"athena\", region_name = region)"
   ]
  },
  {
   "cell_type": "code",
   "execution_count": 10,
   "id": "585a23ac-88aa-4584-8b86-359c276eef62",
   "metadata": {
    "tags": []
   },
   "outputs": [],
   "source": [
    "# Bring down the database name again \n",
    "database_name = \"ads_508_team_5\"\n",
    "# create my S3 path to the whole bucket\n",
    "s3_path_olist = \"s3://raw-olist-ecommerce/olist_data/\""
   ]
  },
  {
   "cell_type": "code",
   "execution_count": null,
   "id": "d36f57d8-adfc-48e5-9810-8ac5dd537935",
   "metadata": {
    "tags": []
   },
   "outputs": [],
   "source": [
    "customer_table_statement = \"\"\"CREATE EXTERNAL TABLE IF NOT EXISTS {}.customers_table(\n",
    "    customer_id string,\n",
    "          customer_unique_id string,\n",
    "          customer_zip_code_prefix int,\n",
    "          customer_city string,\n",
    "          customer_state string\n",
    "          )\n",
    "          ROW FORMAT DELIMITED\n",
    "          FIELDS TERMINATED BY ','\n",
    "          STORED AS TEXTFILE\n",
    "          LOCATION 's3://raw-olist-ecommerce/customers_data/'\n",
    "          TBLPROPERTIES (\"skip.header.line.count\"=\"1\");\"\"\".format(database_name)\n",
    "\n",
    "geolocation_table_statement = \"\"\"CREATE EXTERNAL TABLE IF NOT EXISTS {}.geolocation_table(\n",
    "          geolocation_zip_code_prefix int,\n",
    "          geolocation_lat double,\n",
    "          geolocation_lng double,\n",
    "          geolocation_city string,\n",
    "          geolocation_state string\n",
    "          )\n",
    "          ROW FORMAT DELIMITED\n",
    "          FIELDS TERMINATED BY ','\n",
    "          STORED AS TEXTFILE\n",
    "          LOCATION 's3://raw-olist-ecommerce/geolocation_dataset/'\n",
    "          TBLPROPERTIES (\"skip.header.line.count\"=\"1\");\"\"\".format(database_name)\n",
    "\n",
    "order_items_table_statement = \"\"\"CREATE EXTERNAL TABLE IF NOT EXISTS {}.order_items_table(\n",
    "          order_id string,\n",
    "          order_item_id int,\n",
    "          product_id string,\n",
    "          seller_id string,\n",
    "          shipping_limit_date timestamp,\n",
    "          price double,\n",
    "          freight_value double\n",
    "          )\n",
    "          ROW FORMAT DELIMITED\n",
    "          FIELDS TERMINATED BY ','\n",
    "          STORED AS TEXTFILE\n",
    "          LOCATION 's3://raw-olist-ecommerce/order_items_data/'\n",
    "          TBLPROPERTIES (\"skip.header.line.count\"=\"1\");\"\"\".format(database_name)\n",
    "\n",
    "order_reviews_table_statement = \"\"\"CREATE EXTERNAL TABLE IF NOT EXISTS {}.order_reviews_table(\n",
    "          review_id string,\n",
    "          order_id string,\n",
    "          review_score int,\n",
    "          review_comment_message string,\n",
    "          review_creation_date timestamp,\n",
    "          review_answer_timestamp timestamp\n",
    "          )\n",
    "          ROW FORMAT DELIMITED\n",
    "          FIELDS TERMINATED BY ','\n",
    "          STORED AS TEXTFILE\n",
    "          LOCATION 's3://raw-olist-ecommerce/order_reviews_data/'\n",
    "          TBLPROPERTIES (\"skip.header.line.count\"=\"1\");\"\"\".format(database_name)\n",
    "\n",
    "orders_table_statement = \"\"\"CREATE EXTERNAL TABLE IF NOT EXISTS {}.orders_table(\n",
    "          order_id string,\n",
    "          customer_id string,\n",
    "          order_status string,\n",
    "          order_purchase_timestamp timestamp,\n",
    "          order_approved_at timestamp,\n",
    "          order_delivered_carrier_date timestamp,\n",
    "          order_delivered_customer_date timestamp,\n",
    "          order_estimated_delivery_date timestamp\n",
    "          )\n",
    "          ROW FORMAT DELIMITED\n",
    "          FIELDS TERMINATED BY ','\n",
    "          STORED AS TEXTFILE\n",
    "          LOCATION 's3://raw-olist-ecommerce/orders_data/'\n",
    "          TBLPROPERTIES (\"skip.header.line.count\"=\"1\");\"\"\".format(database_name)\n",
    "\n",
    "order_payments_statement = \"\"\"CREATE EXTERNAL TABLE IF NOT EXISTS {}.order_payments_table(\n",
    "          order_id string,\n",
    "          payment_sequential int,\n",
    "          payment_type string,\n",
    "          payment_installments int,\n",
    "          payment_value double\n",
    "          )\n",
    "          ROW FORMAT DELIMITED\n",
    "          FIELDS TERMINATED BY ','\n",
    "          STORED AS TEXTFILE\n",
    "          LOCATION 's3://raw-olist-ecommerce/prder_payments_data/'\n",
    "          TBLPROPERTIES (\"skip.header.line.count\"=\"1\");\"\"\".format(database_name)\n",
    "\n",
    "\n",
    "product_category_statement = \"\"\"CREATE EXTERNAL TABLE IF NOT EXISTS {}.product_category_table(\n",
    "          product_category_name string,\n",
    "          product_category_name_english string\n",
    "          )\n",
    "          ROW FORMAT DELIMITED\n",
    "          FIELDS TERMINATED BY ','\n",
    "          STORED AS TEXTFILE\n",
    "          LOCATION 's3://raw-olist-ecommerce/product_cat_name_data/'\n",
    "          TBLPROPERTIES (\"skip.header.line.count\"=\"1\");\"\"\".format(database_name)\n",
    "\n",
    "products_statement = \"\"\"CREATE EXTERNAL TABLE IF NOT EXISTS {}.product_table(\n",
    "          product_category_name string,\n",
    "          product_category_name_english string\n",
    "          )\n",
    "          ROW FORMAT DELIMITED\n",
    "          FIELDS TERMINATED BY ','\n",
    "          STORED AS TEXTFILE\n",
    "          LOCATION 's3://raw-olist-ecommerce/products_data/'\n",
    "          TBLPROPERTIES (\"skip.header.line.count\"=\"1\");\"\"\".format(database_name)\n",
    "\n",
    "sellers_statement = \"\"\"CREATE EXTERNAL TABLE IF NOT EXISTS {}.sellers_table(\n",
    "          seller_id string,\n",
    "          seller_zip_code_prefix int,\n",
    "          seller_city string,\n",
    "          seller_state string\n",
    "          )\n",
    "          ROW FORMAT DELIMITED\n",
    "          FIELDS TERMINATED BY ','\n",
    "          STORED AS TEXTFILE\n",
    "          LOCATION 's3://raw-olist-ecommerce/sellers_data/'\n",
    "          TBLPROPERTIES (\"skip.header.line.count\"=\"1\");\"\"\".format(database_name)"
   ]
  },
  {
   "cell_type": "code",
   "execution_count": null,
   "id": "0f5550f2-6822-49c2-ba70-76f57c63e68f",
   "metadata": {
    "tags": []
   },
   "outputs": [],
   "source": [
    "write_cust_table = pd.read_sql(customer_table_statement, conn)\n",
    "write_geo_table = pd.read_sql(geolocation_table_statement, conn)\n",
    "write_order_items_table = pd.read_sql(order_items_table_statement, conn)\n",
    "write_order_reviews_table = pd.read_sql(order_reviews_table_statement, conn)\n",
    "write_orders_table = pd.read_sql(orders_table_statement, conn)\n",
    "write_order_payments_table = pd.read_sql(order_payments_statement, conn)\n",
    "write_prod_cat_table = pd.read_sql(product_category_statement, conn)\n",
    "write_product_table = pd.read_sql(products_statement, conn)\n",
    "write_seller_table = pd.read_sql(sellers_statement, conn)"
   ]
  },
  {
   "cell_type": "code",
   "execution_count": 26,
   "id": "b65a982c-d012-446d-9356-eb763eb049f2",
   "metadata": {
    "tags": []
   },
   "outputs": [],
   "source": [
    "# Generate and print the DDL for each table\n",
    "for table, columns in schemas.items():\n",
    "    # add in teh .csv to the file_name or dataset name\n",
    "    file_name = table + \".csv\"\n",
    "    # Create the full DDL statement for this table\n",
    "    ddl_statement = base_ddl.format(\n",
    "        database=database_name,\n",
    "        table=table,\n",
    "        columns=columns.strip(),  # Using .strip() to remove any leading/trailing whitespace\n",
    "        s3_path=s3_path_olist\n",
    "    )\n",
    "        # Output the DDL statement\n",
    "    response = athena_client.start_query_execution(\n",
    "            QueryString=ddl_statement,\n",
    "            QueryExecutionContext={\n",
    "                'Database': database_name\n",
    "            },\n",
    "            ResultConfiguration={\n",
    "                'OutputLocation': s3_path_olist,\n",
    "            }\n",
    "        )\n",
    "\n",
    "        # Output the response from Athena (includes the query execution ID)\n",
    "    # print(response)\n",
    "    # print(ddl_statement)\n",
    "    # print(\"\\n---\\n\")"
   ]
  },
  {
   "cell_type": "code",
   "execution_count": 11,
   "id": "3fec72b7-a27c-4213-b73a-6b537f79e6fb",
   "metadata": {
    "tags": []
   },
   "outputs": [
    {
     "data": {
      "text/html": [
       "<div>\n",
       "<style scoped>\n",
       "    .dataframe tbody tr th:only-of-type {\n",
       "        vertical-align: middle;\n",
       "    }\n",
       "\n",
       "    .dataframe tbody tr th {\n",
       "        vertical-align: top;\n",
       "    }\n",
       "\n",
       "    .dataframe thead th {\n",
       "        text-align: right;\n",
       "    }\n",
       "</style>\n",
       "<table border=\"1\" class=\"dataframe\">\n",
       "  <thead>\n",
       "    <tr style=\"text-align: right;\">\n",
       "      <th></th>\n",
       "      <th>tab_name</th>\n",
       "    </tr>\n",
       "  </thead>\n",
       "  <tbody>\n",
       "    <tr>\n",
       "      <th>0</th>\n",
       "      <td>customers_dataset</td>\n",
       "    </tr>\n",
       "    <tr>\n",
       "      <th>1</th>\n",
       "      <td>geolocation_dataset</td>\n",
       "    </tr>\n",
       "    <tr>\n",
       "      <th>2</th>\n",
       "      <td>order_items_dataset</td>\n",
       "    </tr>\n",
       "    <tr>\n",
       "      <th>3</th>\n",
       "      <td>order_payments_dataset</td>\n",
       "    </tr>\n",
       "    <tr>\n",
       "      <th>4</th>\n",
       "      <td>order_reviews_dataset</td>\n",
       "    </tr>\n",
       "    <tr>\n",
       "      <th>5</th>\n",
       "      <td>orders_dataset</td>\n",
       "    </tr>\n",
       "    <tr>\n",
       "      <th>6</th>\n",
       "      <td>product_category_name_translation</td>\n",
       "    </tr>\n",
       "    <tr>\n",
       "      <th>7</th>\n",
       "      <td>products_dataset</td>\n",
       "    </tr>\n",
       "    <tr>\n",
       "      <th>8</th>\n",
       "      <td>sellers_dataset</td>\n",
       "    </tr>\n",
       "  </tbody>\n",
       "</table>\n",
       "</div>"
      ],
      "text/plain": [
       "                            tab_name\n",
       "0                  customers_dataset\n",
       "1                geolocation_dataset\n",
       "2                order_items_dataset\n",
       "3             order_payments_dataset\n",
       "4              order_reviews_dataset\n",
       "5                     orders_dataset\n",
       "6  product_category_name_translation\n",
       "7                   products_dataset\n",
       "8                    sellers_dataset"
      ]
     },
     "execution_count": 11,
     "metadata": {},
     "output_type": "execute_result"
    }
   ],
   "source": [
    "## Check to see if the tables are listed\n",
    "tables_check = \"SHOW TABLES in {}\".format(database_name)\n",
    "tables_show = pd.read_sql(tables_check, conn)\n",
    "tables_show"
   ]
  },
  {
   "cell_type": "code",
   "execution_count": 12,
   "id": "5dc5fe9c-5d5c-421b-8294-0d08c98eb124",
   "metadata": {
    "tags": []
   },
   "outputs": [
    {
     "data": {
      "text/html": [
       "<div>\n",
       "<style scoped>\n",
       "    .dataframe tbody tr th:only-of-type {\n",
       "        vertical-align: middle;\n",
       "    }\n",
       "\n",
       "    .dataframe tbody tr th {\n",
       "        vertical-align: top;\n",
       "    }\n",
       "\n",
       "    .dataframe thead th {\n",
       "        text-align: right;\n",
       "    }\n",
       "</style>\n",
       "<table border=\"1\" class=\"dataframe\">\n",
       "  <thead>\n",
       "    <tr style=\"text-align: right;\">\n",
       "      <th></th>\n",
       "      <th>customer_id</th>\n",
       "      <th>customer_unique_id</th>\n",
       "      <th>customer_zip_code_prefix</th>\n",
       "      <th>customer_city</th>\n",
       "      <th>customer_state</th>\n",
       "    </tr>\n",
       "  </thead>\n",
       "  <tbody>\n",
       "    <tr>\n",
       "      <th>0</th>\n",
       "      <td>beleza_saude</td>\n",
       "      <td>health_beauty</td>\n",
       "      <td>None</td>\n",
       "      <td>None</td>\n",
       "      <td>None</td>\n",
       "    </tr>\n",
       "    <tr>\n",
       "      <th>1</th>\n",
       "      <td>informatica_acessorios</td>\n",
       "      <td>computers_accessories</td>\n",
       "      <td>None</td>\n",
       "      <td>None</td>\n",
       "      <td>None</td>\n",
       "    </tr>\n",
       "    <tr>\n",
       "      <th>2</th>\n",
       "      <td>automotivo</td>\n",
       "      <td>auto</td>\n",
       "      <td>None</td>\n",
       "      <td>None</td>\n",
       "      <td>None</td>\n",
       "    </tr>\n",
       "    <tr>\n",
       "      <th>3</th>\n",
       "      <td>cama_mesa_banho</td>\n",
       "      <td>bed_bath_table</td>\n",
       "      <td>None</td>\n",
       "      <td>None</td>\n",
       "      <td>None</td>\n",
       "    </tr>\n",
       "    <tr>\n",
       "      <th>4</th>\n",
       "      <td>moveis_decoracao</td>\n",
       "      <td>furniture_decor</td>\n",
       "      <td>None</td>\n",
       "      <td>None</td>\n",
       "      <td>None</td>\n",
       "    </tr>\n",
       "  </tbody>\n",
       "</table>\n",
       "</div>"
      ],
      "text/plain": [
       "              customer_id     customer_unique_id customer_zip_code_prefix  \\\n",
       "0            beleza_saude          health_beauty                     None   \n",
       "1  informatica_acessorios  computers_accessories                     None   \n",
       "2              automotivo                   auto                     None   \n",
       "3         cama_mesa_banho         bed_bath_table                     None   \n",
       "4        moveis_decoracao        furniture_decor                     None   \n",
       "\n",
       "  customer_city customer_state  \n",
       "0          None           None  \n",
       "1          None           None  \n",
       "2          None           None  \n",
       "3          None           None  \n",
       "4          None           None  "
      ]
     },
     "execution_count": 12,
     "metadata": {},
     "output_type": "execute_result"
    }
   ],
   "source": [
    "table_name = 'customers_dataset'\n",
    "query = \"SELECT * FROM {}.{} LIMIT 5\".format(database_name, table_name)\n",
    "tables_show = pd.read_sql(query, conn)\n",
    "tables_show"
   ]
  },
  {
   "cell_type": "code",
   "execution_count": 13,
   "id": "f41f33f0-582b-4b6b-9ba2-2e40e679011b",
   "metadata": {
    "tags": []
   },
   "outputs": [
    {
     "data": {
      "text/html": [
       "\n",
       "<p><b>Shutting down your kernel for this notebook to release resources.</b></p>\n",
       "<button class=\"sm-command-button\" data-commandlinker-command=\"kernelmenu:shutdown\" style=\"display:none;\">Shutdown Kernel</button>\n",
       "        \n",
       "<script>\n",
       "try {\n",
       "    els = document.getElementsByClassName(\"sm-command-button\");\n",
       "    els[0].click();\n",
       "}\n",
       "catch(err) {\n",
       "    // NoOp\n",
       "}    \n",
       "</script>\n"
      ],
      "text/plain": [
       "<IPython.core.display.HTML object>"
      ]
     },
     "metadata": {},
     "output_type": "display_data"
    }
   ],
   "source": [
    "%%html\n",
    "\n",
    "<p><b>Shutting down your kernel for this notebook to release resources.</b></p>\n",
    "<button class=\"sm-command-button\" data-commandlinker-command=\"kernelmenu:shutdown\" style=\"display:none;\">Shutdown Kernel</button>\n",
    "        \n",
    "<script>\n",
    "try {\n",
    "    els = document.getElementsByClassName(\"sm-command-button\");\n",
    "    els[0].click();\n",
    "}\n",
    "catch(err) {\n",
    "    // NoOp\n",
    "}    \n",
    "</script>"
   ]
  },
  {
   "cell_type": "code",
   "execution_count": null,
   "id": "492e98a1-c4a5-42a0-8276-d0fb7cbeb3a6",
   "metadata": {},
   "outputs": [],
   "source": [
    "%%javascript\n",
    "\n",
    "try {\n",
    "    Jupyter.notebook.save_checkpoint();\n",
    "    Jupyter.notebook.session.delete();\n",
    "}\n",
    "catch(err) {\n",
    "    // NoOp\n",
    "}"
   ]
  },
  {
   "cell_type": "code",
   "execution_count": null,
   "id": "a607fb81-103b-4dc7-b8d8-6c165e037e7f",
   "metadata": {},
   "outputs": [],
   "source": []
  }
 ],
 "metadata": {
  "availableInstances": [
   {
    "_defaultOrder": 0,
    "_isFastLaunch": true,
    "category": "General purpose",
    "gpuNum": 0,
    "hideHardwareSpecs": false,
    "memoryGiB": 4,
    "name": "ml.t3.medium",
    "vcpuNum": 2
   },
   {
    "_defaultOrder": 1,
    "_isFastLaunch": false,
    "category": "General purpose",
    "gpuNum": 0,
    "hideHardwareSpecs": false,
    "memoryGiB": 8,
    "name": "ml.t3.large",
    "vcpuNum": 2
   },
   {
    "_defaultOrder": 2,
    "_isFastLaunch": false,
    "category": "General purpose",
    "gpuNum": 0,
    "hideHardwareSpecs": false,
    "memoryGiB": 16,
    "name": "ml.t3.xlarge",
    "vcpuNum": 4
   },
   {
    "_defaultOrder": 3,
    "_isFastLaunch": false,
    "category": "General purpose",
    "gpuNum": 0,
    "hideHardwareSpecs": false,
    "memoryGiB": 32,
    "name": "ml.t3.2xlarge",
    "vcpuNum": 8
   },
   {
    "_defaultOrder": 4,
    "_isFastLaunch": true,
    "category": "General purpose",
    "gpuNum": 0,
    "hideHardwareSpecs": false,
    "memoryGiB": 8,
    "name": "ml.m5.large",
    "vcpuNum": 2
   },
   {
    "_defaultOrder": 5,
    "_isFastLaunch": false,
    "category": "General purpose",
    "gpuNum": 0,
    "hideHardwareSpecs": false,
    "memoryGiB": 16,
    "name": "ml.m5.xlarge",
    "vcpuNum": 4
   },
   {
    "_defaultOrder": 6,
    "_isFastLaunch": false,
    "category": "General purpose",
    "gpuNum": 0,
    "hideHardwareSpecs": false,
    "memoryGiB": 32,
    "name": "ml.m5.2xlarge",
    "vcpuNum": 8
   },
   {
    "_defaultOrder": 7,
    "_isFastLaunch": false,
    "category": "General purpose",
    "gpuNum": 0,
    "hideHardwareSpecs": false,
    "memoryGiB": 64,
    "name": "ml.m5.4xlarge",
    "vcpuNum": 16
   },
   {
    "_defaultOrder": 8,
    "_isFastLaunch": false,
    "category": "General purpose",
    "gpuNum": 0,
    "hideHardwareSpecs": false,
    "memoryGiB": 128,
    "name": "ml.m5.8xlarge",
    "vcpuNum": 32
   },
   {
    "_defaultOrder": 9,
    "_isFastLaunch": false,
    "category": "General purpose",
    "gpuNum": 0,
    "hideHardwareSpecs": false,
    "memoryGiB": 192,
    "name": "ml.m5.12xlarge",
    "vcpuNum": 48
   },
   {
    "_defaultOrder": 10,
    "_isFastLaunch": false,
    "category": "General purpose",
    "gpuNum": 0,
    "hideHardwareSpecs": false,
    "memoryGiB": 256,
    "name": "ml.m5.16xlarge",
    "vcpuNum": 64
   },
   {
    "_defaultOrder": 11,
    "_isFastLaunch": false,
    "category": "General purpose",
    "gpuNum": 0,
    "hideHardwareSpecs": false,
    "memoryGiB": 384,
    "name": "ml.m5.24xlarge",
    "vcpuNum": 96
   },
   {
    "_defaultOrder": 12,
    "_isFastLaunch": false,
    "category": "General purpose",
    "gpuNum": 0,
    "hideHardwareSpecs": false,
    "memoryGiB": 8,
    "name": "ml.m5d.large",
    "vcpuNum": 2
   },
   {
    "_defaultOrder": 13,
    "_isFastLaunch": false,
    "category": "General purpose",
    "gpuNum": 0,
    "hideHardwareSpecs": false,
    "memoryGiB": 16,
    "name": "ml.m5d.xlarge",
    "vcpuNum": 4
   },
   {
    "_defaultOrder": 14,
    "_isFastLaunch": false,
    "category": "General purpose",
    "gpuNum": 0,
    "hideHardwareSpecs": false,
    "memoryGiB": 32,
    "name": "ml.m5d.2xlarge",
    "vcpuNum": 8
   },
   {
    "_defaultOrder": 15,
    "_isFastLaunch": false,
    "category": "General purpose",
    "gpuNum": 0,
    "hideHardwareSpecs": false,
    "memoryGiB": 64,
    "name": "ml.m5d.4xlarge",
    "vcpuNum": 16
   },
   {
    "_defaultOrder": 16,
    "_isFastLaunch": false,
    "category": "General purpose",
    "gpuNum": 0,
    "hideHardwareSpecs": false,
    "memoryGiB": 128,
    "name": "ml.m5d.8xlarge",
    "vcpuNum": 32
   },
   {
    "_defaultOrder": 17,
    "_isFastLaunch": false,
    "category": "General purpose",
    "gpuNum": 0,
    "hideHardwareSpecs": false,
    "memoryGiB": 192,
    "name": "ml.m5d.12xlarge",
    "vcpuNum": 48
   },
   {
    "_defaultOrder": 18,
    "_isFastLaunch": false,
    "category": "General purpose",
    "gpuNum": 0,
    "hideHardwareSpecs": false,
    "memoryGiB": 256,
    "name": "ml.m5d.16xlarge",
    "vcpuNum": 64
   },
   {
    "_defaultOrder": 19,
    "_isFastLaunch": false,
    "category": "General purpose",
    "gpuNum": 0,
    "hideHardwareSpecs": false,
    "memoryGiB": 384,
    "name": "ml.m5d.24xlarge",
    "vcpuNum": 96
   },
   {
    "_defaultOrder": 20,
    "_isFastLaunch": false,
    "category": "General purpose",
    "gpuNum": 0,
    "hideHardwareSpecs": true,
    "memoryGiB": 0,
    "name": "ml.geospatial.interactive",
    "supportedImageNames": [
     "sagemaker-geospatial-v1-0"
    ],
    "vcpuNum": 0
   },
   {
    "_defaultOrder": 21,
    "_isFastLaunch": true,
    "category": "Compute optimized",
    "gpuNum": 0,
    "hideHardwareSpecs": false,
    "memoryGiB": 4,
    "name": "ml.c5.large",
    "vcpuNum": 2
   },
   {
    "_defaultOrder": 22,
    "_isFastLaunch": false,
    "category": "Compute optimized",
    "gpuNum": 0,
    "hideHardwareSpecs": false,
    "memoryGiB": 8,
    "name": "ml.c5.xlarge",
    "vcpuNum": 4
   },
   {
    "_defaultOrder": 23,
    "_isFastLaunch": false,
    "category": "Compute optimized",
    "gpuNum": 0,
    "hideHardwareSpecs": false,
    "memoryGiB": 16,
    "name": "ml.c5.2xlarge",
    "vcpuNum": 8
   },
   {
    "_defaultOrder": 24,
    "_isFastLaunch": false,
    "category": "Compute optimized",
    "gpuNum": 0,
    "hideHardwareSpecs": false,
    "memoryGiB": 32,
    "name": "ml.c5.4xlarge",
    "vcpuNum": 16
   },
   {
    "_defaultOrder": 25,
    "_isFastLaunch": false,
    "category": "Compute optimized",
    "gpuNum": 0,
    "hideHardwareSpecs": false,
    "memoryGiB": 72,
    "name": "ml.c5.9xlarge",
    "vcpuNum": 36
   },
   {
    "_defaultOrder": 26,
    "_isFastLaunch": false,
    "category": "Compute optimized",
    "gpuNum": 0,
    "hideHardwareSpecs": false,
    "memoryGiB": 96,
    "name": "ml.c5.12xlarge",
    "vcpuNum": 48
   },
   {
    "_defaultOrder": 27,
    "_isFastLaunch": false,
    "category": "Compute optimized",
    "gpuNum": 0,
    "hideHardwareSpecs": false,
    "memoryGiB": 144,
    "name": "ml.c5.18xlarge",
    "vcpuNum": 72
   },
   {
    "_defaultOrder": 28,
    "_isFastLaunch": false,
    "category": "Compute optimized",
    "gpuNum": 0,
    "hideHardwareSpecs": false,
    "memoryGiB": 192,
    "name": "ml.c5.24xlarge",
    "vcpuNum": 96
   },
   {
    "_defaultOrder": 29,
    "_isFastLaunch": true,
    "category": "Accelerated computing",
    "gpuNum": 1,
    "hideHardwareSpecs": false,
    "memoryGiB": 16,
    "name": "ml.g4dn.xlarge",
    "vcpuNum": 4
   },
   {
    "_defaultOrder": 30,
    "_isFastLaunch": false,
    "category": "Accelerated computing",
    "gpuNum": 1,
    "hideHardwareSpecs": false,
    "memoryGiB": 32,
    "name": "ml.g4dn.2xlarge",
    "vcpuNum": 8
   },
   {
    "_defaultOrder": 31,
    "_isFastLaunch": false,
    "category": "Accelerated computing",
    "gpuNum": 1,
    "hideHardwareSpecs": false,
    "memoryGiB": 64,
    "name": "ml.g4dn.4xlarge",
    "vcpuNum": 16
   },
   {
    "_defaultOrder": 32,
    "_isFastLaunch": false,
    "category": "Accelerated computing",
    "gpuNum": 1,
    "hideHardwareSpecs": false,
    "memoryGiB": 128,
    "name": "ml.g4dn.8xlarge",
    "vcpuNum": 32
   },
   {
    "_defaultOrder": 33,
    "_isFastLaunch": false,
    "category": "Accelerated computing",
    "gpuNum": 4,
    "hideHardwareSpecs": false,
    "memoryGiB": 192,
    "name": "ml.g4dn.12xlarge",
    "vcpuNum": 48
   },
   {
    "_defaultOrder": 34,
    "_isFastLaunch": false,
    "category": "Accelerated computing",
    "gpuNum": 1,
    "hideHardwareSpecs": false,
    "memoryGiB": 256,
    "name": "ml.g4dn.16xlarge",
    "vcpuNum": 64
   },
   {
    "_defaultOrder": 35,
    "_isFastLaunch": false,
    "category": "Accelerated computing",
    "gpuNum": 1,
    "hideHardwareSpecs": false,
    "memoryGiB": 61,
    "name": "ml.p3.2xlarge",
    "vcpuNum": 8
   },
   {
    "_defaultOrder": 36,
    "_isFastLaunch": false,
    "category": "Accelerated computing",
    "gpuNum": 4,
    "hideHardwareSpecs": false,
    "memoryGiB": 244,
    "name": "ml.p3.8xlarge",
    "vcpuNum": 32
   },
   {
    "_defaultOrder": 37,
    "_isFastLaunch": false,
    "category": "Accelerated computing",
    "gpuNum": 8,
    "hideHardwareSpecs": false,
    "memoryGiB": 488,
    "name": "ml.p3.16xlarge",
    "vcpuNum": 64
   },
   {
    "_defaultOrder": 38,
    "_isFastLaunch": false,
    "category": "Accelerated computing",
    "gpuNum": 8,
    "hideHardwareSpecs": false,
    "memoryGiB": 768,
    "name": "ml.p3dn.24xlarge",
    "vcpuNum": 96
   },
   {
    "_defaultOrder": 39,
    "_isFastLaunch": false,
    "category": "Memory Optimized",
    "gpuNum": 0,
    "hideHardwareSpecs": false,
    "memoryGiB": 16,
    "name": "ml.r5.large",
    "vcpuNum": 2
   },
   {
    "_defaultOrder": 40,
    "_isFastLaunch": false,
    "category": "Memory Optimized",
    "gpuNum": 0,
    "hideHardwareSpecs": false,
    "memoryGiB": 32,
    "name": "ml.r5.xlarge",
    "vcpuNum": 4
   },
   {
    "_defaultOrder": 41,
    "_isFastLaunch": false,
    "category": "Memory Optimized",
    "gpuNum": 0,
    "hideHardwareSpecs": false,
    "memoryGiB": 64,
    "name": "ml.r5.2xlarge",
    "vcpuNum": 8
   },
   {
    "_defaultOrder": 42,
    "_isFastLaunch": false,
    "category": "Memory Optimized",
    "gpuNum": 0,
    "hideHardwareSpecs": false,
    "memoryGiB": 128,
    "name": "ml.r5.4xlarge",
    "vcpuNum": 16
   },
   {
    "_defaultOrder": 43,
    "_isFastLaunch": false,
    "category": "Memory Optimized",
    "gpuNum": 0,
    "hideHardwareSpecs": false,
    "memoryGiB": 256,
    "name": "ml.r5.8xlarge",
    "vcpuNum": 32
   },
   {
    "_defaultOrder": 44,
    "_isFastLaunch": false,
    "category": "Memory Optimized",
    "gpuNum": 0,
    "hideHardwareSpecs": false,
    "memoryGiB": 384,
    "name": "ml.r5.12xlarge",
    "vcpuNum": 48
   },
   {
    "_defaultOrder": 45,
    "_isFastLaunch": false,
    "category": "Memory Optimized",
    "gpuNum": 0,
    "hideHardwareSpecs": false,
    "memoryGiB": 512,
    "name": "ml.r5.16xlarge",
    "vcpuNum": 64
   },
   {
    "_defaultOrder": 46,
    "_isFastLaunch": false,
    "category": "Memory Optimized",
    "gpuNum": 0,
    "hideHardwareSpecs": false,
    "memoryGiB": 768,
    "name": "ml.r5.24xlarge",
    "vcpuNum": 96
   },
   {
    "_defaultOrder": 47,
    "_isFastLaunch": false,
    "category": "Accelerated computing",
    "gpuNum": 1,
    "hideHardwareSpecs": false,
    "memoryGiB": 16,
    "name": "ml.g5.xlarge",
    "vcpuNum": 4
   },
   {
    "_defaultOrder": 48,
    "_isFastLaunch": false,
    "category": "Accelerated computing",
    "gpuNum": 1,
    "hideHardwareSpecs": false,
    "memoryGiB": 32,
    "name": "ml.g5.2xlarge",
    "vcpuNum": 8
   },
   {
    "_defaultOrder": 49,
    "_isFastLaunch": false,
    "category": "Accelerated computing",
    "gpuNum": 1,
    "hideHardwareSpecs": false,
    "memoryGiB": 64,
    "name": "ml.g5.4xlarge",
    "vcpuNum": 16
   },
   {
    "_defaultOrder": 50,
    "_isFastLaunch": false,
    "category": "Accelerated computing",
    "gpuNum": 1,
    "hideHardwareSpecs": false,
    "memoryGiB": 128,
    "name": "ml.g5.8xlarge",
    "vcpuNum": 32
   },
   {
    "_defaultOrder": 51,
    "_isFastLaunch": false,
    "category": "Accelerated computing",
    "gpuNum": 1,
    "hideHardwareSpecs": false,
    "memoryGiB": 256,
    "name": "ml.g5.16xlarge",
    "vcpuNum": 64
   },
   {
    "_defaultOrder": 52,
    "_isFastLaunch": false,
    "category": "Accelerated computing",
    "gpuNum": 4,
    "hideHardwareSpecs": false,
    "memoryGiB": 192,
    "name": "ml.g5.12xlarge",
    "vcpuNum": 48
   },
   {
    "_defaultOrder": 53,
    "_isFastLaunch": false,
    "category": "Accelerated computing",
    "gpuNum": 4,
    "hideHardwareSpecs": false,
    "memoryGiB": 384,
    "name": "ml.g5.24xlarge",
    "vcpuNum": 96
   },
   {
    "_defaultOrder": 54,
    "_isFastLaunch": false,
    "category": "Accelerated computing",
    "gpuNum": 8,
    "hideHardwareSpecs": false,
    "memoryGiB": 768,
    "name": "ml.g5.48xlarge",
    "vcpuNum": 192
   },
   {
    "_defaultOrder": 55,
    "_isFastLaunch": false,
    "category": "Accelerated computing",
    "gpuNum": 8,
    "hideHardwareSpecs": false,
    "memoryGiB": 1152,
    "name": "ml.p4d.24xlarge",
    "vcpuNum": 96
   },
   {
    "_defaultOrder": 56,
    "_isFastLaunch": false,
    "category": "Accelerated computing",
    "gpuNum": 8,
    "hideHardwareSpecs": false,
    "memoryGiB": 1152,
    "name": "ml.p4de.24xlarge",
    "vcpuNum": 96
   },
   {
    "_defaultOrder": 57,
    "_isFastLaunch": false,
    "category": "Accelerated computing",
    "gpuNum": 0,
    "hideHardwareSpecs": false,
    "memoryGiB": 32,
    "name": "ml.trn1.2xlarge",
    "vcpuNum": 8
   },
   {
    "_defaultOrder": 58,
    "_isFastLaunch": false,
    "category": "Accelerated computing",
    "gpuNum": 0,
    "hideHardwareSpecs": false,
    "memoryGiB": 512,
    "name": "ml.trn1.32xlarge",
    "vcpuNum": 128
   },
   {
    "_defaultOrder": 59,
    "_isFastLaunch": false,
    "category": "Accelerated computing",
    "gpuNum": 0,
    "hideHardwareSpecs": false,
    "memoryGiB": 512,
    "name": "ml.trn1n.32xlarge",
    "vcpuNum": 128
   }
  ],
  "kernelspec": {
   "display_name": "Python 3 (Data Science 2.0)",
   "language": "python",
   "name": "python3__SAGEMAKER_INTERNAL__arn:aws:sagemaker:us-east-1:081325390199:image/sagemaker-data-science-38"
  },
  "language_info": {
   "codemirror_mode": {
    "name": "ipython",
    "version": 3
   },
   "file_extension": ".py",
   "mimetype": "text/x-python",
   "name": "python",
   "nbconvert_exporter": "python",
   "pygments_lexer": "ipython3",
   "version": "3.8.13"
  }
 },
 "nbformat": 4,
 "nbformat_minor": 5
}
